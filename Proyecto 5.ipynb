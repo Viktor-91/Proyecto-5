{
 "cells": [
  {
   "cell_type": "markdown",
   "metadata": {
    "id": "3rYiDeEH0q0f"
   },
   "source": [
    "# ¿Cuál es la mejor tarifa?\n",
    "\n",
    "Trabajas como analista para el operador de telecomunicaciones Megaline. La empresa ofrece a sus clientes dos tarifas de prepago, Surf y Ultimate. El departamento comercial quiere saber cuál de las tarifas genera más ingresos para poder ajustar el presupuesto de publicidad.\n",
    "\n",
    "Vas a realizar un análisis preliminar de las tarifas basado en una selección de clientes relativamente pequeña. Tendrás los datos de 500 clientes de Megaline: quiénes son los clientes, de dónde son, qué tarifa usan, así como la cantidad de llamadas que hicieron y los mensajes de texto que enviaron en 2018. Tu trabajo es analizar el comportamiento de los clientes y determinar qué tarifa de prepago genera más ingresos."
   ]
  },
  {
   "cell_type": "markdown",
   "metadata": {
    "id": "MQi4IPy70q0y"
   },
   "source": [
    "## Inicialización"
   ]
  },
  {
   "cell_type": "code",
   "execution_count": 1,
   "metadata": {
    "id": "MtYIuBxu0q0z"
   },
   "outputs": [],
   "source": [
    "# Cargamos todas las librerías\n",
    "import pandas as pd\n",
    "import numpy as np\n",
    "from matplotlib import pyplot as plt\n",
    "import math as mt\n",
    "from math import factorial\n",
    "from scipy import stats as st\n"
   ]
  },
  {
   "cell_type": "markdown",
   "metadata": {
    "id": "4ysWWC5i0q00"
   },
   "source": [
    "## Carga de datos"
   ]
  },
  {
   "cell_type": "code",
   "execution_count": 2,
   "metadata": {
    "id": "CCqPW7rS0q01"
   },
   "outputs": [],
   "source": [
    "# Cargamos los archivos de datos en diferentes DataFrames\n",
    "df_calls = pd.read_csv ('/datasets/megaline_calls.csv')\n",
    "df_internet = pd.read_csv ('/datasets/megaline_internet.csv')\n",
    "df_messages = pd.read_csv ('/datasets/megaline_messages.csv')\n",
    "df_plans = pd.read_csv ('/datasets/megaline_plans.csv')\n",
    "df_users = pd.read_csv ('/datasets/megaline_users.csv')"
   ]
  },
  {
   "cell_type": "markdown",
   "metadata": {
    "id": "69qqoJ3r0q01"
   },
   "source": [
    "## Preparando los datos"
   ]
  },
  {
   "cell_type": "code",
   "execution_count": 3,
   "metadata": {},
   "outputs": [],
   "source": [
    "# Aquí buscamos ver de manera general errores o ver cual es el estado de las DataFrames"
   ]
  },
  {
   "cell_type": "code",
   "execution_count": 4,
   "metadata": {},
   "outputs": [
    {
     "name": "stdout",
     "output_type": "stream",
     "text": [
      "<class 'pandas.core.frame.DataFrame'>\n",
      "RangeIndex: 137735 entries, 0 to 137734\n",
      "Data columns (total 4 columns):\n",
      " #   Column     Non-Null Count   Dtype  \n",
      "---  ------     --------------   -----  \n",
      " 0   id         137735 non-null  object \n",
      " 1   user_id    137735 non-null  int64  \n",
      " 2   call_date  137735 non-null  object \n",
      " 3   duration   137735 non-null  float64\n",
      "dtypes: float64(1), int64(1), object(2)\n",
      "memory usage: 4.2+ MB\n",
      "\n",
      "id           0\n",
      "user_id      0\n",
      "call_date    0\n",
      "duration     0\n",
      "dtype: int64\n",
      "\n",
      "          id  user_id   call_date  duration\n",
      "0    1000_93     1000  2018-12-27      8.52\n",
      "1   1000_145     1000  2018-12-27     13.66\n",
      "2   1000_247     1000  2018-12-27     14.48\n",
      "3   1000_309     1000  2018-12-28      5.76\n",
      "4   1000_380     1000  2018-12-30      4.22\n",
      "5   1000_388     1000  2018-12-31      2.20\n",
      "6   1000_510     1000  2018-12-27      5.75\n",
      "7   1000_521     1000  2018-12-28     14.18\n",
      "8   1000_530     1000  2018-12-28      5.77\n",
      "9   1000_544     1000  2018-12-26      4.40\n",
      "10  1000_693     1000  2018-12-31      4.31\n",
      "11  1000_705     1000  2018-12-31     12.78\n",
      "12  1000_735     1000  2018-12-29      1.70\n",
      "13  1000_778     1000  2018-12-28      3.29\n",
      "14  1000_826     1000  2018-12-26      9.96\n",
      "15  1000_842     1000  2018-12-27      5.85\n",
      "16    1001_0     1001  2018-09-06     10.06\n",
      "17    1001_1     1001  2018-10-12      1.00\n",
      "18    1001_2     1001  2018-10-17     15.83\n",
      "19    1001_4     1001  2018-12-05      0.00\n"
     ]
    }
   ],
   "source": [
    "df_calls.info(show_counts=True)\n",
    "print()\n",
    "print(df_calls.isna().sum())\n",
    "print()\n",
    "print(df_calls.head(20))"
   ]
  },
  {
   "cell_type": "code",
   "execution_count": 5,
   "metadata": {},
   "outputs": [
    {
     "name": "stdout",
     "output_type": "stream",
     "text": [
      "<class 'pandas.core.frame.DataFrame'>\n",
      "RangeIndex: 104825 entries, 0 to 104824\n",
      "Data columns (total 4 columns):\n",
      " #   Column        Non-Null Count   Dtype  \n",
      "---  ------        --------------   -----  \n",
      " 0   id            104825 non-null  object \n",
      " 1   user_id       104825 non-null  int64  \n",
      " 2   session_date  104825 non-null  object \n",
      " 3   mb_used       104825 non-null  float64\n",
      "dtypes: float64(1), int64(1), object(2)\n",
      "memory usage: 3.2+ MB\n",
      "\n",
      "id              0\n",
      "user_id         0\n",
      "session_date    0\n",
      "mb_used         0\n",
      "dtype: int64\n",
      "\n",
      "          id  user_id session_date  mb_used\n",
      "0    1000_13     1000   2018-12-29    89.86\n",
      "1   1000_204     1000   2018-12-31     0.00\n",
      "2   1000_379     1000   2018-12-28   660.40\n",
      "3   1000_413     1000   2018-12-26   270.99\n",
      "4   1000_442     1000   2018-12-27   880.22\n",
      "5     1001_0     1001   2018-08-24   284.68\n",
      "6     1001_3     1001   2018-12-09   656.04\n",
      "7     1001_4     1001   2018-11-04    16.97\n",
      "8    1001_10     1001   2018-11-27   135.18\n",
      "9    1001_15     1001   2018-12-13   761.92\n",
      "10   1001_16     1001   2018-10-28   501.53\n",
      "11   1001_17     1001   2018-09-05   727.29\n",
      "12   1001_24     1001   2018-09-05   622.03\n",
      "13   1001_25     1001   2018-10-14   310.43\n",
      "14   1001_26     1001   2018-09-17     0.00\n",
      "15   1001_27     1001   2018-12-13   149.17\n",
      "16   1001_28     1001   2018-10-17     0.00\n",
      "17   1001_29     1001   2018-10-09  1067.99\n",
      "18   1001_30     1001   2018-12-27   157.20\n",
      "19   1001_33     1001   2018-09-27   236.40\n"
     ]
    }
   ],
   "source": [
    "df_internet.info(show_counts=True)\n",
    "print()\n",
    "print(df_internet.isna().sum())\n",
    "print()\n",
    "print(df_internet.head(20))"
   ]
  },
  {
   "cell_type": "code",
   "execution_count": 6,
   "metadata": {},
   "outputs": [
    {
     "name": "stdout",
     "output_type": "stream",
     "text": [
      "<class 'pandas.core.frame.DataFrame'>\n",
      "RangeIndex: 76051 entries, 0 to 76050\n",
      "Data columns (total 3 columns):\n",
      " #   Column        Non-Null Count  Dtype \n",
      "---  ------        --------------  ----- \n",
      " 0   id            76051 non-null  object\n",
      " 1   user_id       76051 non-null  int64 \n",
      " 2   message_date  76051 non-null  object\n",
      "dtypes: int64(1), object(2)\n",
      "memory usage: 1.7+ MB\n",
      "\n",
      "id              0\n",
      "user_id         0\n",
      "message_date    0\n",
      "dtype: int64\n",
      "\n",
      "          id  user_id message_date\n",
      "0   1000_125     1000   2018-12-27\n",
      "1   1000_160     1000   2018-12-31\n",
      "2   1000_223     1000   2018-12-31\n",
      "3   1000_251     1000   2018-12-27\n",
      "4   1000_255     1000   2018-12-26\n",
      "5   1000_346     1000   2018-12-29\n",
      "6   1000_386     1000   2018-12-30\n",
      "7   1000_413     1000   2018-12-31\n",
      "8   1000_502     1000   2018-12-27\n",
      "9   1000_525     1000   2018-12-28\n",
      "10  1000_567     1000   2018-12-25\n",
      "11    1001_1     1001   2018-11-14\n",
      "12    1001_2     1001   2018-08-17\n",
      "13    1001_5     1001   2018-12-05\n",
      "14    1001_7     1001   2018-11-28\n",
      "15    1001_9     1001   2018-10-23\n",
      "16   1001_10     1001   2018-09-01\n",
      "17   1001_11     1001   2018-11-18\n",
      "18   1001_17     1001   2018-12-11\n",
      "19   1001_18     1001   2018-10-01\n"
     ]
    }
   ],
   "source": [
    "df_messages.info(show_counts=True)\n",
    "print()\n",
    "print(df_messages.isna().sum())\n",
    "print()\n",
    "print(df_messages.head(20))"
   ]
  },
  {
   "cell_type": "code",
   "execution_count": 7,
   "metadata": {},
   "outputs": [
    {
     "name": "stdout",
     "output_type": "stream",
     "text": [
      "<class 'pandas.core.frame.DataFrame'>\n",
      "RangeIndex: 2 entries, 0 to 1\n",
      "Data columns (total 8 columns):\n",
      " #   Column                 Non-Null Count  Dtype  \n",
      "---  ------                 --------------  -----  \n",
      " 0   messages_included      2 non-null      int64  \n",
      " 1   mb_per_month_included  2 non-null      int64  \n",
      " 2   minutes_included       2 non-null      int64  \n",
      " 3   usd_monthly_pay        2 non-null      int64  \n",
      " 4   usd_per_gb             2 non-null      int64  \n",
      " 5   usd_per_message        2 non-null      float64\n",
      " 6   usd_per_minute         2 non-null      float64\n",
      " 7   plan_name              2 non-null      object \n",
      "dtypes: float64(2), int64(5), object(1)\n",
      "memory usage: 256.0+ bytes\n",
      "\n",
      "messages_included        0\n",
      "mb_per_month_included    0\n",
      "minutes_included         0\n",
      "usd_monthly_pay          0\n",
      "usd_per_gb               0\n",
      "usd_per_message          0\n",
      "usd_per_minute           0\n",
      "plan_name                0\n",
      "dtype: int64\n",
      "\n",
      "   messages_included  mb_per_month_included  minutes_included  \\\n",
      "0                 50                  15360               500   \n",
      "1               1000                  30720              3000   \n",
      "\n",
      "   usd_monthly_pay  usd_per_gb  usd_per_message  usd_per_minute plan_name  \n",
      "0               20          10             0.03            0.03      surf  \n",
      "1               70           7             0.01            0.01  ultimate  \n"
     ]
    }
   ],
   "source": [
    "df_plans.info(show_counts=True)\n",
    "print()\n",
    "print(df_plans.isna().sum())\n",
    "print()\n",
    "print(df_plans.head())"
   ]
  },
  {
   "cell_type": "code",
   "execution_count": 8,
   "metadata": {},
   "outputs": [
    {
     "name": "stdout",
     "output_type": "stream",
     "text": [
      "<class 'pandas.core.frame.DataFrame'>\n",
      "RangeIndex: 500 entries, 0 to 499\n",
      "Data columns (total 8 columns):\n",
      " #   Column      Non-Null Count  Dtype \n",
      "---  ------      --------------  ----- \n",
      " 0   user_id     500 non-null    int64 \n",
      " 1   first_name  500 non-null    object\n",
      " 2   last_name   500 non-null    object\n",
      " 3   age         500 non-null    int64 \n",
      " 4   city        500 non-null    object\n",
      " 5   reg_date    500 non-null    object\n",
      " 6   plan        500 non-null    object\n",
      " 7   churn_date  34 non-null     object\n",
      "dtypes: int64(2), object(6)\n",
      "memory usage: 31.4+ KB\n",
      "\n",
      "user_id         0\n",
      "first_name      0\n",
      "last_name       0\n",
      "age             0\n",
      "city            0\n",
      "reg_date        0\n",
      "plan            0\n",
      "churn_date    466\n",
      "dtype: int64\n",
      "\n",
      "    user_id first_name  last_name  age  \\\n",
      "0      1000   Anamaria      Bauer   45   \n",
      "1      1001     Mickey  Wilkerson   28   \n",
      "2      1002     Carlee    Hoffman   36   \n",
      "3      1003   Reynaldo    Jenkins   52   \n",
      "4      1004    Leonila   Thompson   40   \n",
      "5      1005      Livia    Shields   31   \n",
      "6      1006     Jesusa   Bradford   73   \n",
      "7      1007    Eusebio      Welch   42   \n",
      "8      1008      Emely    Hoffman   53   \n",
      "9      1009      Gerry     Little   19   \n",
      "10     1010     Wilber      Blair   52   \n",
      "11     1011     Halina      Henry   73   \n",
      "12     1012    Jonelle    Mcbride   59   \n",
      "13     1013    Nicolas     Snider   50   \n",
      "14     1014    Edmundo      Simon   61   \n",
      "15     1015      Beata  Carpenter   26   \n",
      "16     1016       Jann    Salinas   30   \n",
      "17     1017      Boris      Gates   61   \n",
      "18     1018     Dennis     Grimes   70   \n",
      "19     1019     Shizue     Landry   34   \n",
      "\n",
      "                                                city    reg_date      plan  \\\n",
      "0              Atlanta-Sandy Springs-Roswell, GA MSA  2018-12-24  ultimate   \n",
      "1                    Seattle-Tacoma-Bellevue, WA MSA  2018-08-13      surf   \n",
      "2               Las Vegas-Henderson-Paradise, NV MSA  2018-10-21      surf   \n",
      "3                                      Tulsa, OK MSA  2018-01-28      surf   \n",
      "4                    Seattle-Tacoma-Bellevue, WA MSA  2018-05-23      surf   \n",
      "5                Dallas-Fort Worth-Arlington, TX MSA  2018-11-29      surf   \n",
      "6             San Francisco-Oakland-Berkeley, CA MSA  2018-11-27  ultimate   \n",
      "7                      Grand Rapids-Kentwood, MI MSA  2018-07-11      surf   \n",
      "8                  Orlando-Kissimmee-Sanford, FL MSA  2018-08-03  ultimate   \n",
      "9             San Jose-Sunnyvale-Santa Clara, CA MSA  2018-04-22      surf   \n",
      "10               Dallas-Fort Worth-Arlington, TX MSA  2018-03-09      surf   \n",
      "11                          Cleveland-Elyria, OH MSA  2018-01-18  ultimate   \n",
      "12            Chicago-Naperville-Elgin, IL-IN-WI MSA  2018-06-28      surf   \n",
      "13                                 Knoxville, TN MSA  2018-12-01  ultimate   \n",
      "14         New York-Newark-Jersey City, NY-NJ-PA MSA  2018-11-25      surf   \n",
      "15                                Pittsburgh, PA MSA  2018-12-05      surf   \n",
      "16                                    Fresno, CA MSA  2018-10-25      surf   \n",
      "17  Washington-Arlington-Alexandria, DC-VA-MD-WV MSA  2018-08-26      surf   \n",
      "18              Indianapolis-Carmel-Anderson, IN MSA  2018-10-17      surf   \n",
      "19                              Jacksonville, FL MSA  2018-01-16      surf   \n",
      "\n",
      "    churn_date  \n",
      "0          NaN  \n",
      "1          NaN  \n",
      "2          NaN  \n",
      "3          NaN  \n",
      "4          NaN  \n",
      "5          NaN  \n",
      "6   2018-12-18  \n",
      "7          NaN  \n",
      "8          NaN  \n",
      "9          NaN  \n",
      "10         NaN  \n",
      "11         NaN  \n",
      "12  2018-11-16  \n",
      "13         NaN  \n",
      "14         NaN  \n",
      "15         NaN  \n",
      "16         NaN  \n",
      "17         NaN  \n",
      "18         NaN  \n",
      "19         NaN  \n"
     ]
    }
   ],
   "source": [
    "df_users.info(show_counts=True)\n",
    "print()\n",
    "print(df_users.isna().sum())\n",
    "print()\n",
    "print(df_users.head(20))"
   ]
  },
  {
   "cell_type": "markdown",
   "metadata": {
    "id": "ohBhimvH0q01"
   },
   "source": [
    "## Tarifas"
   ]
  },
  {
   "cell_type": "markdown",
   "metadata": {},
   "source": [
    "# Aquí he analizado los datos de las tarifas, explicando de manera clara las condiciones de cada plan y me aseguré de corregir y transformar los valores para facilitar el análisis posterior."
   ]
  },
  {
   "cell_type": "code",
   "execution_count": 9,
   "metadata": {
    "id": "GptqP3Q40q02"
   },
   "outputs": [
    {
     "name": "stdout",
     "output_type": "stream",
     "text": [
      "<class 'pandas.core.frame.DataFrame'>\n",
      "RangeIndex: 2 entries, 0 to 1\n",
      "Data columns (total 8 columns):\n",
      " #   Column                 Non-Null Count  Dtype  \n",
      "---  ------                 --------------  -----  \n",
      " 0   messages_included      2 non-null      int64  \n",
      " 1   mb_per_month_included  2 non-null      int64  \n",
      " 2   minutes_included       2 non-null      int64  \n",
      " 3   usd_monthly_pay        2 non-null      int64  \n",
      " 4   usd_per_gb             2 non-null      int64  \n",
      " 5   usd_per_message        2 non-null      float64\n",
      " 6   usd_per_minute         2 non-null      float64\n",
      " 7   plan_name              2 non-null      object \n",
      "dtypes: float64(2), int64(5), object(1)\n",
      "memory usage: 256.0+ bytes\n"
     ]
    }
   ],
   "source": [
    "# Imprimiendo la información general/resumida sobre el DataFrame de las tarifas\n",
    "df_plans.info()"
   ]
  },
  {
   "cell_type": "code",
   "execution_count": 10,
   "metadata": {
    "id": "64xzjwL70q02"
   },
   "outputs": [
    {
     "data": {
      "text/html": [
       "<div>\n",
       "<style scoped>\n",
       "    .dataframe tbody tr th:only-of-type {\n",
       "        vertical-align: middle;\n",
       "    }\n",
       "\n",
       "    .dataframe tbody tr th {\n",
       "        vertical-align: top;\n",
       "    }\n",
       "\n",
       "    .dataframe thead th {\n",
       "        text-align: right;\n",
       "    }\n",
       "</style>\n",
       "<table border=\"1\" class=\"dataframe\">\n",
       "  <thead>\n",
       "    <tr style=\"text-align: right;\">\n",
       "      <th></th>\n",
       "      <th>messages_included</th>\n",
       "      <th>mb_per_month_included</th>\n",
       "      <th>minutes_included</th>\n",
       "      <th>usd_monthly_pay</th>\n",
       "      <th>usd_per_gb</th>\n",
       "      <th>usd_per_message</th>\n",
       "      <th>usd_per_minute</th>\n",
       "      <th>plan_name</th>\n",
       "    </tr>\n",
       "  </thead>\n",
       "  <tbody>\n",
       "    <tr>\n",
       "      <th>0</th>\n",
       "      <td>50</td>\n",
       "      <td>15360</td>\n",
       "      <td>500</td>\n",
       "      <td>20</td>\n",
       "      <td>10</td>\n",
       "      <td>0.03</td>\n",
       "      <td>0.03</td>\n",
       "      <td>surf</td>\n",
       "    </tr>\n",
       "    <tr>\n",
       "      <th>1</th>\n",
       "      <td>1000</td>\n",
       "      <td>30720</td>\n",
       "      <td>3000</td>\n",
       "      <td>70</td>\n",
       "      <td>7</td>\n",
       "      <td>0.01</td>\n",
       "      <td>0.01</td>\n",
       "      <td>ultimate</td>\n",
       "    </tr>\n",
       "  </tbody>\n",
       "</table>\n",
       "</div>"
      ],
      "text/plain": [
       "   messages_included  mb_per_month_included  minutes_included  \\\n",
       "0                 50                  15360               500   \n",
       "1               1000                  30720              3000   \n",
       "\n",
       "   usd_monthly_pay  usd_per_gb  usd_per_message  usd_per_minute plan_name  \n",
       "0               20          10             0.03            0.03      surf  \n",
       "1               70           7             0.01            0.01  ultimate  "
      ]
     },
     "metadata": {},
     "output_type": "display_data"
    }
   ],
   "source": [
    "# Imprime una muestra de los datos para las tarifas\n",
    "display(df_plans)"
   ]
  },
  {
   "cell_type": "markdown",
   "metadata": {
    "id": "mEc_3_hs0q02"
   },
   "source": [
    "[Describe lo que ves y observas en la información general y en la muestra de datos impresa para el precio de datos anterior. ¿Hay algún problema (tipos de datos no adecuados, datos ausentes, etc.) que pudieran necesitar investigación y cambios adicionales? ¿Cómo se puede arreglar?]\n",
    "\n",
    "#En general creo que los datos y tipos de datos están bien, solo podría aclararse que las columnas usd_per_gb, usd_per_message y usd_per_minute podrían aclarar que son adicionales al plan en caso de que se acaben los incluídos en el paquete."
   ]
  },
  {
   "cell_type": "markdown",
   "metadata": {
    "id": "R3C05i1l0q03"
   },
   "source": [
    "## Corregir datos"
   ]
  },
  {
   "cell_type": "markdown",
   "metadata": {
    "id": "bIi8StZI0q03"
   },
   "source": [
    "[Corrige los problemas obvios con los datos basándote en las observaciones iniciales.]"
   ]
  },
  {
   "cell_type": "code",
   "execution_count": 11,
   "metadata": {
    "id": "Y7SVmjGn0q03"
   },
   "outputs": [
    {
     "data": {
      "text/html": [
       "<div>\n",
       "<style scoped>\n",
       "    .dataframe tbody tr th:only-of-type {\n",
       "        vertical-align: middle;\n",
       "    }\n",
       "\n",
       "    .dataframe tbody tr th {\n",
       "        vertical-align: top;\n",
       "    }\n",
       "\n",
       "    .dataframe thead th {\n",
       "        text-align: right;\n",
       "    }\n",
       "</style>\n",
       "<table border=\"1\" class=\"dataframe\">\n",
       "  <thead>\n",
       "    <tr style=\"text-align: right;\">\n",
       "      <th></th>\n",
       "      <th>messages_included</th>\n",
       "      <th>gb_per_month_included</th>\n",
       "      <th>minutes_included</th>\n",
       "      <th>usd_monthly_pay</th>\n",
       "      <th>usd_per_gb</th>\n",
       "      <th>usd_per_message</th>\n",
       "      <th>usd_per_minute</th>\n",
       "      <th>plan</th>\n",
       "    </tr>\n",
       "  </thead>\n",
       "  <tbody>\n",
       "    <tr>\n",
       "      <th>0</th>\n",
       "      <td>50</td>\n",
       "      <td>15.0</td>\n",
       "      <td>500</td>\n",
       "      <td>20</td>\n",
       "      <td>10</td>\n",
       "      <td>0.03</td>\n",
       "      <td>0.03</td>\n",
       "      <td>surf</td>\n",
       "    </tr>\n",
       "    <tr>\n",
       "      <th>1</th>\n",
       "      <td>1000</td>\n",
       "      <td>30.0</td>\n",
       "      <td>3000</td>\n",
       "      <td>70</td>\n",
       "      <td>7</td>\n",
       "      <td>0.01</td>\n",
       "      <td>0.01</td>\n",
       "      <td>ultimate</td>\n",
       "    </tr>\n",
       "  </tbody>\n",
       "</table>\n",
       "</div>"
      ],
      "text/plain": [
       "   messages_included  gb_per_month_included  minutes_included  \\\n",
       "0                 50                   15.0               500   \n",
       "1               1000                   30.0              3000   \n",
       "\n",
       "   usd_monthly_pay  usd_per_gb  usd_per_message  usd_per_minute      plan  \n",
       "0               20          10             0.03            0.03      surf  \n",
       "1               70           7             0.01            0.01  ultimate  "
      ]
     },
     "metadata": {},
     "output_type": "display_data"
    }
   ],
   "source": [
    "#Vamos a transformar los mb a gb\n",
    "df_plans['mb_per_month_included'] = df_plans['mb_per_month_included']/1024\n",
    "df_plans['mb_per_month_included'] = np.ceil(df_plans['mb_per_month_included'])\n",
    "#voy a cambiar el nombre de la columna plan_name por plan, para que coincida con el dataframe de usuarios y la columna mb_per_month... a gb_per....\n",
    "df_plans.rename(columns = {'plan_name':'plan', 'mb_per_month_included': 'gb_per_month_included'}, inplace = True) \n",
    "display(df_plans)"
   ]
  },
  {
   "cell_type": "markdown",
   "metadata": {
    "id": "1n2X6WXf0q04"
   },
   "source": [
    "## Usuarios/as"
   ]
  },
  {
   "cell_type": "markdown",
   "metadata": {},
   "source": [
    "He revisado correctamente el DataFrame de `usuarios`, identificando problemas de datos faltantes en `churn_date`. Tuve la decisión de rellenar esos valores con `active` para mostrar que estos clientes se encuentran activos."
   ]
  },
  {
   "cell_type": "code",
   "execution_count": 61,
   "metadata": {
    "id": "2NgjWFqx0q05"
   },
   "outputs": [
    {
     "name": "stdout",
     "output_type": "stream",
     "text": [
      "<class 'pandas.core.frame.DataFrame'>\n",
      "RangeIndex: 500 entries, 0 to 499\n",
      "Data columns (total 8 columns):\n",
      " #   Column      Non-Null Count  Dtype \n",
      "---  ------      --------------  ----- \n",
      " 0   user_id     500 non-null    int64 \n",
      " 1   first_name  500 non-null    object\n",
      " 2   last_name   500 non-null    object\n",
      " 3   age         500 non-null    int64 \n",
      " 4   city        500 non-null    object\n",
      " 5   reg_date    500 non-null    object\n",
      " 6   plan        500 non-null    object\n",
      " 7   churn_date  500 non-null    object\n",
      "dtypes: int64(2), object(6)\n",
      "memory usage: 31.4+ KB\n"
     ]
    }
   ],
   "source": [
    "# Imprimí la información general/resumida sobre el DataFrame de usuarios\n",
    "df_users.info()"
   ]
  },
  {
   "cell_type": "code",
   "execution_count": 14,
   "metadata": {
    "id": "1IN1L9uh0q05"
   },
   "outputs": [
    {
     "data": {
      "text/html": [
       "<div>\n",
       "<style scoped>\n",
       "    .dataframe tbody tr th:only-of-type {\n",
       "        vertical-align: middle;\n",
       "    }\n",
       "\n",
       "    .dataframe tbody tr th {\n",
       "        vertical-align: top;\n",
       "    }\n",
       "\n",
       "    .dataframe thead th {\n",
       "        text-align: right;\n",
       "    }\n",
       "</style>\n",
       "<table border=\"1\" class=\"dataframe\">\n",
       "  <thead>\n",
       "    <tr style=\"text-align: right;\">\n",
       "      <th></th>\n",
       "      <th>user_id</th>\n",
       "      <th>first_name</th>\n",
       "      <th>last_name</th>\n",
       "      <th>age</th>\n",
       "      <th>city</th>\n",
       "      <th>reg_date</th>\n",
       "      <th>plan</th>\n",
       "      <th>churn_date</th>\n",
       "    </tr>\n",
       "  </thead>\n",
       "  <tbody>\n",
       "    <tr>\n",
       "      <th>273</th>\n",
       "      <td>1273</td>\n",
       "      <td>Hermila</td>\n",
       "      <td>Ryan</td>\n",
       "      <td>25</td>\n",
       "      <td>Baton Rouge, LA MSA</td>\n",
       "      <td>2018-10-13</td>\n",
       "      <td>ultimate</td>\n",
       "      <td>NaN</td>\n",
       "    </tr>\n",
       "  </tbody>\n",
       "</table>\n",
       "</div>"
      ],
      "text/plain": [
       "     user_id first_name last_name  age                 city    reg_date  \\\n",
       "273     1273    Hermila      Ryan   25  Baton Rouge, LA MSA  2018-10-13   \n",
       "\n",
       "         plan churn_date  \n",
       "273  ultimate        NaN  "
      ]
     },
     "metadata": {},
     "output_type": "display_data"
    },
    {
     "data": {
      "text/html": [
       "<div>\n",
       "<style scoped>\n",
       "    .dataframe tbody tr th:only-of-type {\n",
       "        vertical-align: middle;\n",
       "    }\n",
       "\n",
       "    .dataframe tbody tr th {\n",
       "        vertical-align: top;\n",
       "    }\n",
       "\n",
       "    .dataframe thead th {\n",
       "        text-align: right;\n",
       "    }\n",
       "</style>\n",
       "<table border=\"1\" class=\"dataframe\">\n",
       "  <thead>\n",
       "    <tr style=\"text-align: right;\">\n",
       "      <th></th>\n",
       "      <th>user_id</th>\n",
       "      <th>first_name</th>\n",
       "      <th>last_name</th>\n",
       "      <th>age</th>\n",
       "      <th>city</th>\n",
       "      <th>reg_date</th>\n",
       "      <th>plan</th>\n",
       "      <th>churn_date</th>\n",
       "    </tr>\n",
       "  </thead>\n",
       "  <tbody>\n",
       "    <tr>\n",
       "      <th>249</th>\n",
       "      <td>1249</td>\n",
       "      <td>Kelly</td>\n",
       "      <td>Goodman</td>\n",
       "      <td>41</td>\n",
       "      <td>Cincinnati, OH-KY-IN MSA</td>\n",
       "      <td>2018-05-14</td>\n",
       "      <td>ultimate</td>\n",
       "      <td>NaN</td>\n",
       "    </tr>\n",
       "    <tr>\n",
       "      <th>338</th>\n",
       "      <td>1338</td>\n",
       "      <td>Janise</td>\n",
       "      <td>Bowman</td>\n",
       "      <td>21</td>\n",
       "      <td>Minneapolis-St. Paul-Bloomington, MN-WI MSA</td>\n",
       "      <td>2018-08-09</td>\n",
       "      <td>surf</td>\n",
       "      <td>NaN</td>\n",
       "    </tr>\n",
       "    <tr>\n",
       "      <th>111</th>\n",
       "      <td>1111</td>\n",
       "      <td>Booker</td>\n",
       "      <td>Hahn</td>\n",
       "      <td>75</td>\n",
       "      <td>Urban Honolulu, HI MSA</td>\n",
       "      <td>2018-09-17</td>\n",
       "      <td>surf</td>\n",
       "      <td>NaN</td>\n",
       "    </tr>\n",
       "    <tr>\n",
       "      <th>55</th>\n",
       "      <td>1055</td>\n",
       "      <td>Patrick</td>\n",
       "      <td>Mclean</td>\n",
       "      <td>52</td>\n",
       "      <td>Portland-Vancouver-Hillsboro, OR-WA MSA</td>\n",
       "      <td>2018-01-13</td>\n",
       "      <td>surf</td>\n",
       "      <td>NaN</td>\n",
       "    </tr>\n",
       "    <tr>\n",
       "      <th>239</th>\n",
       "      <td>1239</td>\n",
       "      <td>Quentin</td>\n",
       "      <td>Hancock</td>\n",
       "      <td>24</td>\n",
       "      <td>Fresno, CA MSA</td>\n",
       "      <td>2018-08-11</td>\n",
       "      <td>surf</td>\n",
       "      <td>NaN</td>\n",
       "    </tr>\n",
       "  </tbody>\n",
       "</table>\n",
       "</div>"
      ],
      "text/plain": [
       "     user_id first_name last_name  age  \\\n",
       "249     1249      Kelly   Goodman   41   \n",
       "338     1338     Janise    Bowman   21   \n",
       "111     1111     Booker      Hahn   75   \n",
       "55      1055    Patrick    Mclean   52   \n",
       "239     1239    Quentin   Hancock   24   \n",
       "\n",
       "                                            city    reg_date      plan  \\\n",
       "249                     Cincinnati, OH-KY-IN MSA  2018-05-14  ultimate   \n",
       "338  Minneapolis-St. Paul-Bloomington, MN-WI MSA  2018-08-09      surf   \n",
       "111                       Urban Honolulu, HI MSA  2018-09-17      surf   \n",
       "55       Portland-Vancouver-Hillsboro, OR-WA MSA  2018-01-13      surf   \n",
       "239                               Fresno, CA MSA  2018-08-11      surf   \n",
       "\n",
       "    churn_date  \n",
       "249        NaN  \n",
       "338        NaN  \n",
       "111        NaN  \n",
       "55         NaN  \n",
       "239        NaN  "
      ]
     },
     "metadata": {},
     "output_type": "display_data"
    }
   ],
   "source": [
    "# Imprimí una muestra de datos para usuarios\n",
    "display(df_users[df_users['user_id']== 1273])\n",
    "\n",
    "display(df_users.sample(5))"
   ]
  },
  {
   "cell_type": "markdown",
   "metadata": {
    "id": "dCZoUq4f0q06"
   },
   "source": [
    "#Los valores ausentes en la columna \"churn_date\", pueden cambiarse a activo, en lugar de un valor ausente, ya que esta columna da la fecha en la que el servicio fue abandonado"
   ]
  },
  {
   "cell_type": "markdown",
   "metadata": {
    "id": "BX5FQh_I0q06"
   },
   "source": [
    "### Corregir los datos"
   ]
  },
  {
   "cell_type": "markdown",
   "metadata": {
    "id": "8OdKMwJv0q06"
   },
   "source": [
    "# Corregí los problemas con los datos basándote en las observaciones iniciales."
   ]
  },
  {
   "cell_type": "code",
   "execution_count": 15,
   "metadata": {
    "id": "yUqX-K0C0q07"
   },
   "outputs": [
    {
     "name": "stdout",
     "output_type": "stream",
     "text": [
      "   user_id first_name  last_name  age                                   city  \\\n",
      "0     1000   Anamaria      Bauer   45  Atlanta-Sandy Springs-Roswell, GA MSA   \n",
      "1     1001     Mickey  Wilkerson   28        Seattle-Tacoma-Bellevue, WA MSA   \n",
      "2     1002     Carlee    Hoffman   36   Las Vegas-Henderson-Paradise, NV MSA   \n",
      "3     1003   Reynaldo    Jenkins   52                          Tulsa, OK MSA   \n",
      "4     1004    Leonila   Thompson   40        Seattle-Tacoma-Bellevue, WA MSA   \n",
      "\n",
      "     reg_date      plan churn_date  \n",
      "0  2018-12-24  ultimate     active  \n",
      "1  2018-08-13      surf     active  \n",
      "2  2018-10-21      surf     active  \n",
      "3  2018-01-28      surf     active  \n",
      "4  2018-05-23      surf     active  \n"
     ]
    }
   ],
   "source": [
    "df_users['churn_date'] = df_users['churn_date'].fillna('active')\n",
    "print(df_users.head())"
   ]
  },
  {
   "cell_type": "markdown",
   "metadata": {
    "id": "ycwuARJp0q07"
   },
   "source": [
    "### Enriquecer los datos"
   ]
  },
  {
   "cell_type": "markdown",
   "metadata": {
    "id": "o7MeKCid0q08"
   },
   "source": [
    "## Llamadas"
   ]
  },
  {
   "cell_type": "code",
   "execution_count": 17,
   "metadata": {
    "id": "6dDlnoDm0q08"
   },
   "outputs": [
    {
     "name": "stdout",
     "output_type": "stream",
     "text": [
      "<class 'pandas.core.frame.DataFrame'>\n",
      "RangeIndex: 137735 entries, 0 to 137734\n",
      "Data columns (total 4 columns):\n",
      " #   Column     Non-Null Count   Dtype  \n",
      "---  ------     --------------   -----  \n",
      " 0   id         137735 non-null  object \n",
      " 1   user_id    137735 non-null  int64  \n",
      " 2   call_date  137735 non-null  object \n",
      " 3   duration   137735 non-null  float64\n",
      "dtypes: float64(1), int64(1), object(2)\n",
      "memory usage: 4.2+ MB\n"
     ]
    }
   ],
   "source": [
    "# Imprimí la información general/resumida sobre el DataFrame de las llamadas\n",
    "df_calls.info()"
   ]
  },
  {
   "cell_type": "code",
   "execution_count": 18,
   "metadata": {
    "id": "kuh1vlNB0q09"
   },
   "outputs": [
    {
     "data": {
      "text/html": [
       "<div>\n",
       "<style scoped>\n",
       "    .dataframe tbody tr th:only-of-type {\n",
       "        vertical-align: middle;\n",
       "    }\n",
       "\n",
       "    .dataframe tbody tr th {\n",
       "        vertical-align: top;\n",
       "    }\n",
       "\n",
       "    .dataframe thead th {\n",
       "        text-align: right;\n",
       "    }\n",
       "</style>\n",
       "<table border=\"1\" class=\"dataframe\">\n",
       "  <thead>\n",
       "    <tr style=\"text-align: right;\">\n",
       "      <th></th>\n",
       "      <th>id</th>\n",
       "      <th>user_id</th>\n",
       "      <th>call_date</th>\n",
       "      <th>duration</th>\n",
       "    </tr>\n",
       "  </thead>\n",
       "  <tbody>\n",
       "    <tr>\n",
       "      <th>75118</th>\n",
       "      <td>1264_497</td>\n",
       "      <td>1264</td>\n",
       "      <td>2018-10-28</td>\n",
       "      <td>0.00</td>\n",
       "    </tr>\n",
       "    <tr>\n",
       "      <th>81651</th>\n",
       "      <td>1294_1</td>\n",
       "      <td>1294</td>\n",
       "      <td>2018-10-29</td>\n",
       "      <td>15.19</td>\n",
       "    </tr>\n",
       "    <tr>\n",
       "      <th>9172</th>\n",
       "      <td>1042_98</td>\n",
       "      <td>1042</td>\n",
       "      <td>2018-03-15</td>\n",
       "      <td>12.90</td>\n",
       "    </tr>\n",
       "    <tr>\n",
       "      <th>89193</th>\n",
       "      <td>1324_1264</td>\n",
       "      <td>1324</td>\n",
       "      <td>2018-05-07</td>\n",
       "      <td>17.30</td>\n",
       "    </tr>\n",
       "    <tr>\n",
       "      <th>15237</th>\n",
       "      <td>1061_179</td>\n",
       "      <td>1061</td>\n",
       "      <td>2018-12-17</td>\n",
       "      <td>9.09</td>\n",
       "    </tr>\n",
       "  </tbody>\n",
       "</table>\n",
       "</div>"
      ],
      "text/plain": [
       "              id  user_id   call_date  duration\n",
       "75118   1264_497     1264  2018-10-28      0.00\n",
       "81651     1294_1     1294  2018-10-29     15.19\n",
       "9172     1042_98     1042  2018-03-15     12.90\n",
       "89193  1324_1264     1324  2018-05-07     17.30\n",
       "15237   1061_179     1061  2018-12-17      9.09"
      ]
     },
     "metadata": {},
     "output_type": "display_data"
    }
   ],
   "source": [
    "# Imprimí una muestra de datos para las llamadas\n",
    "display(df_calls.sample(5))"
   ]
  },
  {
   "cell_type": "markdown",
   "metadata": {
    "id": "YxWyAjD20q0-"
   },
   "source": [
    "# Corrigiendo los problemas obvios con los datos basándote en las observaciones iniciales"
   ]
  },
  {
   "cell_type": "code",
   "execution_count": 19,
   "metadata": {
    "id": "S2r8xA4f0q0-"
   },
   "outputs": [
    {
     "data": {
      "text/html": [
       "<div>\n",
       "<style scoped>\n",
       "    .dataframe tbody tr th:only-of-type {\n",
       "        vertical-align: middle;\n",
       "    }\n",
       "\n",
       "    .dataframe tbody tr th {\n",
       "        vertical-align: top;\n",
       "    }\n",
       "\n",
       "    .dataframe thead th {\n",
       "        text-align: right;\n",
       "    }\n",
       "</style>\n",
       "<table border=\"1\" class=\"dataframe\">\n",
       "  <thead>\n",
       "    <tr style=\"text-align: right;\">\n",
       "      <th></th>\n",
       "      <th>id</th>\n",
       "      <th>user_id</th>\n",
       "      <th>call_date</th>\n",
       "      <th>duration</th>\n",
       "    </tr>\n",
       "  </thead>\n",
       "  <tbody>\n",
       "    <tr>\n",
       "      <th>0</th>\n",
       "      <td>1000_93</td>\n",
       "      <td>1000</td>\n",
       "      <td>2018-12-27</td>\n",
       "      <td>9.0</td>\n",
       "    </tr>\n",
       "    <tr>\n",
       "      <th>1</th>\n",
       "      <td>1000_145</td>\n",
       "      <td>1000</td>\n",
       "      <td>2018-12-27</td>\n",
       "      <td>14.0</td>\n",
       "    </tr>\n",
       "    <tr>\n",
       "      <th>2</th>\n",
       "      <td>1000_247</td>\n",
       "      <td>1000</td>\n",
       "      <td>2018-12-27</td>\n",
       "      <td>15.0</td>\n",
       "    </tr>\n",
       "    <tr>\n",
       "      <th>3</th>\n",
       "      <td>1000_309</td>\n",
       "      <td>1000</td>\n",
       "      <td>2018-12-28</td>\n",
       "      <td>6.0</td>\n",
       "    </tr>\n",
       "    <tr>\n",
       "      <th>4</th>\n",
       "      <td>1000_380</td>\n",
       "      <td>1000</td>\n",
       "      <td>2018-12-30</td>\n",
       "      <td>5.0</td>\n",
       "    </tr>\n",
       "    <tr>\n",
       "      <th>...</th>\n",
       "      <td>...</td>\n",
       "      <td>...</td>\n",
       "      <td>...</td>\n",
       "      <td>...</td>\n",
       "    </tr>\n",
       "    <tr>\n",
       "      <th>137730</th>\n",
       "      <td>1499_199</td>\n",
       "      <td>1499</td>\n",
       "      <td>2018-11-21</td>\n",
       "      <td>9.0</td>\n",
       "    </tr>\n",
       "    <tr>\n",
       "      <th>137731</th>\n",
       "      <td>1499_200</td>\n",
       "      <td>1499</td>\n",
       "      <td>2018-10-20</td>\n",
       "      <td>11.0</td>\n",
       "    </tr>\n",
       "    <tr>\n",
       "      <th>137732</th>\n",
       "      <td>1499_201</td>\n",
       "      <td>1499</td>\n",
       "      <td>2018-09-21</td>\n",
       "      <td>9.0</td>\n",
       "    </tr>\n",
       "    <tr>\n",
       "      <th>137733</th>\n",
       "      <td>1499_202</td>\n",
       "      <td>1499</td>\n",
       "      <td>2018-10-10</td>\n",
       "      <td>1.0</td>\n",
       "    </tr>\n",
       "    <tr>\n",
       "      <th>137734</th>\n",
       "      <td>1499_203</td>\n",
       "      <td>1499</td>\n",
       "      <td>2018-12-29</td>\n",
       "      <td>14.0</td>\n",
       "    </tr>\n",
       "  </tbody>\n",
       "</table>\n",
       "<p>137735 rows × 4 columns</p>\n",
       "</div>"
      ],
      "text/plain": [
       "              id user_id  call_date  duration\n",
       "0        1000_93    1000 2018-12-27       9.0\n",
       "1       1000_145    1000 2018-12-27      14.0\n",
       "2       1000_247    1000 2018-12-27      15.0\n",
       "3       1000_309    1000 2018-12-28       6.0\n",
       "4       1000_380    1000 2018-12-30       5.0\n",
       "...          ...     ...        ...       ...\n",
       "137730  1499_199    1499 2018-11-21       9.0\n",
       "137731  1499_200    1499 2018-10-20      11.0\n",
       "137732  1499_201    1499 2018-09-21       9.0\n",
       "137733  1499_202    1499 2018-10-10       1.0\n",
       "137734  1499_203    1499 2018-12-29      14.0\n",
       "\n",
       "[137735 rows x 4 columns]"
      ]
     },
     "metadata": {},
     "output_type": "display_data"
    },
    {
     "name": "stdout",
     "output_type": "stream",
     "text": [
      "<class 'pandas.core.frame.DataFrame'>\n",
      "RangeIndex: 137735 entries, 0 to 137734\n",
      "Data columns (total 4 columns):\n",
      " #   Column     Non-Null Count   Dtype         \n",
      "---  ------     --------------   -----         \n",
      " 0   id         137735 non-null  object        \n",
      " 1   user_id    137735 non-null  object        \n",
      " 2   call_date  137735 non-null  datetime64[ns]\n",
      " 3   duration   137735 non-null  float64       \n",
      "dtypes: datetime64[ns](1), float64(1), object(2)\n",
      "memory usage: 4.2+ MB\n"
     ]
    }
   ],
   "source": [
    "#Se transforma la columna call_date a datetime\n",
    "df_calls['call_date'] = pd.to_datetime(df_calls['call_date'], format = '%Y-%m-%d')\n",
    "#Se transforma la columna user_id a string\n",
    "df_calls['user_id'] = df_calls['user_id'].astype(object)\n",
    "#Se redondea la columna duration \n",
    "df_calls['duration'] = np.ceil(df_calls['duration']) \n",
    "display(df_calls)\n",
    "df_calls.info()"
   ]
  },
  {
   "cell_type": "markdown",
   "metadata": {},
   "source": [
    "Aquí hice la corrección de los tipos de datos como la transformación de `call_date` a formato de fecha y la conversión de `user_id` a `string` está bien realizada. Estas transformaciones me ayudan a evitar errores durante el análisis y la manipulación posterior."
   ]
  },
  {
   "cell_type": "markdown",
   "metadata": {
    "id": "mOUZSi180q0_"
   },
   "source": [
    "## Mensajes"
   ]
  },
  {
   "cell_type": "code",
   "execution_count": 21,
   "metadata": {
    "id": "R-bYJpdV0q1A"
   },
   "outputs": [
    {
     "name": "stdout",
     "output_type": "stream",
     "text": [
      "<class 'pandas.core.frame.DataFrame'>\n",
      "RangeIndex: 76051 entries, 0 to 76050\n",
      "Data columns (total 3 columns):\n",
      " #   Column        Non-Null Count  Dtype \n",
      "---  ------        --------------  ----- \n",
      " 0   id            76051 non-null  object\n",
      " 1   user_id       76051 non-null  int64 \n",
      " 2   message_date  76051 non-null  object\n",
      "dtypes: int64(1), object(2)\n",
      "memory usage: 1.7+ MB\n"
     ]
    }
   ],
   "source": [
    "# Imprimí la información general/resumida sobre el DataFrame de los mensajes\n",
    "df_messages.info()"
   ]
  },
  {
   "cell_type": "code",
   "execution_count": 22,
   "metadata": {
    "id": "mCEl2iGE0q1A"
   },
   "outputs": [
    {
     "data": {
      "text/html": [
       "<div>\n",
       "<style scoped>\n",
       "    .dataframe tbody tr th:only-of-type {\n",
       "        vertical-align: middle;\n",
       "    }\n",
       "\n",
       "    .dataframe tbody tr th {\n",
       "        vertical-align: top;\n",
       "    }\n",
       "\n",
       "    .dataframe thead th {\n",
       "        text-align: right;\n",
       "    }\n",
       "</style>\n",
       "<table border=\"1\" class=\"dataframe\">\n",
       "  <thead>\n",
       "    <tr style=\"text-align: right;\">\n",
       "      <th></th>\n",
       "      <th>id</th>\n",
       "      <th>user_id</th>\n",
       "      <th>message_date</th>\n",
       "    </tr>\n",
       "  </thead>\n",
       "  <tbody>\n",
       "    <tr>\n",
       "      <th>62653</th>\n",
       "      <td>1394_42</td>\n",
       "      <td>1394</td>\n",
       "      <td>2018-10-22</td>\n",
       "    </tr>\n",
       "    <tr>\n",
       "      <th>6540</th>\n",
       "      <td>1056_50</td>\n",
       "      <td>1056</td>\n",
       "      <td>2018-12-25</td>\n",
       "    </tr>\n",
       "    <tr>\n",
       "      <th>58742</th>\n",
       "      <td>1373_160</td>\n",
       "      <td>1373</td>\n",
       "      <td>2018-11-07</td>\n",
       "    </tr>\n",
       "    <tr>\n",
       "      <th>60532</th>\n",
       "      <td>1382_45</td>\n",
       "      <td>1382</td>\n",
       "      <td>2018-12-13</td>\n",
       "    </tr>\n",
       "    <tr>\n",
       "      <th>1906</th>\n",
       "      <td>1019_78</td>\n",
       "      <td>1019</td>\n",
       "      <td>2018-12-24</td>\n",
       "    </tr>\n",
       "  </tbody>\n",
       "</table>\n",
       "</div>"
      ],
      "text/plain": [
       "             id  user_id message_date\n",
       "62653   1394_42     1394   2018-10-22\n",
       "6540    1056_50     1056   2018-12-25\n",
       "58742  1373_160     1373   2018-11-07\n",
       "60532   1382_45     1382   2018-12-13\n",
       "1906    1019_78     1019   2018-12-24"
      ]
     },
     "metadata": {},
     "output_type": "display_data"
    }
   ],
   "source": [
    "# Imprimí una muestra de datos para los mensajes\n",
    "display(df_messages.sample(5))"
   ]
  },
  {
   "cell_type": "markdown",
   "metadata": {
    "id": "Sprfak900q1B"
   },
   "source": [
    "### Corregir los datos"
   ]
  },
  {
   "cell_type": "markdown",
   "metadata": {},
   "source": [
    "Aquí traté los datos de mensajes, transformando `message_date` a `datetime` y cambiando `user_id` a `string` para asegurar consistencia en el análisis."
   ]
  },
  {
   "cell_type": "code",
   "execution_count": 23,
   "metadata": {
    "id": "vsllvkoa0q1B"
   },
   "outputs": [
    {
     "name": "stdout",
     "output_type": "stream",
     "text": [
      "<class 'pandas.core.frame.DataFrame'>\n",
      "RangeIndex: 76051 entries, 0 to 76050\n",
      "Data columns (total 3 columns):\n",
      " #   Column        Non-Null Count  Dtype         \n",
      "---  ------        --------------  -----         \n",
      " 0   id            76051 non-null  object        \n",
      " 1   user_id       76051 non-null  object        \n",
      " 2   message_date  76051 non-null  datetime64[ns]\n",
      "dtypes: datetime64[ns](1), object(2)\n",
      "memory usage: 1.7+ MB\n"
     ]
    }
   ],
   "source": [
    "df_messages['message_date'] = pd.to_datetime(df_messages['message_date'], format = '%Y-%m-%d')\n",
    "df_messages['user_id'] = df_messages['user_id'].astype(object)\n",
    "df_messages.info()"
   ]
  },
  {
   "cell_type": "markdown",
   "metadata": {
    "id": "bStkaxn40q1C"
   },
   "source": [
    "## Internet"
   ]
  },
  {
   "cell_type": "code",
   "execution_count": 25,
   "metadata": {
    "id": "e-Uz5qyn0q1C"
   },
   "outputs": [
    {
     "name": "stdout",
     "output_type": "stream",
     "text": [
      "<class 'pandas.core.frame.DataFrame'>\n",
      "RangeIndex: 104825 entries, 0 to 104824\n",
      "Data columns (total 4 columns):\n",
      " #   Column        Non-Null Count   Dtype  \n",
      "---  ------        --------------   -----  \n",
      " 0   id            104825 non-null  object \n",
      " 1   user_id       104825 non-null  int64  \n",
      " 2   session_date  104825 non-null  object \n",
      " 3   mb_used       104825 non-null  float64\n",
      "dtypes: float64(1), int64(1), object(2)\n",
      "memory usage: 3.2+ MB\n"
     ]
    }
   ],
   "source": [
    "# Imprimí la información general/resumida sobre el DataFrame de internet\n",
    "df_internet.info()"
   ]
  },
  {
   "cell_type": "code",
   "execution_count": 26,
   "metadata": {
    "id": "9r3x_XLw0q1C"
   },
   "outputs": [
    {
     "data": {
      "text/html": [
       "<div>\n",
       "<style scoped>\n",
       "    .dataframe tbody tr th:only-of-type {\n",
       "        vertical-align: middle;\n",
       "    }\n",
       "\n",
       "    .dataframe tbody tr th {\n",
       "        vertical-align: top;\n",
       "    }\n",
       "\n",
       "    .dataframe thead th {\n",
       "        text-align: right;\n",
       "    }\n",
       "</style>\n",
       "<table border=\"1\" class=\"dataframe\">\n",
       "  <thead>\n",
       "    <tr style=\"text-align: right;\">\n",
       "      <th></th>\n",
       "      <th>id</th>\n",
       "      <th>user_id</th>\n",
       "      <th>session_date</th>\n",
       "      <th>mb_used</th>\n",
       "    </tr>\n",
       "  </thead>\n",
       "  <tbody>\n",
       "    <tr>\n",
       "      <th>56903</th>\n",
       "      <td>1257_170</td>\n",
       "      <td>1257</td>\n",
       "      <td>2018-10-27</td>\n",
       "      <td>724.35</td>\n",
       "    </tr>\n",
       "    <tr>\n",
       "      <th>73228</th>\n",
       "      <td>1343_86</td>\n",
       "      <td>1343</td>\n",
       "      <td>2018-10-15</td>\n",
       "      <td>620.89</td>\n",
       "    </tr>\n",
       "    <tr>\n",
       "      <th>40159</th>\n",
       "      <td>1181_311</td>\n",
       "      <td>1181</td>\n",
       "      <td>2018-11-21</td>\n",
       "      <td>149.60</td>\n",
       "    </tr>\n",
       "    <tr>\n",
       "      <th>103704</th>\n",
       "      <td>1496_12</td>\n",
       "      <td>1496</td>\n",
       "      <td>2018-09-24</td>\n",
       "      <td>167.50</td>\n",
       "    </tr>\n",
       "    <tr>\n",
       "      <th>31207</th>\n",
       "      <td>1142_220</td>\n",
       "      <td>1142</td>\n",
       "      <td>2018-09-29</td>\n",
       "      <td>199.36</td>\n",
       "    </tr>\n",
       "  </tbody>\n",
       "</table>\n",
       "</div>"
      ],
      "text/plain": [
       "              id  user_id session_date  mb_used\n",
       "56903   1257_170     1257   2018-10-27   724.35\n",
       "73228    1343_86     1343   2018-10-15   620.89\n",
       "40159   1181_311     1181   2018-11-21   149.60\n",
       "103704   1496_12     1496   2018-09-24   167.50\n",
       "31207   1142_220     1142   2018-09-29   199.36"
      ]
     },
     "metadata": {},
     "output_type": "display_data"
    }
   ],
   "source": [
    "# Imprimí una muestra de datos para el tráfico de internet\n",
    "display(df_internet.sample(5))"
   ]
  },
  {
   "cell_type": "markdown",
   "metadata": {
    "id": "yA0tkPFg0q1D"
   },
   "source": [
    "### Corregir los datos"
   ]
  },
  {
   "cell_type": "markdown",
   "metadata": {},
   "source": [
    "Aquí procesé los datos de tráfico de internet, asegurándome de que `session_date` esté en formato de fecha y redondeando el uso de MB a GB. Esto garantiza la coherencia en las unidades de medida."
   ]
  },
  {
   "cell_type": "code",
   "execution_count": 27,
   "metadata": {
    "id": "zVeanzdd0q1E",
    "scrolled": true
   },
   "outputs": [
    {
     "name": "stdout",
     "output_type": "stream",
     "text": [
      "<class 'pandas.core.frame.DataFrame'>\n",
      "RangeIndex: 104825 entries, 0 to 104824\n",
      "Data columns (total 4 columns):\n",
      " #   Column        Non-Null Count   Dtype         \n",
      "---  ------        --------------   -----         \n",
      " 0   id            104825 non-null  object        \n",
      " 1   user_id       104825 non-null  object        \n",
      " 2   session_date  104825 non-null  datetime64[ns]\n",
      " 3   mb_used       104825 non-null  float64       \n",
      "dtypes: datetime64[ns](1), float64(1), object(2)\n",
      "memory usage: 3.2+ MB\n"
     ]
    }
   ],
   "source": [
    "df_internet['session_date'] = pd.to_datetime(df_internet['session_date'], format = '%Y-%m-%d')\n",
    "df_internet['user_id'] = df_internet['user_id'].astype(object)\n",
    "df_internet.info()"
   ]
  },
  {
   "cell_type": "markdown",
   "metadata": {
    "id": "3UA2cqIW0q1E"
   },
   "source": [
    "## Estudiar las condiciones de las tarifas"
   ]
  },
  {
   "cell_type": "markdown",
   "metadata": {
    "id": "T86Sqltq0q1F"
   },
   "source": [
    "# Es sumamente importante entender cómo funcionan las tarifas, cómo se les cobra a los usuarios en función de su plan de suscripción."
   ]
  },
  {
   "cell_type": "code",
   "execution_count": 29,
   "metadata": {
    "id": "i409op8p0q1F"
   },
   "outputs": [
    {
     "data": {
      "text/html": [
       "<div>\n",
       "<style scoped>\n",
       "    .dataframe tbody tr th:only-of-type {\n",
       "        vertical-align: middle;\n",
       "    }\n",
       "\n",
       "    .dataframe tbody tr th {\n",
       "        vertical-align: top;\n",
       "    }\n",
       "\n",
       "    .dataframe thead th {\n",
       "        text-align: right;\n",
       "    }\n",
       "</style>\n",
       "<table border=\"1\" class=\"dataframe\">\n",
       "  <thead>\n",
       "    <tr style=\"text-align: right;\">\n",
       "      <th></th>\n",
       "      <th>messages_included</th>\n",
       "      <th>gb_per_month_included</th>\n",
       "      <th>minutes_included</th>\n",
       "      <th>usd_monthly_pay</th>\n",
       "      <th>usd_per_gb</th>\n",
       "      <th>usd_per_message</th>\n",
       "      <th>usd_per_minute</th>\n",
       "      <th>plan</th>\n",
       "    </tr>\n",
       "  </thead>\n",
       "  <tbody>\n",
       "    <tr>\n",
       "      <th>0</th>\n",
       "      <td>50</td>\n",
       "      <td>15.0</td>\n",
       "      <td>500</td>\n",
       "      <td>20</td>\n",
       "      <td>10</td>\n",
       "      <td>0.03</td>\n",
       "      <td>0.03</td>\n",
       "      <td>surf</td>\n",
       "    </tr>\n",
       "    <tr>\n",
       "      <th>1</th>\n",
       "      <td>1000</td>\n",
       "      <td>30.0</td>\n",
       "      <td>3000</td>\n",
       "      <td>70</td>\n",
       "      <td>7</td>\n",
       "      <td>0.01</td>\n",
       "      <td>0.01</td>\n",
       "      <td>ultimate</td>\n",
       "    </tr>\n",
       "  </tbody>\n",
       "</table>\n",
       "</div>"
      ],
      "text/plain": [
       "   messages_included  gb_per_month_included  minutes_included  \\\n",
       "0                 50                   15.0               500   \n",
       "1               1000                   30.0              3000   \n",
       "\n",
       "   usd_monthly_pay  usd_per_gb  usd_per_message  usd_per_minute      plan  \n",
       "0               20          10             0.03            0.03      surf  \n",
       "1               70           7             0.01            0.01  ultimate  "
      ]
     },
     "metadata": {},
     "output_type": "display_data"
    }
   ],
   "source": [
    "# Imprimí las condiciones de la tarifa y me aseguré de que quedan claras\n",
    "display(df_plans.head())"
   ]
  },
  {
   "cell_type": "markdown",
   "metadata": {},
   "source": [
    "Aquí realicé la agregación de datos por usuario y mes está bien ejecutada. Combiné correctamente los datos de llamadas, mensajes e internet en un solo DataFrame para cada usuario, lo que facilita el análisis posterior."
   ]
  },
  {
   "cell_type": "code",
   "execution_count": 30,
   "metadata": {
    "id": "A332cedB0q1G"
   },
   "outputs": [
    {
     "data": {
      "text/html": [
       "<div>\n",
       "<style scoped>\n",
       "    .dataframe tbody tr th:only-of-type {\n",
       "        vertical-align: middle;\n",
       "    }\n",
       "\n",
       "    .dataframe tbody tr th {\n",
       "        vertical-align: top;\n",
       "    }\n",
       "\n",
       "    .dataframe thead th {\n",
       "        text-align: right;\n",
       "    }\n",
       "</style>\n",
       "<table border=\"1\" class=\"dataframe\">\n",
       "  <thead>\n",
       "    <tr style=\"text-align: right;\">\n",
       "      <th></th>\n",
       "      <th></th>\n",
       "      <th>calls</th>\n",
       "    </tr>\n",
       "    <tr>\n",
       "      <th>user_id</th>\n",
       "      <th>month</th>\n",
       "      <th></th>\n",
       "    </tr>\n",
       "  </thead>\n",
       "  <tbody>\n",
       "    <tr>\n",
       "      <th>1000</th>\n",
       "      <th>12</th>\n",
       "      <td>16</td>\n",
       "    </tr>\n",
       "    <tr>\n",
       "      <th rowspan=\"4\" valign=\"top\">1001</th>\n",
       "      <th>8</th>\n",
       "      <td>27</td>\n",
       "    </tr>\n",
       "    <tr>\n",
       "      <th>9</th>\n",
       "      <td>49</td>\n",
       "    </tr>\n",
       "    <tr>\n",
       "      <th>10</th>\n",
       "      <td>65</td>\n",
       "    </tr>\n",
       "    <tr>\n",
       "      <th>11</th>\n",
       "      <td>64</td>\n",
       "    </tr>\n",
       "    <tr>\n",
       "      <th>...</th>\n",
       "      <th>...</th>\n",
       "      <td>...</td>\n",
       "    </tr>\n",
       "    <tr>\n",
       "      <th>1498</th>\n",
       "      <th>12</th>\n",
       "      <td>39</td>\n",
       "    </tr>\n",
       "    <tr>\n",
       "      <th rowspan=\"4\" valign=\"top\">1499</th>\n",
       "      <th>9</th>\n",
       "      <td>41</td>\n",
       "    </tr>\n",
       "    <tr>\n",
       "      <th>10</th>\n",
       "      <td>53</td>\n",
       "    </tr>\n",
       "    <tr>\n",
       "      <th>11</th>\n",
       "      <td>45</td>\n",
       "    </tr>\n",
       "    <tr>\n",
       "      <th>12</th>\n",
       "      <td>65</td>\n",
       "    </tr>\n",
       "  </tbody>\n",
       "</table>\n",
       "<p>2258 rows × 1 columns</p>\n",
       "</div>"
      ],
      "text/plain": [
       "               calls\n",
       "user_id month       \n",
       "1000    12        16\n",
       "1001    8         27\n",
       "        9         49\n",
       "        10        65\n",
       "        11        64\n",
       "...              ...\n",
       "1498    12        39\n",
       "1499    9         41\n",
       "        10        53\n",
       "        11        45\n",
       "        12        65\n",
       "\n",
       "[2258 rows x 1 columns]"
      ]
     },
     "metadata": {},
     "output_type": "display_data"
    }
   ],
   "source": [
    "# Calculé el número de llamadas hechas por cada usuario al mes. Guardando el resultado en una nueva variable.\n",
    "df_calls['month'] = df_calls['call_date'].dt.month \n",
    "calls_per_month = df_calls.groupby('user_id')['month'].value_counts() \n",
    "calls_per_month = calls_per_month.to_frame(name = 'calls')\n",
    "calls_per_month.sort_index(inplace = True)\n",
    "display(calls_per_month)"
   ]
  },
  {
   "cell_type": "code",
   "execution_count": 31,
   "metadata": {
    "id": "aw2cmuql0q1G"
   },
   "outputs": [
    {
     "data": {
      "text/html": [
       "<div>\n",
       "<style scoped>\n",
       "    .dataframe tbody tr th:only-of-type {\n",
       "        vertical-align: middle;\n",
       "    }\n",
       "\n",
       "    .dataframe tbody tr th {\n",
       "        vertical-align: top;\n",
       "    }\n",
       "\n",
       "    .dataframe thead th {\n",
       "        text-align: right;\n",
       "    }\n",
       "</style>\n",
       "<table border=\"1\" class=\"dataframe\">\n",
       "  <thead>\n",
       "    <tr style=\"text-align: right;\">\n",
       "      <th></th>\n",
       "      <th></th>\n",
       "      <th>call_minutes</th>\n",
       "    </tr>\n",
       "    <tr>\n",
       "      <th>user_id</th>\n",
       "      <th>month</th>\n",
       "      <th></th>\n",
       "    </tr>\n",
       "  </thead>\n",
       "  <tbody>\n",
       "    <tr>\n",
       "      <th>1000</th>\n",
       "      <th>12</th>\n",
       "      <td>124.0</td>\n",
       "    </tr>\n",
       "    <tr>\n",
       "      <th rowspan=\"4\" valign=\"top\">1001</th>\n",
       "      <th>8</th>\n",
       "      <td>182.0</td>\n",
       "    </tr>\n",
       "    <tr>\n",
       "      <th>9</th>\n",
       "      <td>315.0</td>\n",
       "    </tr>\n",
       "    <tr>\n",
       "      <th>10</th>\n",
       "      <td>393.0</td>\n",
       "    </tr>\n",
       "    <tr>\n",
       "      <th>11</th>\n",
       "      <td>426.0</td>\n",
       "    </tr>\n",
       "    <tr>\n",
       "      <th>...</th>\n",
       "      <th>...</th>\n",
       "      <td>...</td>\n",
       "    </tr>\n",
       "    <tr>\n",
       "      <th>1498</th>\n",
       "      <th>12</th>\n",
       "      <td>339.0</td>\n",
       "    </tr>\n",
       "    <tr>\n",
       "      <th rowspan=\"4\" valign=\"top\">1499</th>\n",
       "      <th>9</th>\n",
       "      <td>346.0</td>\n",
       "    </tr>\n",
       "    <tr>\n",
       "      <th>10</th>\n",
       "      <td>385.0</td>\n",
       "    </tr>\n",
       "    <tr>\n",
       "      <th>11</th>\n",
       "      <td>308.0</td>\n",
       "    </tr>\n",
       "    <tr>\n",
       "      <th>12</th>\n",
       "      <td>496.0</td>\n",
       "    </tr>\n",
       "  </tbody>\n",
       "</table>\n",
       "<p>2258 rows × 1 columns</p>\n",
       "</div>"
      ],
      "text/plain": [
       "               call_minutes\n",
       "user_id month              \n",
       "1000    12            124.0\n",
       "1001    8             182.0\n",
       "        9             315.0\n",
       "        10            393.0\n",
       "        11            426.0\n",
       "...                     ...\n",
       "1498    12            339.0\n",
       "1499    9             346.0\n",
       "        10            385.0\n",
       "        11            308.0\n",
       "        12            496.0\n",
       "\n",
       "[2258 rows x 1 columns]"
      ]
     },
     "metadata": {},
     "output_type": "display_data"
    }
   ],
   "source": [
    "# Calculé la cantidad de minutos usados por cada usuario al mes.\n",
    "minutes_per_user_month = df_calls.groupby(['user_id', 'month'])['duration'].sum()\n",
    "minutes_per_user_month = minutes_per_user_month.to_frame(name = 'call_minutes')\n",
    "minutes_per_user_month.sort_index(inplace = True)\n",
    "display(minutes_per_user_month)"
   ]
  },
  {
   "cell_type": "code",
   "execution_count": 32,
   "metadata": {
    "id": "CcQvNHn60q1G"
   },
   "outputs": [
    {
     "data": {
      "text/html": [
       "<div>\n",
       "<style scoped>\n",
       "    .dataframe tbody tr th:only-of-type {\n",
       "        vertical-align: middle;\n",
       "    }\n",
       "\n",
       "    .dataframe tbody tr th {\n",
       "        vertical-align: top;\n",
       "    }\n",
       "\n",
       "    .dataframe thead th {\n",
       "        text-align: right;\n",
       "    }\n",
       "</style>\n",
       "<table border=\"1\" class=\"dataframe\">\n",
       "  <thead>\n",
       "    <tr style=\"text-align: right;\">\n",
       "      <th></th>\n",
       "      <th></th>\n",
       "      <th>messages</th>\n",
       "    </tr>\n",
       "    <tr>\n",
       "      <th>user_id</th>\n",
       "      <th>month</th>\n",
       "      <th></th>\n",
       "    </tr>\n",
       "  </thead>\n",
       "  <tbody>\n",
       "    <tr>\n",
       "      <th>1000</th>\n",
       "      <th>12</th>\n",
       "      <td>11</td>\n",
       "    </tr>\n",
       "    <tr>\n",
       "      <th rowspan=\"4\" valign=\"top\">1001</th>\n",
       "      <th>8</th>\n",
       "      <td>30</td>\n",
       "    </tr>\n",
       "    <tr>\n",
       "      <th>9</th>\n",
       "      <td>44</td>\n",
       "    </tr>\n",
       "    <tr>\n",
       "      <th>10</th>\n",
       "      <td>53</td>\n",
       "    </tr>\n",
       "    <tr>\n",
       "      <th>11</th>\n",
       "      <td>36</td>\n",
       "    </tr>\n",
       "    <tr>\n",
       "      <th>...</th>\n",
       "      <th>...</th>\n",
       "      <td>...</td>\n",
       "    </tr>\n",
       "    <tr>\n",
       "      <th rowspan=\"4\" valign=\"top\">1496</th>\n",
       "      <th>9</th>\n",
       "      <td>21</td>\n",
       "    </tr>\n",
       "    <tr>\n",
       "      <th>10</th>\n",
       "      <td>18</td>\n",
       "    </tr>\n",
       "    <tr>\n",
       "      <th>11</th>\n",
       "      <td>13</td>\n",
       "    </tr>\n",
       "    <tr>\n",
       "      <th>12</th>\n",
       "      <td>11</td>\n",
       "    </tr>\n",
       "    <tr>\n",
       "      <th>1497</th>\n",
       "      <th>12</th>\n",
       "      <td>50</td>\n",
       "    </tr>\n",
       "  </tbody>\n",
       "</table>\n",
       "<p>1806 rows × 1 columns</p>\n",
       "</div>"
      ],
      "text/plain": [
       "               messages\n",
       "user_id month          \n",
       "1000    12           11\n",
       "1001    8            30\n",
       "        9            44\n",
       "        10           53\n",
       "        11           36\n",
       "...                 ...\n",
       "1496    9            21\n",
       "        10           18\n",
       "        11           13\n",
       "        12           11\n",
       "1497    12           50\n",
       "\n",
       "[1806 rows x 1 columns]"
      ]
     },
     "metadata": {},
     "output_type": "display_data"
    }
   ],
   "source": [
    "# Calculé el número de mensajes enviados por cada usuario al mes.\n",
    "df_messages['month'] = df_messages['message_date'].dt.month\n",
    "messages_per_month = df_messages.groupby('user_id')['month'].value_counts() \n",
    "messages_per_month = messages_per_month.to_frame(name = 'messages')\n",
    "messages_per_month.sort_index(inplace = True)\n",
    "display(messages_per_month)"
   ]
  },
  {
   "cell_type": "code",
   "execution_count": 33,
   "metadata": {
    "id": "H1AqN2eG0q1H"
   },
   "outputs": [
    {
     "data": {
      "text/html": [
       "<div>\n",
       "<style scoped>\n",
       "    .dataframe tbody tr th:only-of-type {\n",
       "        vertical-align: middle;\n",
       "    }\n",
       "\n",
       "    .dataframe tbody tr th {\n",
       "        vertical-align: top;\n",
       "    }\n",
       "\n",
       "    .dataframe thead th {\n",
       "        text-align: right;\n",
       "    }\n",
       "</style>\n",
       "<table border=\"1\" class=\"dataframe\">\n",
       "  <thead>\n",
       "    <tr style=\"text-align: right;\">\n",
       "      <th></th>\n",
       "      <th></th>\n",
       "      <th>gb_used</th>\n",
       "    </tr>\n",
       "    <tr>\n",
       "      <th>user_id</th>\n",
       "      <th>month</th>\n",
       "      <th></th>\n",
       "    </tr>\n",
       "  </thead>\n",
       "  <tbody>\n",
       "    <tr>\n",
       "      <th>1000</th>\n",
       "      <th>12</th>\n",
       "      <td>2.0</td>\n",
       "    </tr>\n",
       "    <tr>\n",
       "      <th rowspan=\"4\" valign=\"top\">1001</th>\n",
       "      <th>8</th>\n",
       "      <td>7.0</td>\n",
       "    </tr>\n",
       "    <tr>\n",
       "      <th>9</th>\n",
       "      <td>14.0</td>\n",
       "    </tr>\n",
       "    <tr>\n",
       "      <th>10</th>\n",
       "      <td>22.0</td>\n",
       "    </tr>\n",
       "    <tr>\n",
       "      <th>11</th>\n",
       "      <td>19.0</td>\n",
       "    </tr>\n",
       "    <tr>\n",
       "      <th>...</th>\n",
       "      <th>...</th>\n",
       "      <td>...</td>\n",
       "    </tr>\n",
       "    <tr>\n",
       "      <th>1498</th>\n",
       "      <th>12</th>\n",
       "      <td>23.0</td>\n",
       "    </tr>\n",
       "    <tr>\n",
       "      <th rowspan=\"4\" valign=\"top\">1499</th>\n",
       "      <th>9</th>\n",
       "      <td>13.0</td>\n",
       "    </tr>\n",
       "    <tr>\n",
       "      <th>10</th>\n",
       "      <td>20.0</td>\n",
       "    </tr>\n",
       "    <tr>\n",
       "      <th>11</th>\n",
       "      <td>17.0</td>\n",
       "    </tr>\n",
       "    <tr>\n",
       "      <th>12</th>\n",
       "      <td>22.0</td>\n",
       "    </tr>\n",
       "  </tbody>\n",
       "</table>\n",
       "<p>2277 rows × 1 columns</p>\n",
       "</div>"
      ],
      "text/plain": [
       "               gb_used\n",
       "user_id month         \n",
       "1000    12         2.0\n",
       "1001    8          7.0\n",
       "        9         14.0\n",
       "        10        22.0\n",
       "        11        19.0\n",
       "...                ...\n",
       "1498    12        23.0\n",
       "1499    9         13.0\n",
       "        10        20.0\n",
       "        11        17.0\n",
       "        12        22.0\n",
       "\n",
       "[2277 rows x 1 columns]"
      ]
     },
     "metadata": {},
     "output_type": "display_data"
    }
   ],
   "source": [
    "# Calculé el volumen del tráfico de Internet usado por cada usuario al mes.\n",
    "df_internet['month'] = df_internet['session_date'].dt.month\n",
    "internet_per_user_month = df_internet.groupby(['user_id','month'])['mb_used'].sum()\n",
    "internet_per_user_month = internet_per_user_month.to_frame(name = 'gb_used')\n",
    "internet_per_user_month.sort_index(inplace = True)\n",
    "internet_per_user_month['gb_used'] = internet_per_user_month['gb_used']/1024\n",
    "internet_per_user_month['gb_used'] = np.ceil(internet_per_user_month['gb_used'])\n",
    "display(internet_per_user_month)"
   ]
  },
  {
   "cell_type": "markdown",
   "metadata": {
    "id": "VDfYXnj80q1H"
   },
   "source": [
    "# Junté los datos agregados en un DataFrame para que haya un registro que represente lo que consumió un usuario único en un mes determinado."
   ]
  },
  {
   "cell_type": "code",
   "execution_count": 34,
   "metadata": {
    "id": "FW99ykyf0q1H"
   },
   "outputs": [
    {
     "data": {
      "text/html": [
       "<div>\n",
       "<style scoped>\n",
       "    .dataframe tbody tr th:only-of-type {\n",
       "        vertical-align: middle;\n",
       "    }\n",
       "\n",
       "    .dataframe tbody tr th {\n",
       "        vertical-align: top;\n",
       "    }\n",
       "\n",
       "    .dataframe thead th {\n",
       "        text-align: right;\n",
       "    }\n",
       "</style>\n",
       "<table border=\"1\" class=\"dataframe\">\n",
       "  <thead>\n",
       "    <tr style=\"text-align: right;\">\n",
       "      <th></th>\n",
       "      <th>month</th>\n",
       "      <th>calls</th>\n",
       "      <th>call_minutes</th>\n",
       "      <th>messages</th>\n",
       "      <th>gb_used</th>\n",
       "    </tr>\n",
       "    <tr>\n",
       "      <th>user_id</th>\n",
       "      <th></th>\n",
       "      <th></th>\n",
       "      <th></th>\n",
       "      <th></th>\n",
       "      <th></th>\n",
       "    </tr>\n",
       "  </thead>\n",
       "  <tbody>\n",
       "    <tr>\n",
       "      <th>1000</th>\n",
       "      <td>12</td>\n",
       "      <td>16.0</td>\n",
       "      <td>124.0</td>\n",
       "      <td>11.0</td>\n",
       "      <td>2.0</td>\n",
       "    </tr>\n",
       "    <tr>\n",
       "      <th>1001</th>\n",
       "      <td>8</td>\n",
       "      <td>27.0</td>\n",
       "      <td>182.0</td>\n",
       "      <td>30.0</td>\n",
       "      <td>7.0</td>\n",
       "    </tr>\n",
       "    <tr>\n",
       "      <th>1001</th>\n",
       "      <td>9</td>\n",
       "      <td>49.0</td>\n",
       "      <td>315.0</td>\n",
       "      <td>44.0</td>\n",
       "      <td>14.0</td>\n",
       "    </tr>\n",
       "    <tr>\n",
       "      <th>1001</th>\n",
       "      <td>10</td>\n",
       "      <td>65.0</td>\n",
       "      <td>393.0</td>\n",
       "      <td>53.0</td>\n",
       "      <td>22.0</td>\n",
       "    </tr>\n",
       "    <tr>\n",
       "      <th>1001</th>\n",
       "      <td>11</td>\n",
       "      <td>64.0</td>\n",
       "      <td>426.0</td>\n",
       "      <td>36.0</td>\n",
       "      <td>19.0</td>\n",
       "    </tr>\n",
       "    <tr>\n",
       "      <th>...</th>\n",
       "      <td>...</td>\n",
       "      <td>...</td>\n",
       "      <td>...</td>\n",
       "      <td>...</td>\n",
       "      <td>...</td>\n",
       "    </tr>\n",
       "    <tr>\n",
       "      <th>1498</th>\n",
       "      <td>12</td>\n",
       "      <td>39.0</td>\n",
       "      <td>339.0</td>\n",
       "      <td>0.0</td>\n",
       "      <td>23.0</td>\n",
       "    </tr>\n",
       "    <tr>\n",
       "      <th>1499</th>\n",
       "      <td>9</td>\n",
       "      <td>41.0</td>\n",
       "      <td>346.0</td>\n",
       "      <td>0.0</td>\n",
       "      <td>13.0</td>\n",
       "    </tr>\n",
       "    <tr>\n",
       "      <th>1499</th>\n",
       "      <td>10</td>\n",
       "      <td>53.0</td>\n",
       "      <td>385.0</td>\n",
       "      <td>0.0</td>\n",
       "      <td>20.0</td>\n",
       "    </tr>\n",
       "    <tr>\n",
       "      <th>1499</th>\n",
       "      <td>11</td>\n",
       "      <td>45.0</td>\n",
       "      <td>308.0</td>\n",
       "      <td>0.0</td>\n",
       "      <td>17.0</td>\n",
       "    </tr>\n",
       "    <tr>\n",
       "      <th>1499</th>\n",
       "      <td>12</td>\n",
       "      <td>65.0</td>\n",
       "      <td>496.0</td>\n",
       "      <td>0.0</td>\n",
       "      <td>22.0</td>\n",
       "    </tr>\n",
       "  </tbody>\n",
       "</table>\n",
       "<p>2293 rows × 5 columns</p>\n",
       "</div>"
      ],
      "text/plain": [
       "         month  calls  call_minutes  messages  gb_used\n",
       "user_id                                               \n",
       "1000        12   16.0         124.0      11.0      2.0\n",
       "1001         8   27.0         182.0      30.0      7.0\n",
       "1001         9   49.0         315.0      44.0     14.0\n",
       "1001        10   65.0         393.0      53.0     22.0\n",
       "1001        11   64.0         426.0      36.0     19.0\n",
       "...        ...    ...           ...       ...      ...\n",
       "1498        12   39.0         339.0       0.0     23.0\n",
       "1499         9   41.0         346.0       0.0     13.0\n",
       "1499        10   53.0         385.0       0.0     20.0\n",
       "1499        11   45.0         308.0       0.0     17.0\n",
       "1499        12   65.0         496.0       0.0     22.0\n",
       "\n",
       "[2293 rows x 5 columns]"
      ]
     },
     "metadata": {},
     "output_type": "display_data"
    },
    {
     "name": "stdout",
     "output_type": "stream",
     "text": [
      "<class 'pandas.core.frame.DataFrame'>\n",
      "Int64Index: 2293 entries, 1000 to 1499\n",
      "Data columns (total 5 columns):\n",
      " #   Column        Non-Null Count  Dtype  \n",
      "---  ------        --------------  -----  \n",
      " 0   month         2293 non-null   int64  \n",
      " 1   calls         2293 non-null   float64\n",
      " 2   call_minutes  2293 non-null   float64\n",
      " 3   messages      2293 non-null   float64\n",
      " 4   gb_used       2293 non-null   float64\n",
      "dtypes: float64(4), int64(1)\n",
      "memory usage: 107.5 KB\n"
     ]
    }
   ],
   "source": [
    "# Fusioné los datos de llamadas, minutos, mensajes e Internet con base en user_id y month\n",
    "calls_duration = calls_per_month.merge(minutes_per_user_month, left_index=True, right_index=True, how = 'outer')\n",
    "calls_messages =calls_duration.merge(messages_per_month, left_index=True, right_index=True, how = 'outer')\n",
    "data_user_month = calls_messages.merge(internet_per_user_month ,left_index=True, right_index=True, how = 'outer')\n",
    "data_user_month.reset_index(level = ['month'], inplace = True)\n",
    "data_user_month.sort_index(inplace = True)\n",
    "data_user_month.fillna(0, inplace = True) \n",
    "display(data_user_month)\n",
    "data_user_month.info()"
   ]
  },
  {
   "cell_type": "code",
   "execution_count": 35,
   "metadata": {
    "id": "0dNOXHag0q1H",
    "scrolled": true
   },
   "outputs": [
    {
     "data": {
      "text/html": [
       "<div>\n",
       "<style scoped>\n",
       "    .dataframe tbody tr th:only-of-type {\n",
       "        vertical-align: middle;\n",
       "    }\n",
       "\n",
       "    .dataframe tbody tr th {\n",
       "        vertical-align: top;\n",
       "    }\n",
       "\n",
       "    .dataframe thead th {\n",
       "        text-align: right;\n",
       "    }\n",
       "</style>\n",
       "<table border=\"1\" class=\"dataframe\">\n",
       "  <thead>\n",
       "    <tr style=\"text-align: right;\">\n",
       "      <th></th>\n",
       "      <th>user_id</th>\n",
       "      <th>month</th>\n",
       "      <th>calls</th>\n",
       "      <th>call_minutes</th>\n",
       "      <th>messages</th>\n",
       "      <th>gb_used</th>\n",
       "      <th>plan</th>\n",
       "    </tr>\n",
       "  </thead>\n",
       "  <tbody>\n",
       "    <tr>\n",
       "      <th>0</th>\n",
       "      <td>1000</td>\n",
       "      <td>12.0</td>\n",
       "      <td>16.0</td>\n",
       "      <td>124.0</td>\n",
       "      <td>11.0</td>\n",
       "      <td>2.0</td>\n",
       "      <td>ultimate</td>\n",
       "    </tr>\n",
       "    <tr>\n",
       "      <th>1</th>\n",
       "      <td>1001</td>\n",
       "      <td>8.0</td>\n",
       "      <td>27.0</td>\n",
       "      <td>182.0</td>\n",
       "      <td>30.0</td>\n",
       "      <td>7.0</td>\n",
       "      <td>surf</td>\n",
       "    </tr>\n",
       "    <tr>\n",
       "      <th>2</th>\n",
       "      <td>1001</td>\n",
       "      <td>9.0</td>\n",
       "      <td>49.0</td>\n",
       "      <td>315.0</td>\n",
       "      <td>44.0</td>\n",
       "      <td>14.0</td>\n",
       "      <td>surf</td>\n",
       "    </tr>\n",
       "    <tr>\n",
       "      <th>3</th>\n",
       "      <td>1001</td>\n",
       "      <td>10.0</td>\n",
       "      <td>65.0</td>\n",
       "      <td>393.0</td>\n",
       "      <td>53.0</td>\n",
       "      <td>22.0</td>\n",
       "      <td>surf</td>\n",
       "    </tr>\n",
       "    <tr>\n",
       "      <th>4</th>\n",
       "      <td>1001</td>\n",
       "      <td>11.0</td>\n",
       "      <td>64.0</td>\n",
       "      <td>426.0</td>\n",
       "      <td>36.0</td>\n",
       "      <td>19.0</td>\n",
       "      <td>surf</td>\n",
       "    </tr>\n",
       "    <tr>\n",
       "      <th>...</th>\n",
       "      <td>...</td>\n",
       "      <td>...</td>\n",
       "      <td>...</td>\n",
       "      <td>...</td>\n",
       "      <td>...</td>\n",
       "      <td>...</td>\n",
       "      <td>...</td>\n",
       "    </tr>\n",
       "    <tr>\n",
       "      <th>2288</th>\n",
       "      <td>1498</td>\n",
       "      <td>12.0</td>\n",
       "      <td>39.0</td>\n",
       "      <td>339.0</td>\n",
       "      <td>0.0</td>\n",
       "      <td>23.0</td>\n",
       "      <td>surf</td>\n",
       "    </tr>\n",
       "    <tr>\n",
       "      <th>2289</th>\n",
       "      <td>1499</td>\n",
       "      <td>9.0</td>\n",
       "      <td>41.0</td>\n",
       "      <td>346.0</td>\n",
       "      <td>0.0</td>\n",
       "      <td>13.0</td>\n",
       "      <td>surf</td>\n",
       "    </tr>\n",
       "    <tr>\n",
       "      <th>2290</th>\n",
       "      <td>1499</td>\n",
       "      <td>10.0</td>\n",
       "      <td>53.0</td>\n",
       "      <td>385.0</td>\n",
       "      <td>0.0</td>\n",
       "      <td>20.0</td>\n",
       "      <td>surf</td>\n",
       "    </tr>\n",
       "    <tr>\n",
       "      <th>2291</th>\n",
       "      <td>1499</td>\n",
       "      <td>11.0</td>\n",
       "      <td>45.0</td>\n",
       "      <td>308.0</td>\n",
       "      <td>0.0</td>\n",
       "      <td>17.0</td>\n",
       "      <td>surf</td>\n",
       "    </tr>\n",
       "    <tr>\n",
       "      <th>2292</th>\n",
       "      <td>1499</td>\n",
       "      <td>12.0</td>\n",
       "      <td>65.0</td>\n",
       "      <td>496.0</td>\n",
       "      <td>0.0</td>\n",
       "      <td>22.0</td>\n",
       "      <td>surf</td>\n",
       "    </tr>\n",
       "  </tbody>\n",
       "</table>\n",
       "<p>2293 rows × 7 columns</p>\n",
       "</div>"
      ],
      "text/plain": [
       "      user_id  month  calls  call_minutes  messages  gb_used      plan\n",
       "0        1000   12.0   16.0         124.0      11.0      2.0  ultimate\n",
       "1        1001    8.0   27.0         182.0      30.0      7.0      surf\n",
       "2        1001    9.0   49.0         315.0      44.0     14.0      surf\n",
       "3        1001   10.0   65.0         393.0      53.0     22.0      surf\n",
       "4        1001   11.0   64.0         426.0      36.0     19.0      surf\n",
       "...       ...    ...    ...           ...       ...      ...       ...\n",
       "2288     1498   12.0   39.0         339.0       0.0     23.0      surf\n",
       "2289     1499    9.0   41.0         346.0       0.0     13.0      surf\n",
       "2290     1499   10.0   53.0         385.0       0.0     20.0      surf\n",
       "2291     1499   11.0   45.0         308.0       0.0     17.0      surf\n",
       "2292     1499   12.0   65.0         496.0       0.0     22.0      surf\n",
       "\n",
       "[2293 rows x 7 columns]"
      ]
     },
     "metadata": {},
     "output_type": "display_data"
    }
   ],
   "source": [
    "# Añadí la información de la tarifa\n",
    "plan_user = df_users[['user_id', 'plan']]\n",
    "data_user_month = data_user_month.merge(plan_user, on = 'user_id', how = 'outer')\n",
    "data_user_month.dropna(inplace = True) \n",
    "display(data_user_month)"
   ]
  },
  {
   "cell_type": "code",
   "execution_count": 36,
   "metadata": {},
   "outputs": [
    {
     "data": {
      "text/html": [
       "<div>\n",
       "<style scoped>\n",
       "    .dataframe tbody tr th:only-of-type {\n",
       "        vertical-align: middle;\n",
       "    }\n",
       "\n",
       "    .dataframe tbody tr th {\n",
       "        vertical-align: top;\n",
       "    }\n",
       "\n",
       "    .dataframe thead th {\n",
       "        text-align: right;\n",
       "    }\n",
       "</style>\n",
       "<table border=\"1\" class=\"dataframe\">\n",
       "  <thead>\n",
       "    <tr style=\"text-align: right;\">\n",
       "      <th></th>\n",
       "      <th>user_id</th>\n",
       "      <th>month</th>\n",
       "      <th>calls</th>\n",
       "      <th>call_minutes</th>\n",
       "      <th>messages</th>\n",
       "      <th>gb_used</th>\n",
       "      <th>plan</th>\n",
       "      <th>messages_included</th>\n",
       "      <th>gb_per_month_included</th>\n",
       "      <th>minutes_included</th>\n",
       "      <th>usd_monthly_pay</th>\n",
       "      <th>usd_per_gb</th>\n",
       "      <th>usd_per_message</th>\n",
       "      <th>usd_per_minute</th>\n",
       "    </tr>\n",
       "  </thead>\n",
       "  <tbody>\n",
       "    <tr>\n",
       "      <th>0</th>\n",
       "      <td>1000</td>\n",
       "      <td>12.0</td>\n",
       "      <td>16.0</td>\n",
       "      <td>124.0</td>\n",
       "      <td>11.0</td>\n",
       "      <td>2.0</td>\n",
       "      <td>ultimate</td>\n",
       "      <td>1000</td>\n",
       "      <td>30.0</td>\n",
       "      <td>3000</td>\n",
       "      <td>70</td>\n",
       "      <td>7</td>\n",
       "      <td>0.01</td>\n",
       "      <td>0.01</td>\n",
       "    </tr>\n",
       "    <tr>\n",
       "      <th>1</th>\n",
       "      <td>1006</td>\n",
       "      <td>11.0</td>\n",
       "      <td>2.0</td>\n",
       "      <td>10.0</td>\n",
       "      <td>15.0</td>\n",
       "      <td>3.0</td>\n",
       "      <td>ultimate</td>\n",
       "      <td>1000</td>\n",
       "      <td>30.0</td>\n",
       "      <td>3000</td>\n",
       "      <td>70</td>\n",
       "      <td>7</td>\n",
       "      <td>0.01</td>\n",
       "      <td>0.01</td>\n",
       "    </tr>\n",
       "    <tr>\n",
       "      <th>2</th>\n",
       "      <td>1006</td>\n",
       "      <td>12.0</td>\n",
       "      <td>9.0</td>\n",
       "      <td>59.0</td>\n",
       "      <td>139.0</td>\n",
       "      <td>32.0</td>\n",
       "      <td>ultimate</td>\n",
       "      <td>1000</td>\n",
       "      <td>30.0</td>\n",
       "      <td>3000</td>\n",
       "      <td>70</td>\n",
       "      <td>7</td>\n",
       "      <td>0.01</td>\n",
       "      <td>0.01</td>\n",
       "    </tr>\n",
       "    <tr>\n",
       "      <th>3</th>\n",
       "      <td>1008</td>\n",
       "      <td>10.0</td>\n",
       "      <td>71.0</td>\n",
       "      <td>476.0</td>\n",
       "      <td>21.0</td>\n",
       "      <td>17.0</td>\n",
       "      <td>ultimate</td>\n",
       "      <td>1000</td>\n",
       "      <td>30.0</td>\n",
       "      <td>3000</td>\n",
       "      <td>70</td>\n",
       "      <td>7</td>\n",
       "      <td>0.01</td>\n",
       "      <td>0.01</td>\n",
       "    </tr>\n",
       "    <tr>\n",
       "      <th>4</th>\n",
       "      <td>1008</td>\n",
       "      <td>11.0</td>\n",
       "      <td>63.0</td>\n",
       "      <td>446.0</td>\n",
       "      <td>37.0</td>\n",
       "      <td>24.0</td>\n",
       "      <td>ultimate</td>\n",
       "      <td>1000</td>\n",
       "      <td>30.0</td>\n",
       "      <td>3000</td>\n",
       "      <td>70</td>\n",
       "      <td>7</td>\n",
       "      <td>0.01</td>\n",
       "      <td>0.01</td>\n",
       "    </tr>\n",
       "    <tr>\n",
       "      <th>...</th>\n",
       "      <td>...</td>\n",
       "      <td>...</td>\n",
       "      <td>...</td>\n",
       "      <td>...</td>\n",
       "      <td>...</td>\n",
       "      <td>...</td>\n",
       "      <td>...</td>\n",
       "      <td>...</td>\n",
       "      <td>...</td>\n",
       "      <td>...</td>\n",
       "      <td>...</td>\n",
       "      <td>...</td>\n",
       "      <td>...</td>\n",
       "      <td>...</td>\n",
       "    </tr>\n",
       "    <tr>\n",
       "      <th>2288</th>\n",
       "      <td>1498</td>\n",
       "      <td>12.0</td>\n",
       "      <td>39.0</td>\n",
       "      <td>339.0</td>\n",
       "      <td>0.0</td>\n",
       "      <td>23.0</td>\n",
       "      <td>surf</td>\n",
       "      <td>50</td>\n",
       "      <td>15.0</td>\n",
       "      <td>500</td>\n",
       "      <td>20</td>\n",
       "      <td>10</td>\n",
       "      <td>0.03</td>\n",
       "      <td>0.03</td>\n",
       "    </tr>\n",
       "    <tr>\n",
       "      <th>2289</th>\n",
       "      <td>1499</td>\n",
       "      <td>9.0</td>\n",
       "      <td>41.0</td>\n",
       "      <td>346.0</td>\n",
       "      <td>0.0</td>\n",
       "      <td>13.0</td>\n",
       "      <td>surf</td>\n",
       "      <td>50</td>\n",
       "      <td>15.0</td>\n",
       "      <td>500</td>\n",
       "      <td>20</td>\n",
       "      <td>10</td>\n",
       "      <td>0.03</td>\n",
       "      <td>0.03</td>\n",
       "    </tr>\n",
       "    <tr>\n",
       "      <th>2290</th>\n",
       "      <td>1499</td>\n",
       "      <td>10.0</td>\n",
       "      <td>53.0</td>\n",
       "      <td>385.0</td>\n",
       "      <td>0.0</td>\n",
       "      <td>20.0</td>\n",
       "      <td>surf</td>\n",
       "      <td>50</td>\n",
       "      <td>15.0</td>\n",
       "      <td>500</td>\n",
       "      <td>20</td>\n",
       "      <td>10</td>\n",
       "      <td>0.03</td>\n",
       "      <td>0.03</td>\n",
       "    </tr>\n",
       "    <tr>\n",
       "      <th>2291</th>\n",
       "      <td>1499</td>\n",
       "      <td>11.0</td>\n",
       "      <td>45.0</td>\n",
       "      <td>308.0</td>\n",
       "      <td>0.0</td>\n",
       "      <td>17.0</td>\n",
       "      <td>surf</td>\n",
       "      <td>50</td>\n",
       "      <td>15.0</td>\n",
       "      <td>500</td>\n",
       "      <td>20</td>\n",
       "      <td>10</td>\n",
       "      <td>0.03</td>\n",
       "      <td>0.03</td>\n",
       "    </tr>\n",
       "    <tr>\n",
       "      <th>2292</th>\n",
       "      <td>1499</td>\n",
       "      <td>12.0</td>\n",
       "      <td>65.0</td>\n",
       "      <td>496.0</td>\n",
       "      <td>0.0</td>\n",
       "      <td>22.0</td>\n",
       "      <td>surf</td>\n",
       "      <td>50</td>\n",
       "      <td>15.0</td>\n",
       "      <td>500</td>\n",
       "      <td>20</td>\n",
       "      <td>10</td>\n",
       "      <td>0.03</td>\n",
       "      <td>0.03</td>\n",
       "    </tr>\n",
       "  </tbody>\n",
       "</table>\n",
       "<p>2293 rows × 14 columns</p>\n",
       "</div>"
      ],
      "text/plain": [
       "      user_id  month  calls  call_minutes  messages  gb_used      plan  \\\n",
       "0        1000   12.0   16.0         124.0      11.0      2.0  ultimate   \n",
       "1        1006   11.0    2.0          10.0      15.0      3.0  ultimate   \n",
       "2        1006   12.0    9.0          59.0     139.0     32.0  ultimate   \n",
       "3        1008   10.0   71.0         476.0      21.0     17.0  ultimate   \n",
       "4        1008   11.0   63.0         446.0      37.0     24.0  ultimate   \n",
       "...       ...    ...    ...           ...       ...      ...       ...   \n",
       "2288     1498   12.0   39.0         339.0       0.0     23.0      surf   \n",
       "2289     1499    9.0   41.0         346.0       0.0     13.0      surf   \n",
       "2290     1499   10.0   53.0         385.0       0.0     20.0      surf   \n",
       "2291     1499   11.0   45.0         308.0       0.0     17.0      surf   \n",
       "2292     1499   12.0   65.0         496.0       0.0     22.0      surf   \n",
       "\n",
       "      messages_included  gb_per_month_included  minutes_included  \\\n",
       "0                  1000                   30.0              3000   \n",
       "1                  1000                   30.0              3000   \n",
       "2                  1000                   30.0              3000   \n",
       "3                  1000                   30.0              3000   \n",
       "4                  1000                   30.0              3000   \n",
       "...                 ...                    ...               ...   \n",
       "2288                 50                   15.0               500   \n",
       "2289                 50                   15.0               500   \n",
       "2290                 50                   15.0               500   \n",
       "2291                 50                   15.0               500   \n",
       "2292                 50                   15.0               500   \n",
       "\n",
       "      usd_monthly_pay  usd_per_gb  usd_per_message  usd_per_minute  \n",
       "0                  70           7             0.01            0.01  \n",
       "1                  70           7             0.01            0.01  \n",
       "2                  70           7             0.01            0.01  \n",
       "3                  70           7             0.01            0.01  \n",
       "4                  70           7             0.01            0.01  \n",
       "...               ...         ...              ...             ...  \n",
       "2288               20          10             0.03            0.03  \n",
       "2289               20          10             0.03            0.03  \n",
       "2290               20          10             0.03            0.03  \n",
       "2291               20          10             0.03            0.03  \n",
       "2292               20          10             0.03            0.03  \n",
       "\n",
       "[2293 rows x 14 columns]"
      ]
     },
     "metadata": {},
     "output_type": "display_data"
    }
   ],
   "source": [
    "data_plans = data_user_month.merge(df_plans, on = 'plan', how = 'outer' )\n",
    "display(data_plans)"
   ]
  },
  {
   "cell_type": "code",
   "execution_count": 37,
   "metadata": {},
   "outputs": [
    {
     "data": {
      "text/html": [
       "<div>\n",
       "<style scoped>\n",
       "    .dataframe tbody tr th:only-of-type {\n",
       "        vertical-align: middle;\n",
       "    }\n",
       "\n",
       "    .dataframe tbody tr th {\n",
       "        vertical-align: top;\n",
       "    }\n",
       "\n",
       "    .dataframe thead th {\n",
       "        text-align: right;\n",
       "    }\n",
       "</style>\n",
       "<table border=\"1\" class=\"dataframe\">\n",
       "  <thead>\n",
       "    <tr style=\"text-align: right;\">\n",
       "      <th></th>\n",
       "      <th>user_id</th>\n",
       "      <th>month</th>\n",
       "      <th>calls</th>\n",
       "      <th>call_minutes</th>\n",
       "      <th>messages</th>\n",
       "      <th>gb_used</th>\n",
       "      <th>plan</th>\n",
       "      <th>messages_included</th>\n",
       "      <th>gb_per_month_included</th>\n",
       "      <th>minutes_included</th>\n",
       "      <th>usd_monthly_pay</th>\n",
       "      <th>usd_per_gb</th>\n",
       "      <th>usd_per_message</th>\n",
       "      <th>usd_per_minute</th>\n",
       "      <th>extra_minutes</th>\n",
       "      <th>extra_messages</th>\n",
       "      <th>extra_internet</th>\n",
       "    </tr>\n",
       "  </thead>\n",
       "  <tbody>\n",
       "    <tr>\n",
       "      <th>0</th>\n",
       "      <td>1000</td>\n",
       "      <td>12.0</td>\n",
       "      <td>16.0</td>\n",
       "      <td>124.0</td>\n",
       "      <td>11.0</td>\n",
       "      <td>2.0</td>\n",
       "      <td>ultimate</td>\n",
       "      <td>1000</td>\n",
       "      <td>30.0</td>\n",
       "      <td>3000</td>\n",
       "      <td>70</td>\n",
       "      <td>7</td>\n",
       "      <td>0.01</td>\n",
       "      <td>0.01</td>\n",
       "      <td>0.0</td>\n",
       "      <td>0.0</td>\n",
       "      <td>0.0</td>\n",
       "    </tr>\n",
       "    <tr>\n",
       "      <th>1</th>\n",
       "      <td>1006</td>\n",
       "      <td>11.0</td>\n",
       "      <td>2.0</td>\n",
       "      <td>10.0</td>\n",
       "      <td>15.0</td>\n",
       "      <td>3.0</td>\n",
       "      <td>ultimate</td>\n",
       "      <td>1000</td>\n",
       "      <td>30.0</td>\n",
       "      <td>3000</td>\n",
       "      <td>70</td>\n",
       "      <td>7</td>\n",
       "      <td>0.01</td>\n",
       "      <td>0.01</td>\n",
       "      <td>0.0</td>\n",
       "      <td>0.0</td>\n",
       "      <td>0.0</td>\n",
       "    </tr>\n",
       "    <tr>\n",
       "      <th>2</th>\n",
       "      <td>1006</td>\n",
       "      <td>12.0</td>\n",
       "      <td>9.0</td>\n",
       "      <td>59.0</td>\n",
       "      <td>139.0</td>\n",
       "      <td>32.0</td>\n",
       "      <td>ultimate</td>\n",
       "      <td>1000</td>\n",
       "      <td>30.0</td>\n",
       "      <td>3000</td>\n",
       "      <td>70</td>\n",
       "      <td>7</td>\n",
       "      <td>0.01</td>\n",
       "      <td>0.01</td>\n",
       "      <td>0.0</td>\n",
       "      <td>0.0</td>\n",
       "      <td>2.0</td>\n",
       "    </tr>\n",
       "    <tr>\n",
       "      <th>3</th>\n",
       "      <td>1008</td>\n",
       "      <td>10.0</td>\n",
       "      <td>71.0</td>\n",
       "      <td>476.0</td>\n",
       "      <td>21.0</td>\n",
       "      <td>17.0</td>\n",
       "      <td>ultimate</td>\n",
       "      <td>1000</td>\n",
       "      <td>30.0</td>\n",
       "      <td>3000</td>\n",
       "      <td>70</td>\n",
       "      <td>7</td>\n",
       "      <td>0.01</td>\n",
       "      <td>0.01</td>\n",
       "      <td>0.0</td>\n",
       "      <td>0.0</td>\n",
       "      <td>0.0</td>\n",
       "    </tr>\n",
       "    <tr>\n",
       "      <th>4</th>\n",
       "      <td>1008</td>\n",
       "      <td>11.0</td>\n",
       "      <td>63.0</td>\n",
       "      <td>446.0</td>\n",
       "      <td>37.0</td>\n",
       "      <td>24.0</td>\n",
       "      <td>ultimate</td>\n",
       "      <td>1000</td>\n",
       "      <td>30.0</td>\n",
       "      <td>3000</td>\n",
       "      <td>70</td>\n",
       "      <td>7</td>\n",
       "      <td>0.01</td>\n",
       "      <td>0.01</td>\n",
       "      <td>0.0</td>\n",
       "      <td>0.0</td>\n",
       "      <td>0.0</td>\n",
       "    </tr>\n",
       "    <tr>\n",
       "      <th>...</th>\n",
       "      <td>...</td>\n",
       "      <td>...</td>\n",
       "      <td>...</td>\n",
       "      <td>...</td>\n",
       "      <td>...</td>\n",
       "      <td>...</td>\n",
       "      <td>...</td>\n",
       "      <td>...</td>\n",
       "      <td>...</td>\n",
       "      <td>...</td>\n",
       "      <td>...</td>\n",
       "      <td>...</td>\n",
       "      <td>...</td>\n",
       "      <td>...</td>\n",
       "      <td>...</td>\n",
       "      <td>...</td>\n",
       "      <td>...</td>\n",
       "    </tr>\n",
       "    <tr>\n",
       "      <th>2288</th>\n",
       "      <td>1498</td>\n",
       "      <td>12.0</td>\n",
       "      <td>39.0</td>\n",
       "      <td>339.0</td>\n",
       "      <td>0.0</td>\n",
       "      <td>23.0</td>\n",
       "      <td>surf</td>\n",
       "      <td>50</td>\n",
       "      <td>15.0</td>\n",
       "      <td>500</td>\n",
       "      <td>20</td>\n",
       "      <td>10</td>\n",
       "      <td>0.03</td>\n",
       "      <td>0.03</td>\n",
       "      <td>0.0</td>\n",
       "      <td>0.0</td>\n",
       "      <td>8.0</td>\n",
       "    </tr>\n",
       "    <tr>\n",
       "      <th>2289</th>\n",
       "      <td>1499</td>\n",
       "      <td>9.0</td>\n",
       "      <td>41.0</td>\n",
       "      <td>346.0</td>\n",
       "      <td>0.0</td>\n",
       "      <td>13.0</td>\n",
       "      <td>surf</td>\n",
       "      <td>50</td>\n",
       "      <td>15.0</td>\n",
       "      <td>500</td>\n",
       "      <td>20</td>\n",
       "      <td>10</td>\n",
       "      <td>0.03</td>\n",
       "      <td>0.03</td>\n",
       "      <td>0.0</td>\n",
       "      <td>0.0</td>\n",
       "      <td>0.0</td>\n",
       "    </tr>\n",
       "    <tr>\n",
       "      <th>2290</th>\n",
       "      <td>1499</td>\n",
       "      <td>10.0</td>\n",
       "      <td>53.0</td>\n",
       "      <td>385.0</td>\n",
       "      <td>0.0</td>\n",
       "      <td>20.0</td>\n",
       "      <td>surf</td>\n",
       "      <td>50</td>\n",
       "      <td>15.0</td>\n",
       "      <td>500</td>\n",
       "      <td>20</td>\n",
       "      <td>10</td>\n",
       "      <td>0.03</td>\n",
       "      <td>0.03</td>\n",
       "      <td>0.0</td>\n",
       "      <td>0.0</td>\n",
       "      <td>5.0</td>\n",
       "    </tr>\n",
       "    <tr>\n",
       "      <th>2291</th>\n",
       "      <td>1499</td>\n",
       "      <td>11.0</td>\n",
       "      <td>45.0</td>\n",
       "      <td>308.0</td>\n",
       "      <td>0.0</td>\n",
       "      <td>17.0</td>\n",
       "      <td>surf</td>\n",
       "      <td>50</td>\n",
       "      <td>15.0</td>\n",
       "      <td>500</td>\n",
       "      <td>20</td>\n",
       "      <td>10</td>\n",
       "      <td>0.03</td>\n",
       "      <td>0.03</td>\n",
       "      <td>0.0</td>\n",
       "      <td>0.0</td>\n",
       "      <td>2.0</td>\n",
       "    </tr>\n",
       "    <tr>\n",
       "      <th>2292</th>\n",
       "      <td>1499</td>\n",
       "      <td>12.0</td>\n",
       "      <td>65.0</td>\n",
       "      <td>496.0</td>\n",
       "      <td>0.0</td>\n",
       "      <td>22.0</td>\n",
       "      <td>surf</td>\n",
       "      <td>50</td>\n",
       "      <td>15.0</td>\n",
       "      <td>500</td>\n",
       "      <td>20</td>\n",
       "      <td>10</td>\n",
       "      <td>0.03</td>\n",
       "      <td>0.03</td>\n",
       "      <td>0.0</td>\n",
       "      <td>0.0</td>\n",
       "      <td>7.0</td>\n",
       "    </tr>\n",
       "  </tbody>\n",
       "</table>\n",
       "<p>2293 rows × 17 columns</p>\n",
       "</div>"
      ],
      "text/plain": [
       "      user_id  month  calls  call_minutes  messages  gb_used      plan  \\\n",
       "0        1000   12.0   16.0         124.0      11.0      2.0  ultimate   \n",
       "1        1006   11.0    2.0          10.0      15.0      3.0  ultimate   \n",
       "2        1006   12.0    9.0          59.0     139.0     32.0  ultimate   \n",
       "3        1008   10.0   71.0         476.0      21.0     17.0  ultimate   \n",
       "4        1008   11.0   63.0         446.0      37.0     24.0  ultimate   \n",
       "...       ...    ...    ...           ...       ...      ...       ...   \n",
       "2288     1498   12.0   39.0         339.0       0.0     23.0      surf   \n",
       "2289     1499    9.0   41.0         346.0       0.0     13.0      surf   \n",
       "2290     1499   10.0   53.0         385.0       0.0     20.0      surf   \n",
       "2291     1499   11.0   45.0         308.0       0.0     17.0      surf   \n",
       "2292     1499   12.0   65.0         496.0       0.0     22.0      surf   \n",
       "\n",
       "      messages_included  gb_per_month_included  minutes_included  \\\n",
       "0                  1000                   30.0              3000   \n",
       "1                  1000                   30.0              3000   \n",
       "2                  1000                   30.0              3000   \n",
       "3                  1000                   30.0              3000   \n",
       "4                  1000                   30.0              3000   \n",
       "...                 ...                    ...               ...   \n",
       "2288                 50                   15.0               500   \n",
       "2289                 50                   15.0               500   \n",
       "2290                 50                   15.0               500   \n",
       "2291                 50                   15.0               500   \n",
       "2292                 50                   15.0               500   \n",
       "\n",
       "      usd_monthly_pay  usd_per_gb  usd_per_message  usd_per_minute  \\\n",
       "0                  70           7             0.01            0.01   \n",
       "1                  70           7             0.01            0.01   \n",
       "2                  70           7             0.01            0.01   \n",
       "3                  70           7             0.01            0.01   \n",
       "4                  70           7             0.01            0.01   \n",
       "...               ...         ...              ...             ...   \n",
       "2288               20          10             0.03            0.03   \n",
       "2289               20          10             0.03            0.03   \n",
       "2290               20          10             0.03            0.03   \n",
       "2291               20          10             0.03            0.03   \n",
       "2292               20          10             0.03            0.03   \n",
       "\n",
       "      extra_minutes  extra_messages  extra_internet  \n",
       "0               0.0             0.0             0.0  \n",
       "1               0.0             0.0             0.0  \n",
       "2               0.0             0.0             2.0  \n",
       "3               0.0             0.0             0.0  \n",
       "4               0.0             0.0             0.0  \n",
       "...             ...             ...             ...  \n",
       "2288            0.0             0.0             8.0  \n",
       "2289            0.0             0.0             0.0  \n",
       "2290            0.0             0.0             5.0  \n",
       "2291            0.0             0.0             2.0  \n",
       "2292            0.0             0.0             7.0  \n",
       "\n",
       "[2293 rows x 17 columns]"
      ]
     },
     "metadata": {},
     "output_type": "display_data"
    }
   ],
   "source": [
    "def extra(valor): \n",
    "    return max(valor,0)\n",
    "\n",
    "data_plans['extra_minutes'] = data_plans['call_minutes'] - data_plans['minutes_included']\n",
    "data_plans['extra_minutes'] = data_plans['extra_minutes'].apply(extra)\n",
    "\n",
    "data_plans['extra_messages'] = data_plans['messages'] - data_plans['messages_included']\n",
    "data_plans['extra_messages'] = data_plans['extra_messages'].apply(extra)\n",
    "\n",
    "data_plans['extra_internet'] = data_plans['gb_used'] - data_plans['gb_per_month_included']\n",
    "data_plans['extra_internet'] = data_plans['extra_internet'].apply(extra)\n",
    "\n",
    "display(data_plans)"
   ]
  },
  {
   "cell_type": "code",
   "execution_count": 38,
   "metadata": {
    "id": "5FGCf_c60q1I"
   },
   "outputs": [
    {
     "data": {
      "text/html": [
       "<div>\n",
       "<style scoped>\n",
       "    .dataframe tbody tr th:only-of-type {\n",
       "        vertical-align: middle;\n",
       "    }\n",
       "\n",
       "    .dataframe tbody tr th {\n",
       "        vertical-align: top;\n",
       "    }\n",
       "\n",
       "    .dataframe thead th {\n",
       "        text-align: right;\n",
       "    }\n",
       "</style>\n",
       "<table border=\"1\" class=\"dataframe\">\n",
       "  <thead>\n",
       "    <tr style=\"text-align: right;\">\n",
       "      <th></th>\n",
       "      <th>user_id</th>\n",
       "      <th>month</th>\n",
       "      <th>calls</th>\n",
       "      <th>call_minutes</th>\n",
       "      <th>messages</th>\n",
       "      <th>gb_used</th>\n",
       "      <th>plan</th>\n",
       "      <th>messages_included</th>\n",
       "      <th>gb_per_month_included</th>\n",
       "      <th>minutes_included</th>\n",
       "      <th>usd_monthly_pay</th>\n",
       "      <th>usd_per_gb</th>\n",
       "      <th>usd_per_message</th>\n",
       "      <th>usd_per_minute</th>\n",
       "      <th>extra_minutes</th>\n",
       "      <th>extra_messages</th>\n",
       "      <th>extra_internet</th>\n",
       "      <th>total_pay</th>\n",
       "    </tr>\n",
       "  </thead>\n",
       "  <tbody>\n",
       "    <tr>\n",
       "      <th>0</th>\n",
       "      <td>1000</td>\n",
       "      <td>12.0</td>\n",
       "      <td>16.0</td>\n",
       "      <td>124.0</td>\n",
       "      <td>11.0</td>\n",
       "      <td>2.0</td>\n",
       "      <td>ultimate</td>\n",
       "      <td>1000</td>\n",
       "      <td>30.0</td>\n",
       "      <td>3000</td>\n",
       "      <td>70</td>\n",
       "      <td>7</td>\n",
       "      <td>0.01</td>\n",
       "      <td>0.01</td>\n",
       "      <td>0.0</td>\n",
       "      <td>0.0</td>\n",
       "      <td>0.0</td>\n",
       "      <td>70.0</td>\n",
       "    </tr>\n",
       "    <tr>\n",
       "      <th>1</th>\n",
       "      <td>1006</td>\n",
       "      <td>11.0</td>\n",
       "      <td>2.0</td>\n",
       "      <td>10.0</td>\n",
       "      <td>15.0</td>\n",
       "      <td>3.0</td>\n",
       "      <td>ultimate</td>\n",
       "      <td>1000</td>\n",
       "      <td>30.0</td>\n",
       "      <td>3000</td>\n",
       "      <td>70</td>\n",
       "      <td>7</td>\n",
       "      <td>0.01</td>\n",
       "      <td>0.01</td>\n",
       "      <td>0.0</td>\n",
       "      <td>0.0</td>\n",
       "      <td>0.0</td>\n",
       "      <td>70.0</td>\n",
       "    </tr>\n",
       "    <tr>\n",
       "      <th>2</th>\n",
       "      <td>1006</td>\n",
       "      <td>12.0</td>\n",
       "      <td>9.0</td>\n",
       "      <td>59.0</td>\n",
       "      <td>139.0</td>\n",
       "      <td>32.0</td>\n",
       "      <td>ultimate</td>\n",
       "      <td>1000</td>\n",
       "      <td>30.0</td>\n",
       "      <td>3000</td>\n",
       "      <td>70</td>\n",
       "      <td>7</td>\n",
       "      <td>0.01</td>\n",
       "      <td>0.01</td>\n",
       "      <td>0.0</td>\n",
       "      <td>0.0</td>\n",
       "      <td>2.0</td>\n",
       "      <td>84.0</td>\n",
       "    </tr>\n",
       "    <tr>\n",
       "      <th>3</th>\n",
       "      <td>1008</td>\n",
       "      <td>10.0</td>\n",
       "      <td>71.0</td>\n",
       "      <td>476.0</td>\n",
       "      <td>21.0</td>\n",
       "      <td>17.0</td>\n",
       "      <td>ultimate</td>\n",
       "      <td>1000</td>\n",
       "      <td>30.0</td>\n",
       "      <td>3000</td>\n",
       "      <td>70</td>\n",
       "      <td>7</td>\n",
       "      <td>0.01</td>\n",
       "      <td>0.01</td>\n",
       "      <td>0.0</td>\n",
       "      <td>0.0</td>\n",
       "      <td>0.0</td>\n",
       "      <td>70.0</td>\n",
       "    </tr>\n",
       "    <tr>\n",
       "      <th>4</th>\n",
       "      <td>1008</td>\n",
       "      <td>11.0</td>\n",
       "      <td>63.0</td>\n",
       "      <td>446.0</td>\n",
       "      <td>37.0</td>\n",
       "      <td>24.0</td>\n",
       "      <td>ultimate</td>\n",
       "      <td>1000</td>\n",
       "      <td>30.0</td>\n",
       "      <td>3000</td>\n",
       "      <td>70</td>\n",
       "      <td>7</td>\n",
       "      <td>0.01</td>\n",
       "      <td>0.01</td>\n",
       "      <td>0.0</td>\n",
       "      <td>0.0</td>\n",
       "      <td>0.0</td>\n",
       "      <td>70.0</td>\n",
       "    </tr>\n",
       "    <tr>\n",
       "      <th>...</th>\n",
       "      <td>...</td>\n",
       "      <td>...</td>\n",
       "      <td>...</td>\n",
       "      <td>...</td>\n",
       "      <td>...</td>\n",
       "      <td>...</td>\n",
       "      <td>...</td>\n",
       "      <td>...</td>\n",
       "      <td>...</td>\n",
       "      <td>...</td>\n",
       "      <td>...</td>\n",
       "      <td>...</td>\n",
       "      <td>...</td>\n",
       "      <td>...</td>\n",
       "      <td>...</td>\n",
       "      <td>...</td>\n",
       "      <td>...</td>\n",
       "      <td>...</td>\n",
       "    </tr>\n",
       "    <tr>\n",
       "      <th>2288</th>\n",
       "      <td>1498</td>\n",
       "      <td>12.0</td>\n",
       "      <td>39.0</td>\n",
       "      <td>339.0</td>\n",
       "      <td>0.0</td>\n",
       "      <td>23.0</td>\n",
       "      <td>surf</td>\n",
       "      <td>50</td>\n",
       "      <td>15.0</td>\n",
       "      <td>500</td>\n",
       "      <td>20</td>\n",
       "      <td>10</td>\n",
       "      <td>0.03</td>\n",
       "      <td>0.03</td>\n",
       "      <td>0.0</td>\n",
       "      <td>0.0</td>\n",
       "      <td>8.0</td>\n",
       "      <td>100.0</td>\n",
       "    </tr>\n",
       "    <tr>\n",
       "      <th>2289</th>\n",
       "      <td>1499</td>\n",
       "      <td>9.0</td>\n",
       "      <td>41.0</td>\n",
       "      <td>346.0</td>\n",
       "      <td>0.0</td>\n",
       "      <td>13.0</td>\n",
       "      <td>surf</td>\n",
       "      <td>50</td>\n",
       "      <td>15.0</td>\n",
       "      <td>500</td>\n",
       "      <td>20</td>\n",
       "      <td>10</td>\n",
       "      <td>0.03</td>\n",
       "      <td>0.03</td>\n",
       "      <td>0.0</td>\n",
       "      <td>0.0</td>\n",
       "      <td>0.0</td>\n",
       "      <td>20.0</td>\n",
       "    </tr>\n",
       "    <tr>\n",
       "      <th>2290</th>\n",
       "      <td>1499</td>\n",
       "      <td>10.0</td>\n",
       "      <td>53.0</td>\n",
       "      <td>385.0</td>\n",
       "      <td>0.0</td>\n",
       "      <td>20.0</td>\n",
       "      <td>surf</td>\n",
       "      <td>50</td>\n",
       "      <td>15.0</td>\n",
       "      <td>500</td>\n",
       "      <td>20</td>\n",
       "      <td>10</td>\n",
       "      <td>0.03</td>\n",
       "      <td>0.03</td>\n",
       "      <td>0.0</td>\n",
       "      <td>0.0</td>\n",
       "      <td>5.0</td>\n",
       "      <td>70.0</td>\n",
       "    </tr>\n",
       "    <tr>\n",
       "      <th>2291</th>\n",
       "      <td>1499</td>\n",
       "      <td>11.0</td>\n",
       "      <td>45.0</td>\n",
       "      <td>308.0</td>\n",
       "      <td>0.0</td>\n",
       "      <td>17.0</td>\n",
       "      <td>surf</td>\n",
       "      <td>50</td>\n",
       "      <td>15.0</td>\n",
       "      <td>500</td>\n",
       "      <td>20</td>\n",
       "      <td>10</td>\n",
       "      <td>0.03</td>\n",
       "      <td>0.03</td>\n",
       "      <td>0.0</td>\n",
       "      <td>0.0</td>\n",
       "      <td>2.0</td>\n",
       "      <td>40.0</td>\n",
       "    </tr>\n",
       "    <tr>\n",
       "      <th>2292</th>\n",
       "      <td>1499</td>\n",
       "      <td>12.0</td>\n",
       "      <td>65.0</td>\n",
       "      <td>496.0</td>\n",
       "      <td>0.0</td>\n",
       "      <td>22.0</td>\n",
       "      <td>surf</td>\n",
       "      <td>50</td>\n",
       "      <td>15.0</td>\n",
       "      <td>500</td>\n",
       "      <td>20</td>\n",
       "      <td>10</td>\n",
       "      <td>0.03</td>\n",
       "      <td>0.03</td>\n",
       "      <td>0.0</td>\n",
       "      <td>0.0</td>\n",
       "      <td>7.0</td>\n",
       "      <td>90.0</td>\n",
       "    </tr>\n",
       "  </tbody>\n",
       "</table>\n",
       "<p>2293 rows × 18 columns</p>\n",
       "</div>"
      ],
      "text/plain": [
       "      user_id  month  calls  call_minutes  messages  gb_used      plan  \\\n",
       "0        1000   12.0   16.0         124.0      11.0      2.0  ultimate   \n",
       "1        1006   11.0    2.0          10.0      15.0      3.0  ultimate   \n",
       "2        1006   12.0    9.0          59.0     139.0     32.0  ultimate   \n",
       "3        1008   10.0   71.0         476.0      21.0     17.0  ultimate   \n",
       "4        1008   11.0   63.0         446.0      37.0     24.0  ultimate   \n",
       "...       ...    ...    ...           ...       ...      ...       ...   \n",
       "2288     1498   12.0   39.0         339.0       0.0     23.0      surf   \n",
       "2289     1499    9.0   41.0         346.0       0.0     13.0      surf   \n",
       "2290     1499   10.0   53.0         385.0       0.0     20.0      surf   \n",
       "2291     1499   11.0   45.0         308.0       0.0     17.0      surf   \n",
       "2292     1499   12.0   65.0         496.0       0.0     22.0      surf   \n",
       "\n",
       "      messages_included  gb_per_month_included  minutes_included  \\\n",
       "0                  1000                   30.0              3000   \n",
       "1                  1000                   30.0              3000   \n",
       "2                  1000                   30.0              3000   \n",
       "3                  1000                   30.0              3000   \n",
       "4                  1000                   30.0              3000   \n",
       "...                 ...                    ...               ...   \n",
       "2288                 50                   15.0               500   \n",
       "2289                 50                   15.0               500   \n",
       "2290                 50                   15.0               500   \n",
       "2291                 50                   15.0               500   \n",
       "2292                 50                   15.0               500   \n",
       "\n",
       "      usd_monthly_pay  usd_per_gb  usd_per_message  usd_per_minute  \\\n",
       "0                  70           7             0.01            0.01   \n",
       "1                  70           7             0.01            0.01   \n",
       "2                  70           7             0.01            0.01   \n",
       "3                  70           7             0.01            0.01   \n",
       "4                  70           7             0.01            0.01   \n",
       "...               ...         ...              ...             ...   \n",
       "2288               20          10             0.03            0.03   \n",
       "2289               20          10             0.03            0.03   \n",
       "2290               20          10             0.03            0.03   \n",
       "2291               20          10             0.03            0.03   \n",
       "2292               20          10             0.03            0.03   \n",
       "\n",
       "      extra_minutes  extra_messages  extra_internet  total_pay  \n",
       "0               0.0             0.0             0.0       70.0  \n",
       "1               0.0             0.0             0.0       70.0  \n",
       "2               0.0             0.0             2.0       84.0  \n",
       "3               0.0             0.0             0.0       70.0  \n",
       "4               0.0             0.0             0.0       70.0  \n",
       "...             ...             ...             ...        ...  \n",
       "2288            0.0             0.0             8.0      100.0  \n",
       "2289            0.0             0.0             0.0       20.0  \n",
       "2290            0.0             0.0             5.0       70.0  \n",
       "2291            0.0             0.0             2.0       40.0  \n",
       "2292            0.0             0.0             7.0       90.0  \n",
       "\n",
       "[2293 rows x 18 columns]"
      ]
     },
     "metadata": {},
     "output_type": "display_data"
    }
   ],
   "source": [
    "# Calculé el ingreso mensual para cada usuario\n",
    "data_plans['total_pay'] = (data_plans['extra_minutes'] *data_plans['usd_per_minute']) \n",
    "data_plans['total_pay'] = data_plans['total_pay'] + data_plans['extra_messages'] *data_plans['usd_per_message']\n",
    "data_plans['total_pay'] = data_plans['total_pay'] + data_plans['extra_internet'] *(data_plans['usd_per_gb'])\n",
    "data_plans['total_pay'] = data_plans['total_pay'] + data_plans['usd_monthly_pay']  \n",
    "display(data_plans)"
   ]
  },
  {
   "cell_type": "markdown",
   "metadata": {
    "id": "-jtyHzJb0q1I"
   },
   "source": [
    "## Estudiando el comportamiento de usuario"
   ]
  },
  {
   "cell_type": "markdown",
   "metadata": {
    "id": "vtW4CJEe0q1J"
   },
   "source": [
    "### Llamadas"
   ]
  },
  {
   "cell_type": "code",
   "execution_count": 39,
   "metadata": {
    "id": "Jf5v5--k0q1J"
   },
   "outputs": [
    {
     "name": "stdout",
     "output_type": "stream",
     "text": [
      "             surf    ultimate\n",
      "month                        \n",
      "1.0    203.000000  193.500000\n",
      "2.0    297.000000  403.142857\n",
      "3.0    330.000000  304.250000\n",
      "4.0    351.540000  336.857143\n",
      "5.0    399.584416  406.241379\n",
      "6.0    431.298969  370.957447\n",
      "7.0    449.983471  427.067797\n",
      "8.0    410.111111  421.436620\n",
      "9.0    414.226804  437.511628\n",
      "10.0   429.729958  450.735849\n",
      "11.0   423.325088  445.196850\n",
      "12.0   473.836478  459.099338\n"
     ]
    },
    {
     "data": {
      "text/plain": [
       "<AxesSubplot:title={'center':'Duración de llamadas: surf vs ultimate'}, xlabel='Mes', ylabel='Promedio de duración de llamadas'>"
      ]
     },
     "execution_count": 39,
     "metadata": {},
     "output_type": "execute_result"
    },
    {
     "data": {
      "image/png": "[encoded data removed]",
      "text/plain": [
       "<Figure size 700x600 with 1 Axes>"
      ]
     },
     "metadata": {},
     "output_type": "display_data"
    }
   ],
   "source": [
    "# Comparé la duración promedio de llamadas por cada plan y por cada mes. Tracé un gráfico de barras para visualizarla.\n",
    "calls_mean_surf = data_plans.query('messages_included == 50').groupby('month')['call_minutes'].mean()\n",
    "calls_mean_ultimate = data_plans.query('messages_included == 1000').groupby('month')['call_minutes'].mean()\n",
    "call_mean = pd.concat([calls_mean_surf, calls_mean_ultimate], axis='columns')\n",
    "call_mean.columns = range(call_mean.shape[1])\n",
    "call_mean.rename(columns = {0:'surf', 1:'ultimate'}, inplace = True)\n",
    "print(call_mean)\n",
    "call_mean.plot(\n",
    "    kind = 'bar',\n",
    "    title = 'Duración de llamadas: surf vs ultimate',\n",
    "    xlabel = 'Mes',\n",
    "    ylabel = 'Promedio de duración de llamadas',\n",
    "    color = ['#51C291','#C25283'],\n",
    "    figsize = [7.0,6.0],)"
   ]
  },
  {
   "cell_type": "code",
   "execution_count": 40,
   "metadata": {
    "id": "QoLqW1S_0q1J"
   },
   "outputs": [
    {
     "data": {
      "image/png": "[encoded data removed]",
      "text/plain": [
       "<Figure size 640x480 with 1 Axes>"
      ]
     },
     "metadata": {},
     "output_type": "display_data"
    }
   ],
   "source": [
    "# Comparé el número de minutos mensuales que necesitan los usuarios de cada plan, trazando un histograma.\n",
    "minutes_mean_surf = data_plans[data_plans['messages_included'] ==50]['call_minutes']\n",
    "minutes_mean_ultimate = data_plans[data_plans['messages_included'] == 1000]['call_minutes']\n",
    "minutes_mean_surf.plot(kind = 'hist', bins = 12, color = '#51C291')\n",
    "minutes_mean_ultimate.plot(kind = 'hist',bins = 12, alpha = 0.8, color = '#C25283')\n",
    "plt.legend(['surf', 'ultimate'])\n",
    "plt.show()"
   ]
  },
  {
   "cell_type": "markdown",
   "metadata": {
    "id": "bLS9T8OH0q1K"
   },
   "source": [
    "[Calcula la media y la variable de la duración de las llamadas para averiguar si los usuarios de los distintos planes se comportan de forma diferente al realizar sus llamadas.]"
   ]
  },
  {
   "cell_type": "code",
   "execution_count": 41,
   "metadata": {
    "id": "oSndbAnt0q1K"
   },
   "outputs": [
    {
     "name": "stdout",
     "output_type": "stream",
     "text": [
      "promedio de duración de llamadas: 429.2834714348016\n",
      "varianza: 55847.17877118995\n"
     ]
    }
   ],
   "source": [
    "# Calculé la media y la varianza de la duración mensual de llamadas.\n",
    "mean_minutes = data_plans['call_minutes'].mean()\n",
    "print('promedio de duración de llamadas:',mean_minutes)\n",
    "var_minutes = data_plans['call_minutes'].var()\n",
    "print('varianza:', var_minutes)"
   ]
  },
  {
   "cell_type": "code",
   "execution_count": 42,
   "metadata": {
    "id": "nZzoRUKc0q1K"
   },
   "outputs": [
    {
     "data": {
      "text/plain": [
       "<AxesSubplot:>"
      ]
     },
     "execution_count": 42,
     "metadata": {},
     "output_type": "execute_result"
    },
    {
     "data": {
      "image/png": "[encoded data removed]",
      "text/plain": [
       "<Figure size 640x480 with 1 Axes>"
      ]
     },
     "metadata": {},
     "output_type": "display_data"
    }
   ],
   "source": [
    "# Tracé un diagrama de caja para visualizar la distribución de la duración mensual de llamadas\n",
    "data_plans.boxplot(column = 'call_minutes')"
   ]
  },
  {
   "cell_type": "code",
   "execution_count": 64,
   "metadata": {},
   "outputs": [],
   "source": [
    "# Podemos apreciar una diferencia en la duración promedio de llamadas en el mes de febrero, en este, los usuarios con el plan ultimate tuvieron una duración de llamada de hasta 100 minutos más que los usuarios del plan surf.\n",
    "\n",
    "# Encontramos que la distribución de ambos planes son muy parecidas una a la otra, la distribución de surf tiene una desviación estándar más pequeña que la de ultimate.\n",
    "\n",
    "#La duración de llamadas mensuales por encima de los 1000 minutos es atípica, por lo que se debería considerar si se ajusta un plan con un límite de duración de llamadas de 1000 minutos mensuales."
   ]
  },
  {
   "cell_type": "markdown",
   "metadata": {},
   "source": [
    "Analicé el comportamiento de los usuarios respecto a las <b>llamadas</b> en los planes <b>Surf</b> y <b>Ultimate</b>.\n",
    "\n",
    "El análisis destaca una observación muy importante: la diferencia en la <b>duración promedio de las llamadas</b> entre ambos planes, especialmente en febrero, donde los usuarios del plan Ultimate hicieron llamadas significativamente más largas. Este tipo de detalle es valioso porque puede ayudar a la empresa a entender mejor el uso de los planes.\n",
    "\n",
    "Además, reconocí correctamente que las distribuciones de llamadas para ambos planes son similares, con una <b>desviación estándar menor para Surf</b>, lo que refleja un comportamiento más consistente entre los usuarios de este plan. Este tipo de comparación es clave para evaluar cómo se utilizan los servicios de manera diferente entre los clientes.\n",
    "\n",
    "Finalmente, al mencionar las llamadas <b>por encima de los 1000 minutos</b>, identifiqué un comportamiento atípico que puede ser importante para ajustar las tarifas. Esta observación podría tener un impacto directo en la oferta de los planes a los clientes que tienden a exceder ese límite.\n",
    "\n",
    "En resumen, en este análisis identificamos puntos clave que pueden ayudar a <b>Megaline</b> a optimizar sus planes de llamadas. \n",
    "</div>"
   ]
  },
  {
   "cell_type": "markdown",
   "metadata": {
    "id": "8idKy8Wh0q1L"
   },
   "source": [
    "### Mensajes"
   ]
  },
  {
   "cell_type": "code",
   "execution_count": 43,
   "metadata": {
    "id": "NXLxiTit0q1L"
   },
   "outputs": [
    {
     "name": "stdout",
     "output_type": "stream",
     "text": [
      "            surf   ultimate\n",
      "month                      \n",
      "1.0    10.500000  15.500000\n",
      "2.0    12.000000  21.571429\n",
      "3.0    15.260870  20.250000\n",
      "4.0    17.400000  22.047619\n",
      "5.0    24.012987  32.103448\n",
      "6.0    25.298969  29.340426\n",
      "7.0    27.033058  32.830508\n",
      "8.0    28.777778  38.478873\n",
      "9.0    30.762887  37.895349\n",
      "10.0   33.839662  39.443396\n",
      "11.0   32.385159  38.606299\n",
      "12.0   38.600629  45.006623\n"
     ]
    },
    {
     "data": {
      "text/plain": [
       "<AxesSubplot:title={'center':'Mensajes enviados: surf vs ultimate'}, xlabel='Mes', ylabel='Promedio de mensajes'>"
      ]
     },
     "execution_count": 43,
     "metadata": {},
     "output_type": "execute_result"
    },
    {
     "data": {
      "image/png": "[encoded data removed]",
      "text/plain": [
       "<Figure size 700x600 with 1 Axes>"
      ]
     },
     "metadata": {},
     "output_type": "display_data"
    }
   ],
   "source": [
    "# Compraré el número de mensajes que tienden a enviar cada mes los usuarios de cada plan\n",
    "messages_mean_surf = data_plans.query('messages_included == 50').groupby('month')['messages'].mean()\n",
    "#print(calls_mean_surf)\n",
    "messages_mean_ultimate = data_plans.query('messages_included == 1000').groupby('month')['messages'].mean()\n",
    "#print(calls_mean_ultimate)\n",
    "messages_mean = pd.concat([messages_mean_surf, messages_mean_ultimate], axis='columns')\n",
    "messages_mean.columns = range(messages_mean.shape[1])\n",
    "messages_mean.rename(columns = {0:'surf', 1:'ultimate'}, inplace = True)\n",
    "print(messages_mean)\n",
    "messages_mean.plot(\n",
    "    kind = 'bar',\n",
    "    title = 'Mensajes enviados: surf vs ultimate',\n",
    "    xlabel = 'Mes',\n",
    "    ylabel = 'Promedio de mensajes',\n",
    "    color = ['#FAF884','#8486FA'],\n",
    "    figsize = [7.0,6.0],)"
   ]
  },
  {
   "cell_type": "code",
   "execution_count": 44,
   "metadata": {
    "id": "GRI_R7xF0q1L"
   },
   "outputs": [
    {
     "data": {
      "image/png": "[encoded data removed]",
      "text/plain": [
       "<Figure size 640x480 with 1 Axes>"
      ]
     },
     "metadata": {},
     "output_type": "display_data"
    }
   ],
   "source": [
    "#histogramas de mensajes por plan\n",
    "messages_surf = data_plans[data_plans['messages_included'] ==50]['messages']\n",
    "#print(minutes_mean_surf)\n",
    "messages_ultimate = data_plans[data_plans['messages_included'] == 1000]['messages']\n",
    "#print(minutes_mean_ultimate)\n",
    "messages_surf.plot(kind = 'hist', bins = 12, color = '#FAF884' )\n",
    "messages_ultimate.plot(kind = 'hist',bins = 12, alpha = 0.8, color = '#8486FA')\n",
    "plt.legend(['surf', 'ultimate'])\n",
    "plt.show()"
   ]
  },
  {
   "cell_type": "code",
   "execution_count": 45,
   "metadata": {
    "id": "dtFwCGAp0q1M"
   },
   "outputs": [
    {
     "name": "stdout",
     "output_type": "stream",
     "text": [
      "           count       mean        std  min  25%   50%   75%    max\n",
      "plan                                                               \n",
      "surf      1573.0  31.159568  33.566717  0.0  3.0  24.0  47.0  266.0\n",
      "ultimate   720.0  37.551389  34.767179  0.0  7.0  30.0  61.0  166.0\n"
     ]
    }
   ],
   "source": [
    "# media y desv.est para mensajes\n",
    "print(data_plans.groupby('plan')['messages'].describe())"
   ]
  },
  {
   "cell_type": "code",
   "execution_count": 46,
   "metadata": {},
   "outputs": [
    {
     "data": {
      "text/plain": [
       "<AxesSubplot:>"
      ]
     },
     "execution_count": 46,
     "metadata": {},
     "output_type": "execute_result"
    },
    {
     "data": {
      "image/png": "[encoded data removed]",
      "text/plain": [
       "<Figure size 640x480 with 1 Axes>"
      ]
     },
     "metadata": {},
     "output_type": "display_data"
    }
   ],
   "source": [
    "# diagrama de caja para mensajes\n",
    "data_plans.boxplot(column = 'messages')"
   ]
  },
  {
   "cell_type": "markdown",
   "metadata": {
    "id": "42YSypXz0q1M"
   },
   "source": [
    "### Internet"
   ]
  },
  {
   "cell_type": "code",
   "execution_count": 47,
   "metadata": {
    "id": "lSuKPtjh0q1M"
   },
   "outputs": [
    {
     "name": "stdout",
     "output_type": "stream",
     "text": [
      "            surf   ultimate\n",
      "month                      \n",
      "1.0     5.000000   7.250000\n",
      "2.0    12.222222  17.285714\n",
      "3.0    13.565217  18.416667\n",
      "4.0    12.220000  16.333333\n",
      "5.0    14.116883  16.862069\n",
      "6.0    15.484536  15.425532\n",
      "7.0    16.876033  16.491525\n",
      "8.0    16.882716  17.845070\n",
      "9.0    16.690722  17.011628\n",
      "10.0   17.409283  17.716981\n",
      "11.0   16.431095  17.118110\n",
      "12.0   18.238994  18.397351\n"
     ]
    },
    {
     "data": {
      "text/plain": [
       "<AxesSubplot:title={'center':'Gigabytes usados: surf vs ultimate'}, xlabel='Mes', ylabel='Promedio de gb'>"
      ]
     },
     "execution_count": 47,
     "metadata": {},
     "output_type": "execute_result"
    },
    {
     "data": {
      "image/png": "[encoded data removed]",
      "text/plain": [
       "<Figure size 700x600 with 1 Axes>"
      ]
     },
     "metadata": {},
     "output_type": "display_data"
    }
   ],
   "source": [
    "# Comparé la cantidad de tráfico de Internet consumido por usuarios por plan\n",
    "gb_mean_surf = data_plans.query('messages_included == 50').groupby('month')['gb_used'].mean()\n",
    "#print(calls_mean_surf)\n",
    "gb_mean_ultimate = data_plans.query('messages_included == 1000').groupby('month')['gb_used'].mean()\n",
    "#print(calls_mean_ultimate)\n",
    "gb_mean = pd.concat([gb_mean_surf, gb_mean_ultimate], axis='columns')\n",
    "gb_mean.columns = range(gb_mean.shape[1])\n",
    "gb_mean.rename(columns = {0:'surf', 1:'ultimate'}, inplace = True)\n",
    "print(gb_mean)\n",
    "gb_mean.plot(\n",
    "    kind = 'bar',\n",
    "    title = 'Gigabytes usados: surf vs ultimate',\n",
    "    xlabel = 'Mes',\n",
    "    ylabel = 'Promedio de gb',\n",
    "    color = ['#87CEEB','#EBA286'],\n",
    "    figsize = [7.0,6.0],)"
   ]
  },
  {
   "cell_type": "code",
   "execution_count": 48,
   "metadata": {
    "id": "wnh8jYXi0q1N"
   },
   "outputs": [
    {
     "data": {
      "image/png": "[encoded data removed]",
      "text/plain": [
       "<Figure size 640x480 with 1 Axes>"
      ]
     },
     "metadata": {},
     "output_type": "display_data"
    }
   ],
   "source": [
    "#histogramas de internet por plan\n",
    "gb_surf = data_plans[data_plans['messages_included'] ==50]['gb_used']\n",
    "gb_ultimate = data_plans[data_plans['messages_included'] == 1000]['gb_used']\n",
    "gb_surf.plot(kind = 'hist', bins = 12, color = '#87CEEB' )\n",
    "gb_ultimate.plot(kind = 'hist',bins = 12, alpha = 0.8, color = '#EBA286')\n",
    "plt.legend(['surf', 'ultimate'])\n",
    "plt.show()"
   ]
  },
  {
   "cell_type": "code",
   "execution_count": 49,
   "metadata": {},
   "outputs": [
    {
     "name": "stdout",
     "output_type": "stream",
     "text": [
      "           count       mean       std  min   25%   50%   75%   max\n",
      "plan                                                              \n",
      "surf      1573.0  16.670693  7.847522  0.0  12.0  17.0  21.0  70.0\n",
      "ultimate   720.0  17.306944  7.670108  0.0  13.0  17.0  21.0  46.0\n"
     ]
    }
   ],
   "source": [
    "# media y desv.est para mensajes\n",
    "print(data_plans.groupby('plan')['gb_used'].describe())"
   ]
  },
  {
   "cell_type": "code",
   "execution_count": 50,
   "metadata": {
    "id": "5VlyJ9ry0q1N"
   },
   "outputs": [
    {
     "data": {
      "text/plain": [
       "<AxesSubplot:>"
      ]
     },
     "execution_count": 50,
     "metadata": {},
     "output_type": "execute_result"
    },
    {
     "data": {
      "image/png": "[encoded data removed]",
      "text/plain": [
       "<Figure size 640x480 with 1 Axes>"
      ]
     },
     "metadata": {},
     "output_type": "display_data"
    }
   ],
   "source": [
    "# diagrama de caja para mensajes\n",
    "data_plans.boxplot(column = 'gb_used')"
   ]
  },
  {
   "cell_type": "markdown",
   "metadata": {
    "id": "tCijq3260q1N"
   },
   "source": [
    "## Ingreso"
   ]
  },
  {
   "cell_type": "code",
   "execution_count": 51,
   "metadata": {
    "id": "tz-dq_V00q1O"
   },
   "outputs": [
    {
     "name": "stdout",
     "output_type": "stream",
     "text": [
      "            surf   ultimate\n",
      "month                      \n",
      "1.0    20.000000  70.000000\n",
      "2.0    34.396667  70.000000\n",
      "3.0    45.941304  74.666667\n",
      "4.0    40.710600  73.000000\n",
      "5.0    47.628182  70.724138\n",
      "6.0    49.276289  71.638298\n",
      "7.0    62.674050  71.898305\n",
      "8.0    63.931173  72.859155\n",
      "9.0    58.271495  72.034884\n",
      "10.0   65.421224  72.311321\n",
      "11.0   58.004276  71.708661\n",
      "12.0   70.557044  73.291391\n"
     ]
    },
    {
     "data": {
      "text/plain": [
       "<AxesSubplot:title={'center':'Ingreso: surf vs ultimate'}, xlabel='Mes', ylabel='Promedio de ingreso'>"
      ]
     },
     "execution_count": 51,
     "metadata": {},
     "output_type": "execute_result"
    },
    {
     "data": {
      "image/png": "[encoded data removed]",
      "text/plain": [
       "<Figure size 700x600 with 1 Axes>"
      ]
     },
     "metadata": {},
     "output_type": "display_data"
    }
   ],
   "source": [
    "# Comparé el ingreso de los planes\n",
    "pay_mean_surf = data_plans.query('messages_included == 50').groupby('month')['total_pay'].mean()\n",
    "#print(calls_mean_surf)\n",
    "pay_mean_ultimate = data_plans.query('messages_included == 1000').groupby('month')['total_pay'].mean()\n",
    "#print(calls_mean_ultimate)\n",
    "pay_mean = pd.concat([pay_mean_surf, pay_mean_ultimate], axis='columns')\n",
    "pay_mean.columns = range(pay_mean.shape[1])\n",
    "pay_mean.rename(columns = {0:'surf', 1:'ultimate'}, inplace = True)\n",
    "print(pay_mean)\n",
    "pay_mean.plot(\n",
    "    kind = 'bar',\n",
    "    title = 'Ingreso: surf vs ultimate',\n",
    "    xlabel = 'Mes',\n",
    "    ylabel = 'Promedio de ingreso',\n",
    "    color = ['#12E193','#00A36C'],\n",
    "    figsize = [7.0,6.0],)"
   ]
  },
  {
   "cell_type": "code",
   "execution_count": 52,
   "metadata": {
    "id": "0Y1v8ZUz0q1P"
   },
   "outputs": [
    {
     "data": {
      "image/png": "[encoded data removed]",
      "text/plain": [
       "<Figure size 640x480 with 1 Axes>"
      ]
     },
     "metadata": {},
     "output_type": "display_data"
    }
   ],
   "source": [
    "#histogramas de ingresos por plan\n",
    "pay_surf = data_plans[data_plans['messages_included'] ==50]['total_pay']\n",
    "#print(minutes_mean_surf)\n",
    "pay_ultimate = data_plans[data_plans['messages_included'] == 1000]['total_pay']\n",
    "#print(minutes_mean_ultimate)\n",
    "pay_surf.plot(kind = 'hist', bins = 30, color = '#12E193' )\n",
    "pay_ultimate.plot(kind = 'hist',bins = 12, alpha = 0.8, color = '#00A36C')\n",
    "plt.legend(['surf', 'ultimate'])\n",
    "plt.show()"
   ]
  },
  {
   "cell_type": "code",
   "execution_count": 53,
   "metadata": {
    "id": "bYmwxyVh0q1P"
   },
   "outputs": [
    {
     "name": "stdout",
     "output_type": "stream",
     "text": [
      "           count       mean        std   min   25%    50%    75%     max\n",
      "plan                                                                    \n",
      "surf      1573.0  60.706408  55.388042  20.0  20.0  40.36  80.36  590.37\n",
      "ultimate   720.0  72.313889  11.395108  70.0  70.0  70.00  70.00  182.00\n"
     ]
    }
   ],
   "source": [
    "# media y desviación estándard  para ingresos\n",
    "print(data_plans.groupby('plan')['total_pay'].describe())"
   ]
  },
  {
   "cell_type": "markdown",
   "metadata": {
    "id": "KAFidcXZ0q1P"
   },
   "source": [
    "[Elabora las conclusiones sobre cómo difiere el ingreso entre los planes.]"
   ]
  },
  {
   "cell_type": "markdown",
   "metadata": {
    "id": "ajJ7VKeI0q1Q"
   },
   "source": [
    "## Prueba las hipótesis estadísticas"
   ]
  },
  {
   "cell_type": "markdown",
   "metadata": {
    "id": "AdXAZ-yL0q1Q"
   },
   "source": [
    "[Prueba la hipótesis de que son diferentes los ingresos promedio procedentes de los usuarios de los planes de llamada Ultimate y Surf.]"
   ]
  },
  {
   "cell_type": "markdown",
   "metadata": {
    "id": "IQwa_hsh0q1Q"
   },
   "source": [
    "[Elabora las hipótesis nula y alternativa, escoge la prueba estadística, determina el valor alfa.]\n",
    "\n",
    "H0 = Los ingresos promedio de los usuarios con plan Ultimate y Surf son iguales\n",
    "\n",
    "H1 = Los ingresos promedio de los usuarios con plan Ultimate son diferentes a los que tienen plan Surf\n",
    "\n",
    "Escogeremos la prueba del valor p con una distribución Z"
   ]
  },
  {
   "cell_type": "code",
   "execution_count": 54,
   "metadata": {
    "id": "nFoPNlPq0q1R"
   },
   "outputs": [
    {
     "data": {
      "text/plain": [
       "<AxesSubplot:>"
      ]
     },
     "execution_count": 54,
     "metadata": {},
     "output_type": "execute_result"
    },
    {
     "data": {
      "image/png": "[encoded data removed]",
      "text/plain": [
       "<Figure size 640x480 with 1 Axes>"
      ]
     },
     "metadata": {},
     "output_type": "display_data"
    }
   ],
   "source": [
    "# diagrama de caja para ingreso\n",
    "data_plans.boxplot(column = 'total_pay')"
   ]
  },
  {
   "cell_type": "markdown",
   "metadata": {
    "id": "tCcAruM60q1R"
   },
   "source": [
    "[Prueba la hipótesis de que el ingreso promedio de los usuarios del área NY-NJ es diferente al de los usuarios de otras regiones.]"
   ]
  },
  {
   "cell_type": "markdown",
   "metadata": {
    "id": "LsBgitqj0q1R"
   },
   "source": [
    "[Elaboré las hipótesis nula y alternativa, escoge la prueba estadística, determina el valor alfa.]"
   ]
  },
  {
   "cell_type": "code",
   "execution_count": 55,
   "metadata": {
    "id": "Cqcj7wrZ0q1S"
   },
   "outputs": [
    {
     "name": "stdout",
     "output_type": "stream",
     "text": [
      "valor p:  3.1703905481135734e-15\n",
      "Se rechaza la hipótesis nula\n"
     ]
    }
   ],
   "source": [
    "# Prueba de las hipótesis\n",
    "alpha = 0.05\n",
    "results_pay_plan = st.ttest_ind(pay_surf, pay_ultimate, equal_var = False)\n",
    "print('valor p: ', results_pay_plan.pvalue)\n",
    "\n",
    "if results_pay_plan.pvalue < alpha:\n",
    "    print('Se rechaza la hipótesis nula')\n",
    "else:\n",
    "    print('No se puede rechazar la hipótesis nula')"
   ]
  },
  {
   "cell_type": "code",
   "execution_count": 56,
   "metadata": {},
   "outputs": [],
   "source": [
    "# H0 = El ingreso promedio de los usuarios de NY-NJ es igual que el de usuarios de otras regiones\n",
    "\n",
    "# H1 = El ingreso promedio de los usuarios de NY-NJ es diferente al de usuarios de otras regiones"
   ]
  },
  {
   "cell_type": "code",
   "execution_count": 57,
   "metadata": {},
   "outputs": [
    {
     "data": {
      "text/html": [
       "<div>\n",
       "<style scoped>\n",
       "    .dataframe tbody tr th:only-of-type {\n",
       "        vertical-align: middle;\n",
       "    }\n",
       "\n",
       "    .dataframe tbody tr th {\n",
       "        vertical-align: top;\n",
       "    }\n",
       "\n",
       "    .dataframe thead th {\n",
       "        text-align: right;\n",
       "    }\n",
       "</style>\n",
       "<table border=\"1\" class=\"dataframe\">\n",
       "  <thead>\n",
       "    <tr style=\"text-align: right;\">\n",
       "      <th></th>\n",
       "      <th>user_id</th>\n",
       "      <th>city</th>\n",
       "      <th>total_pay</th>\n",
       "    </tr>\n",
       "  </thead>\n",
       "  <tbody>\n",
       "    <tr>\n",
       "      <th>0</th>\n",
       "      <td>1000</td>\n",
       "      <td>Atlanta-Sandy Springs-Roswell, GA MSA</td>\n",
       "      <td>70.00</td>\n",
       "    </tr>\n",
       "    <tr>\n",
       "      <th>1</th>\n",
       "      <td>1001</td>\n",
       "      <td>Seattle-Tacoma-Bellevue, WA MSA</td>\n",
       "      <td>20.00</td>\n",
       "    </tr>\n",
       "    <tr>\n",
       "      <th>2</th>\n",
       "      <td>1001</td>\n",
       "      <td>Seattle-Tacoma-Bellevue, WA MSA</td>\n",
       "      <td>20.00</td>\n",
       "    </tr>\n",
       "    <tr>\n",
       "      <th>3</th>\n",
       "      <td>1001</td>\n",
       "      <td>Seattle-Tacoma-Bellevue, WA MSA</td>\n",
       "      <td>90.09</td>\n",
       "    </tr>\n",
       "    <tr>\n",
       "      <th>4</th>\n",
       "      <td>1001</td>\n",
       "      <td>Seattle-Tacoma-Bellevue, WA MSA</td>\n",
       "      <td>60.00</td>\n",
       "    </tr>\n",
       "    <tr>\n",
       "      <th>...</th>\n",
       "      <td>...</td>\n",
       "      <td>...</td>\n",
       "      <td>...</td>\n",
       "    </tr>\n",
       "    <tr>\n",
       "      <th>2288</th>\n",
       "      <td>1498</td>\n",
       "      <td>New York-Newark-Jersey City, NY-NJ-PA MSA</td>\n",
       "      <td>100.00</td>\n",
       "    </tr>\n",
       "    <tr>\n",
       "      <th>2289</th>\n",
       "      <td>1499</td>\n",
       "      <td>Orlando-Kissimmee-Sanford, FL MSA</td>\n",
       "      <td>20.00</td>\n",
       "    </tr>\n",
       "    <tr>\n",
       "      <th>2290</th>\n",
       "      <td>1499</td>\n",
       "      <td>Orlando-Kissimmee-Sanford, FL MSA</td>\n",
       "      <td>70.00</td>\n",
       "    </tr>\n",
       "    <tr>\n",
       "      <th>2291</th>\n",
       "      <td>1499</td>\n",
       "      <td>Orlando-Kissimmee-Sanford, FL MSA</td>\n",
       "      <td>40.00</td>\n",
       "    </tr>\n",
       "    <tr>\n",
       "      <th>2292</th>\n",
       "      <td>1499</td>\n",
       "      <td>Orlando-Kissimmee-Sanford, FL MSA</td>\n",
       "      <td>90.00</td>\n",
       "    </tr>\n",
       "  </tbody>\n",
       "</table>\n",
       "<p>2293 rows × 3 columns</p>\n",
       "</div>"
      ],
      "text/plain": [
       "      user_id                                       city  total_pay\n",
       "0        1000      Atlanta-Sandy Springs-Roswell, GA MSA      70.00\n",
       "1        1001            Seattle-Tacoma-Bellevue, WA MSA      20.00\n",
       "2        1001            Seattle-Tacoma-Bellevue, WA MSA      20.00\n",
       "3        1001            Seattle-Tacoma-Bellevue, WA MSA      90.09\n",
       "4        1001            Seattle-Tacoma-Bellevue, WA MSA      60.00\n",
       "...       ...                                        ...        ...\n",
       "2288     1498  New York-Newark-Jersey City, NY-NJ-PA MSA     100.00\n",
       "2289     1499          Orlando-Kissimmee-Sanford, FL MSA      20.00\n",
       "2290     1499          Orlando-Kissimmee-Sanford, FL MSA      70.00\n",
       "2291     1499          Orlando-Kissimmee-Sanford, FL MSA      40.00\n",
       "2292     1499          Orlando-Kissimmee-Sanford, FL MSA      90.00\n",
       "\n",
       "[2293 rows x 3 columns]"
      ]
     },
     "metadata": {},
     "output_type": "display_data"
    }
   ],
   "source": [
    "#Hacer Dataframe con la data que necesito\n",
    "df_total_pay = data_plans[['user_id', 'total_pay']]\n",
    "df_users_city = df_users[['user_id', 'city']]\n",
    "df_users_city = df_users_city.merge(df_total_pay, on = 'user_id')\n",
    "display(df_users_city)"
   ]
  },
  {
   "cell_type": "code",
   "execution_count": 58,
   "metadata": {},
   "outputs": [],
   "source": [
    "#El ingreso promedio de los usuarios del área NY-NJ es diferente al de los usuarios de otras regiones"
   ]
  },
  {
   "cell_type": "code",
   "execution_count": 59,
   "metadata": {},
   "outputs": [
    {
     "name": "stdout",
     "output_type": "stream",
     "text": [
      "promedio de ingreso de NY-NJ: 59.921352785145885\n",
      "promedio de ingreso de otras regiones: 65.2227713987474\n"
     ]
    }
   ],
   "source": [
    "#filtrar la data para obtener los grupos\n",
    "ny_nj = df_users_city[df_users_city['city']=='New York-Newark-Jersey City, NY-NJ-PA MSA']['total_pay']\n",
    "print('promedio de ingreso de NY-NJ:',ny_nj.mean())\n",
    "city_others = df_users_city[df_users_city['city']!='New York-Newark-Jersey City, NY-NJ-PA MSA']['total_pay']\n",
    "print('promedio de ingreso de otras regiones:',city_others.mean())"
   ]
  },
  {
   "cell_type": "code",
   "execution_count": 60,
   "metadata": {},
   "outputs": [
    {
     "name": "stdout",
     "output_type": "stream",
     "text": [
      "valor p:  0.043557431621342436\n",
      "Se rechaza la hipótesis nula\n"
     ]
    }
   ],
   "source": [
    "# Prueba de las hipótesis\n",
    "alpha = 0.05\n",
    "results_city = st.ttest_ind(ny_nj, city_others, equal_var = True)\n",
    "print('valor p: ', results_city.pvalue)\n",
    "\n",
    "if results_city.pvalue < alpha:\n",
    "    print('Se rechaza la hipótesis nula')\n",
    "else:\n",
    "    print('No se puede rechazar la hipótesis nula')"
   ]
  },
  {
   "cell_type": "markdown",
   "metadata": {
    "id": "bbTR8UQO0q1T"
   },
   "source": [
    "\n",
    "## Conclusión general\n",
    "\n",
    "1.-La mayoría de los usuarios son del plan surf (1573) vs utimate(720)\n",
    "\n",
    "2.-En la duración de llamadas no hay mucha diferencia si tomamos en cuenta el promedio de los usuarios surf vs ultimate. Los límites son 500 y 3000 respectivamente. En este caso, 1/4 de los usuarios con plan surf están pagando tarifas extra por exceder el límite de minutos en llamadas.\n",
    "\n",
    "3.-En cuanto al promedio de mensajes enviados en el plan surf (31) vs ultimate (37) tampoco hay mucha diferencia. Los límites de mensajes son 50 y 100 respectivamente. En este caso a la mayoría de los usuarios les convendría tener el plan surf\n",
    "\n",
    "4.- En cuanto a internet, surf tuvo un promedio de 16.7gb, esto quizás debido a usuarios atípicos (70gb), y el promedio para ultimate fue 17.3gb. Los límites de gb usados de cada plan son 15 y 30gb respectivamente. En este caso aproximadamente el 75% de los usuarios con el plan surf están pagando tarifas extras.\n",
    "\n",
    "5.-En cuanto a ingresos por plan tenemos un promedio de 60.7 dls en el plan surf y 72.3 para el plan ultimate, asimismo, tenemos valores atípicos hacia la derecha, en el caso de surf tenemos un máximo de 590 vs ultimate con 182. En este caso, aproximadamente el 25% de los usuarios con plan surf están pagando aproximadamente 10 dls más que los usuarios con plan ultimate\n",
    "\n",
    "Una estrategia para determinar si conviene o no adquirir cualquiera de los planes es observando la cantidad de gb que requiere el cliente. Debido a que la mayoría de los clientes utilizan más 15gb podríamos optar por una campaña que ofrezca alguna cantidad de GB de consumo que se encuentre en este rango de valores"
   ]
  },
  {
   "cell_type": "code",
   "execution_count": null,
   "metadata": {},
   "outputs": [],
   "source": []
  }
 ],
 "metadata": {
  "ExecuteTimeLog": [
   {
    "duration": 828,
    "start_time": "2021-11-16T09:21:11.304Z"
   },
   {
    "duration": 893,
    "start_time": "2021-11-16T09:21:17.728Z"
   },
   {
    "duration": 1150,
    "start_time": "2021-11-16T09:21:29.568Z"
   },
   {
    "duration": 3,
    "start_time": "2021-11-16T09:24:14.495Z"
   },
   {
    "duration": 120,
    "start_time": "2021-11-16T09:24:46.630Z"
   },
   {
    "duration": 3,
    "start_time": "2021-11-16T09:28:27.882Z"
   },
   {
    "duration": 4,
    "start_time": "2021-11-16T09:29:54.281Z"
   },
   {
    "duration": 3,
    "start_time": "2021-11-16T09:30:45.936Z"
   },
   {
    "duration": 4,
    "start_time": "2021-11-16T09:31:06.300Z"
   },
   {
    "duration": 113,
    "start_time": "2021-11-16T09:31:37.208Z"
   },
   {
    "duration": 143,
    "start_time": "2021-11-16T09:31:48.656Z"
   },
   {
    "duration": 98,
    "start_time": "2021-11-16T09:31:55.678Z"
   },
   {
    "duration": 3,
    "start_time": "2021-11-16T09:32:08.535Z"
   },
   {
    "duration": 111,
    "start_time": "2021-11-16T09:32:10.120Z"
   },
   {
    "duration": 3,
    "start_time": "2021-11-16T09:32:15.732Z"
   },
   {
    "duration": 4,
    "start_time": "2021-11-16T09:32:29.423Z"
   },
   {
    "duration": 3,
    "start_time": "2021-11-16T10:03:03.074Z"
   },
   {
    "duration": 3,
    "start_time": "2021-11-16T10:10:01.288Z"
   },
   {
    "duration": 3,
    "start_time": "2021-11-16T10:10:46.923Z"
   },
   {
    "duration": 121,
    "start_time": "2021-11-16T10:37:46.494Z"
   },
   {
    "duration": 125,
    "start_time": "2021-11-16T10:38:20.632Z"
   },
   {
    "duration": 112,
    "start_time": "2021-11-16T10:46:53.001Z"
   },
   {
    "duration": 110,
    "start_time": "2021-11-16T10:48:25.775Z"
   },
   {
    "duration": 3,
    "start_time": "2021-11-16T10:50:18.720Z"
   },
   {
    "duration": 4,
    "start_time": "2021-11-16T10:50:37.649Z"
   },
   {
    "duration": 2,
    "start_time": "2021-11-16T10:50:51.884Z"
   },
   {
    "duration": 3,
    "start_time": "2021-11-16T10:51:56.237Z"
   },
   {
    "duration": 101,
    "start_time": "2021-11-16T10:53:13.791Z"
   },
   {
    "duration": 3,
    "start_time": "2021-11-16T10:55:59.186Z"
   },
   {
    "duration": 3,
    "start_time": "2021-11-16T10:56:10.751Z"
   },
   {
    "duration": 3,
    "start_time": "2021-11-16T10:56:49.038Z"
   },
   {
    "duration": 3,
    "start_time": "2021-11-16T10:56:49.174Z"
   },
   {
    "duration": 4,
    "start_time": "2021-11-16T10:56:49.414Z"
   },
   {
    "duration": 3,
    "start_time": "2021-11-16T10:56:49.680Z"
   },
   {
    "duration": 3,
    "start_time": "2021-11-16T10:56:50.370Z"
   },
   {
    "duration": 114,
    "start_time": "2021-11-16T10:59:34.518Z"
   },
   {
    "duration": 3,
    "start_time": "2021-11-16T11:01:41.201Z"
   },
   {
    "duration": 116,
    "start_time": "2021-11-16T11:01:48.754Z"
   },
   {
    "duration": 3,
    "start_time": "2021-11-16T11:02:16.685Z"
   },
   {
    "duration": 3,
    "start_time": "2021-11-16T11:02:19.479Z"
   },
   {
    "duration": 3,
    "start_time": "2021-11-16T11:02:47.067Z"
   },
   {
    "duration": 3,
    "start_time": "2021-11-16T11:02:49.353Z"
   },
   {
    "duration": 3,
    "start_time": "2021-11-16T11:03:07.835Z"
   },
   {
    "duration": 3,
    "start_time": "2021-11-16T11:03:07.953Z"
   },
   {
    "duration": 112,
    "start_time": "2021-11-16T11:07:52.072Z"
   },
   {
    "duration": 187,
    "start_time": "2021-11-16T11:09:23.468Z"
   },
   {
    "duration": 4,
    "start_time": "2021-11-16T11:10:01.455Z"
   },
   {
    "duration": 3,
    "start_time": "2021-11-16T11:10:05.069Z"
   },
   {
    "duration": 4,
    "start_time": "2021-11-16T11:10:13.376Z"
   },
   {
    "duration": 3,
    "start_time": "2021-11-16T11:10:14.434Z"
   },
   {
    "duration": 3,
    "start_time": "2021-11-16T11:10:22.853Z"
   },
   {
    "duration": 4,
    "start_time": "2021-11-16T11:27:29.279Z"
   },
   {
    "duration": 4,
    "start_time": "2021-11-16T11:29:08.919Z"
   },
   {
    "duration": 118,
    "start_time": "2021-11-16T11:29:46.703Z"
   },
   {
    "duration": 437,
    "start_time": "2021-11-16T11:36:02.181Z"
   },
   {
    "duration": 157,
    "start_time": "2021-11-16T11:36:14.388Z"
   },
   {
    "duration": 207,
    "start_time": "2021-11-16T11:47:15.898Z"
   },
   {
    "duration": 3,
    "start_time": "2021-11-16T11:53:52.092Z"
   },
   {
    "duration": 3,
    "start_time": "2021-11-16T11:53:52.236Z"
   },
   {
    "duration": 3,
    "start_time": "2021-11-16T11:59:12.005Z"
   },
   {
    "duration": 112,
    "start_time": "2021-11-16T12:00:33.446Z"
   },
   {
    "duration": 3,
    "start_time": "2021-11-16T12:02:14.453Z"
   },
   {
    "duration": 3,
    "start_time": "2021-11-16T12:02:39.512Z"
   },
   {
    "duration": 106,
    "start_time": "2021-11-16T12:03:03.460Z"
   },
   {
    "duration": 3,
    "start_time": "2021-11-17T20:37:21.139Z"
   },
   {
    "duration": 3,
    "start_time": "2021-11-17T20:37:22.229Z"
   },
   {
    "duration": 3,
    "start_time": "2021-11-17T20:38:38.806Z"
   },
   {
    "duration": 3,
    "start_time": "2021-11-17T20:38:41.958Z"
   },
   {
    "duration": 3,
    "start_time": "2021-11-17T20:43:46.551Z"
   },
   {
    "duration": 4,
    "start_time": "2021-11-17T20:58:21.835Z"
   },
   {
    "duration": 3,
    "start_time": "2021-11-17T20:59:21.872Z"
   },
   {
    "duration": 4,
    "start_time": "2021-11-17T20:59:45.352Z"
   },
   {
    "duration": 4,
    "start_time": "2021-11-17T20:59:49.646Z"
   },
   {
    "duration": 159,
    "start_time": "2021-11-17T21:02:26.949Z"
   },
   {
    "duration": 3,
    "start_time": "2021-11-17T21:03:53.461Z"
   },
   {
    "duration": 3,
    "start_time": "2021-11-17T21:03:53.694Z"
   },
   {
    "duration": 3,
    "start_time": "2021-11-17T21:05:28.145Z"
   },
   {
    "duration": 116,
    "start_time": "2021-11-17T21:05:57.787Z"
   },
   {
    "duration": 3,
    "start_time": "2021-11-17T21:06:37.993Z"
   },
   {
    "duration": 3,
    "start_time": "2021-11-17T21:06:38.261Z"
   },
   {
    "duration": 3,
    "start_time": "2021-11-17T21:11:54.358Z"
   },
   {
    "duration": 3,
    "start_time": "2021-11-17T21:12:43.846Z"
   },
   {
    "duration": 4,
    "start_time": "2021-11-17T21:13:08.773Z"
   },
   {
    "duration": 3,
    "start_time": "2021-11-17T21:14:44.441Z"
   },
   {
    "duration": 3,
    "start_time": "2021-11-17T21:15:42.059Z"
   },
   {
    "duration": 4,
    "start_time": "2021-11-17T21:15:51.995Z"
   },
   {
    "duration": 3,
    "start_time": "2021-11-17T21:15:53.923Z"
   },
   {
    "duration": 3,
    "start_time": "2021-11-17T21:15:55.282Z"
   },
   {
    "duration": 3,
    "start_time": "2021-11-17T21:16:28.492Z"
   },
   {
    "duration": 3,
    "start_time": "2021-11-17T21:16:32.603Z"
   },
   {
    "duration": 3,
    "start_time": "2021-11-17T21:17:06.941Z"
   },
   {
    "duration": 98,
    "start_time": "2021-11-17T21:18:05.733Z"
   },
   {
    "duration": 4,
    "start_time": "2021-11-17T21:21:35.255Z"
   },
   {
    "duration": 3,
    "start_time": "2021-11-17T21:21:37.804Z"
   },
   {
    "duration": 4,
    "start_time": "2021-11-17T21:23:06.071Z"
   },
   {
    "duration": 3,
    "start_time": "2021-11-17T21:23:24.799Z"
   },
   {
    "duration": 3,
    "start_time": "2021-11-17T21:23:32.591Z"
   },
   {
    "duration": 98,
    "start_time": "2021-11-17T21:28:31.559Z"
   },
   {
    "duration": 3,
    "start_time": "2021-11-17T21:28:45.448Z"
   },
   {
    "duration": 3,
    "start_time": "2021-11-17T21:29:17.303Z"
   },
   {
    "duration": 3,
    "start_time": "2021-11-17T21:29:29.617Z"
   },
   {
    "duration": 3,
    "start_time": "2021-11-17T21:29:32.681Z"
   },
   {
    "duration": 3,
    "start_time": "2021-11-17T21:36:11.474Z"
   },
   {
    "duration": 3,
    "start_time": "2021-11-17T21:36:14.791Z"
   },
   {
    "duration": 3,
    "start_time": "2021-11-17T21:36:53.943Z"
   },
   {
    "duration": 3,
    "start_time": "2021-11-17T21:36:56.165Z"
   },
   {
    "duration": 4,
    "start_time": "2021-11-17T21:37:16.590Z"
   },
   {
    "duration": 3,
    "start_time": "2021-11-17T21:37:22.702Z"
   },
   {
    "duration": 4,
    "start_time": "2021-11-17T21:38:03.479Z"
   },
   {
    "duration": 3,
    "start_time": "2021-11-17T21:38:08.601Z"
   },
   {
    "duration": 3,
    "start_time": "2021-11-17T21:38:12.928Z"
   },
   {
    "duration": 3,
    "start_time": "2021-11-17T21:38:48.896Z"
   },
   {
    "duration": 2,
    "start_time": "2021-11-17T21:38:49.171Z"
   },
   {
    "duration": 4,
    "start_time": "2021-11-17T21:39:57.889Z"
   },
   {
    "duration": 3,
    "start_time": "2021-11-17T21:39:58.057Z"
   },
   {
    "duration": 3,
    "start_time": "2021-11-17T21:41:20.108Z"
   },
   {
    "duration": 3,
    "start_time": "2021-11-17T21:41:20.629Z"
   },
   {
    "duration": 3,
    "start_time": "2021-11-17T21:42:49.136Z"
   },
   {
    "duration": 3,
    "start_time": "2021-11-17T21:43:15.137Z"
   },
   {
    "duration": 4,
    "start_time": "2021-11-17T21:43:16.766Z"
   },
   {
    "duration": 4,
    "start_time": "2021-11-17T21:43:31.711Z"
   },
   {
    "duration": 3,
    "start_time": "2021-11-17T21:43:36.312Z"
   },
   {
    "duration": 4,
    "start_time": "2021-11-17T21:45:08.825Z"
   },
   {
    "duration": 4,
    "start_time": "2021-11-17T21:45:10.119Z"
   },
   {
    "duration": 4,
    "start_time": "2021-11-17T21:45:13.748Z"
   },
   {
    "duration": 3,
    "start_time": "2021-11-17T21:45:22.219Z"
   },
   {
    "duration": 3,
    "start_time": "2021-11-17T21:45:33.412Z"
   },
   {
    "duration": 2,
    "start_time": "2021-11-17T21:46:01.885Z"
   },
   {
    "duration": 3,
    "start_time": "2021-11-17T21:46:03.628Z"
   },
   {
    "duration": 107,
    "start_time": "2021-11-17T21:47:32.512Z"
   },
   {
    "duration": 103,
    "start_time": "2021-11-17T21:50:36.243Z"
   },
   {
    "duration": 3,
    "start_time": "2021-11-18T06:28:31.440Z"
   },
   {
    "duration": 3,
    "start_time": "2021-11-18T06:29:00.168Z"
   },
   {
    "duration": 3,
    "start_time": "2021-11-18T06:31:27.008Z"
   },
   {
    "duration": 2,
    "start_time": "2021-11-18T06:35:34.288Z"
   },
   {
    "duration": 2,
    "start_time": "2021-11-18T06:38:04.527Z"
   },
   {
    "duration": 876,
    "start_time": "2024-09-18T17:37:46.329Z"
   },
   {
    "duration": 0,
    "start_time": "2024-09-18T17:37:47.206Z"
   },
   {
    "duration": 17,
    "start_time": "2024-09-18T17:38:37.135Z"
   },
   {
    "duration": 2,
    "start_time": "2024-09-18T17:38:44.922Z"
   },
   {
    "duration": 621,
    "start_time": "2024-09-18T17:39:01.136Z"
   },
   {
    "duration": 5,
    "start_time": "2024-09-18T17:39:01.759Z"
   },
   {
    "duration": 643,
    "start_time": "2024-09-18T17:40:13.109Z"
   },
   {
    "duration": 265,
    "start_time": "2024-09-18T17:40:13.754Z"
   },
   {
    "duration": 575,
    "start_time": "2024-09-18T17:40:56.244Z"
   },
   {
    "duration": 224,
    "start_time": "2024-09-18T17:40:56.821Z"
   },
   {
    "duration": 11,
    "start_time": "2024-09-18T17:41:03.615Z"
   },
   {
    "duration": 18,
    "start_time": "2024-09-18T17:42:11.199Z"
   },
   {
    "duration": 603,
    "start_time": "2024-09-18T17:44:41.723Z"
   },
   {
    "duration": 162,
    "start_time": "2024-09-18T17:44:42.328Z"
   },
   {
    "duration": 17,
    "start_time": "2024-09-18T17:44:42.492Z"
   },
   {
    "duration": 14,
    "start_time": "2024-09-18T17:44:42.511Z"
   },
   {
    "duration": 12,
    "start_time": "2024-09-18T17:44:42.526Z"
   },
   {
    "duration": 8,
    "start_time": "2024-09-18T17:44:42.540Z"
   },
   {
    "duration": 9,
    "start_time": "2024-09-18T17:49:11.825Z"
   },
   {
    "duration": 632,
    "start_time": "2024-09-18T18:02:03.505Z"
   },
   {
    "duration": 161,
    "start_time": "2024-09-18T18:02:04.139Z"
   },
   {
    "duration": 21,
    "start_time": "2024-09-18T18:02:04.302Z"
   },
   {
    "duration": 15,
    "start_time": "2024-09-18T18:02:04.324Z"
   },
   {
    "duration": 14,
    "start_time": "2024-09-18T18:02:04.342Z"
   },
   {
    "duration": 9,
    "start_time": "2024-09-18T18:02:04.358Z"
   },
   {
    "duration": 11,
    "start_time": "2024-09-18T18:02:04.388Z"
   },
   {
    "duration": 627,
    "start_time": "2024-09-18T18:03:17.196Z"
   },
   {
    "duration": 166,
    "start_time": "2024-09-18T18:03:17.826Z"
   },
   {
    "duration": 19,
    "start_time": "2024-09-18T18:03:17.993Z"
   },
   {
    "duration": 16,
    "start_time": "2024-09-18T18:03:18.014Z"
   },
   {
    "duration": 12,
    "start_time": "2024-09-18T18:03:18.032Z"
   },
   {
    "duration": 10,
    "start_time": "2024-09-18T18:03:18.045Z"
   },
   {
    "duration": 40,
    "start_time": "2024-09-18T18:03:18.057Z"
   },
   {
    "duration": 7,
    "start_time": "2024-09-18T18:24:35.250Z"
   },
   {
    "duration": 5,
    "start_time": "2024-09-18T18:24:55.696Z"
   },
   {
    "duration": 4,
    "start_time": "2024-09-18T18:25:28.362Z"
   },
   {
    "duration": 9,
    "start_time": "2024-09-18T18:25:33.714Z"
   },
   {
    "duration": 18,
    "start_time": "2024-09-18T18:46:05.383Z"
   },
   {
    "duration": 555,
    "start_time": "2024-09-18T18:47:20.469Z"
   },
   {
    "duration": 156,
    "start_time": "2024-09-18T18:47:21.036Z"
   },
   {
    "duration": 21,
    "start_time": "2024-09-18T18:47:21.194Z"
   },
   {
    "duration": 16,
    "start_time": "2024-09-18T18:47:21.216Z"
   },
   {
    "duration": 13,
    "start_time": "2024-09-18T18:47:21.235Z"
   },
   {
    "duration": 10,
    "start_time": "2024-09-18T18:47:21.249Z"
   },
   {
    "duration": 36,
    "start_time": "2024-09-18T18:47:21.261Z"
   },
   {
    "duration": 7,
    "start_time": "2024-09-18T18:47:21.299Z"
   },
   {
    "duration": 5,
    "start_time": "2024-09-18T18:47:21.308Z"
   },
   {
    "duration": 625,
    "start_time": "2024-09-18T19:32:50.306Z"
   },
   {
    "duration": 154,
    "start_time": "2024-09-18T19:32:55.365Z"
   },
   {
    "duration": 29,
    "start_time": "2024-09-18T19:32:57.077Z"
   },
   {
    "duration": 24,
    "start_time": "2024-09-18T19:32:59.371Z"
   },
   {
    "duration": 18,
    "start_time": "2024-09-18T19:33:02.256Z"
   },
   {
    "duration": 12,
    "start_time": "2024-09-18T19:33:04.279Z"
   },
   {
    "duration": 14,
    "start_time": "2024-09-18T19:33:06.547Z"
   },
   {
    "duration": 9,
    "start_time": "2024-09-18T19:33:12.533Z"
   },
   {
    "duration": 5,
    "start_time": "2024-09-18T19:33:17.325Z"
   },
   {
    "duration": 8,
    "start_time": "2024-09-18T19:40:30.969Z"
   },
   {
    "duration": 556,
    "start_time": "2024-09-18T19:55:37.780Z"
   },
   {
    "duration": 158,
    "start_time": "2024-09-18T19:55:38.338Z"
   },
   {
    "duration": 28,
    "start_time": "2024-09-18T19:55:38.498Z"
   },
   {
    "duration": 21,
    "start_time": "2024-09-18T19:55:38.528Z"
   },
   {
    "duration": 18,
    "start_time": "2024-09-18T19:55:38.552Z"
   },
   {
    "duration": 12,
    "start_time": "2024-09-18T19:55:38.587Z"
   },
   {
    "duration": 11,
    "start_time": "2024-09-18T19:55:38.601Z"
   },
   {
    "duration": 8,
    "start_time": "2024-09-18T19:55:38.614Z"
   },
   {
    "duration": 5,
    "start_time": "2024-09-18T19:55:38.623Z"
   },
   {
    "duration": 632,
    "start_time": "2024-09-18T20:50:15.416Z"
   },
   {
    "duration": 231,
    "start_time": "2024-09-18T20:50:16.050Z"
   },
   {
    "duration": 30,
    "start_time": "2024-09-18T20:50:16.282Z"
   },
   {
    "duration": 26,
    "start_time": "2024-09-18T20:50:16.314Z"
   },
   {
    "duration": 19,
    "start_time": "2024-09-18T20:50:16.345Z"
   },
   {
    "duration": 12,
    "start_time": "2024-09-18T20:50:16.366Z"
   },
   {
    "duration": 33,
    "start_time": "2024-09-18T20:50:16.380Z"
   },
   {
    "duration": 9,
    "start_time": "2024-09-18T20:50:16.414Z"
   },
   {
    "duration": 6,
    "start_time": "2024-09-18T20:50:16.425Z"
   },
   {
    "duration": 5,
    "start_time": "2024-09-18T20:50:24.979Z"
   },
   {
    "duration": 629,
    "start_time": "2024-09-18T20:50:44.420Z"
   },
   {
    "duration": 155,
    "start_time": "2024-09-18T20:50:45.052Z"
   },
   {
    "duration": 30,
    "start_time": "2024-09-18T20:50:45.210Z"
   },
   {
    "duration": 22,
    "start_time": "2024-09-18T20:50:45.241Z"
   },
   {
    "duration": 17,
    "start_time": "2024-09-18T20:50:45.266Z"
   },
   {
    "duration": 37,
    "start_time": "2024-09-18T20:50:45.284Z"
   },
   {
    "duration": 12,
    "start_time": "2024-09-18T20:50:45.324Z"
   },
   {
    "duration": 8,
    "start_time": "2024-09-18T20:50:45.338Z"
   },
   {
    "duration": 6,
    "start_time": "2024-09-18T20:50:45.347Z"
   },
   {
    "duration": 5,
    "start_time": "2024-09-18T20:50:52.055Z"
   },
   {
    "duration": 625,
    "start_time": "2024-09-18T20:51:45.017Z"
   },
   {
    "duration": 157,
    "start_time": "2024-09-18T20:51:45.645Z"
   },
   {
    "duration": 27,
    "start_time": "2024-09-18T20:51:45.804Z"
   },
   {
    "duration": 21,
    "start_time": "2024-09-18T20:51:45.833Z"
   },
   {
    "duration": 17,
    "start_time": "2024-09-18T20:51:45.857Z"
   },
   {
    "duration": 12,
    "start_time": "2024-09-18T20:51:45.877Z"
   },
   {
    "duration": 11,
    "start_time": "2024-09-18T20:51:45.913Z"
   },
   {
    "duration": 8,
    "start_time": "2024-09-18T20:51:45.926Z"
   },
   {
    "duration": 6,
    "start_time": "2024-09-18T20:51:45.935Z"
   },
   {
    "duration": 5,
    "start_time": "2024-09-18T20:51:50.003Z"
   },
   {
    "duration": 634,
    "start_time": "2024-09-18T20:53:11.914Z"
   },
   {
    "duration": 157,
    "start_time": "2024-09-18T20:53:12.550Z"
   },
   {
    "duration": 28,
    "start_time": "2024-09-18T20:53:12.708Z"
   },
   {
    "duration": 22,
    "start_time": "2024-09-18T20:53:12.739Z"
   },
   {
    "duration": 19,
    "start_time": "2024-09-18T20:53:12.763Z"
   },
   {
    "duration": 31,
    "start_time": "2024-09-18T20:53:12.783Z"
   },
   {
    "duration": 12,
    "start_time": "2024-09-18T20:53:12.816Z"
   },
   {
    "duration": 8,
    "start_time": "2024-09-18T20:53:12.829Z"
   },
   {
    "duration": 5,
    "start_time": "2024-09-18T20:53:12.839Z"
   },
   {
    "duration": 6,
    "start_time": "2024-09-18T20:53:19.038Z"
   },
   {
    "duration": 9,
    "start_time": "2024-09-18T21:03:41.768Z"
   },
   {
    "duration": 6,
    "start_time": "2024-09-18T21:03:44.547Z"
   },
   {
    "duration": 5,
    "start_time": "2024-09-18T21:10:06.493Z"
   },
   {
    "duration": 606,
    "start_time": "2024-09-19T18:13:22.583Z"
   },
   {
    "duration": 263,
    "start_time": "2024-09-19T18:13:23.192Z"
   },
   {
    "duration": 29,
    "start_time": "2024-09-19T18:13:23.456Z"
   },
   {
    "duration": 21,
    "start_time": "2024-09-19T18:13:23.487Z"
   },
   {
    "duration": 19,
    "start_time": "2024-09-19T18:13:23.510Z"
   },
   {
    "duration": 12,
    "start_time": "2024-09-19T18:13:23.542Z"
   },
   {
    "duration": 13,
    "start_time": "2024-09-19T18:13:23.555Z"
   },
   {
    "duration": 9,
    "start_time": "2024-09-19T18:13:23.570Z"
   },
   {
    "duration": 5,
    "start_time": "2024-09-19T18:13:23.580Z"
   },
   {
    "duration": 5,
    "start_time": "2024-09-19T18:13:23.587Z"
   },
   {
    "duration": 2,
    "start_time": "2024-09-19T18:13:23.594Z"
   },
   {
    "duration": 46,
    "start_time": "2024-09-19T18:13:23.598Z"
   },
   {
    "duration": 5,
    "start_time": "2024-09-19T18:13:23.646Z"
   },
   {
    "duration": 5,
    "start_time": "2024-09-19T18:13:23.655Z"
   },
   {
    "duration": 2,
    "start_time": "2024-09-19T18:13:25.516Z"
   },
   {
    "duration": 9,
    "start_time": "2024-09-19T18:13:25.520Z"
   },
   {
    "duration": 4,
    "start_time": "2024-09-19T18:13:29.214Z"
   },
   {
    "duration": 6,
    "start_time": "2024-09-19T18:19:32.201Z"
   },
   {
    "duration": 3,
    "start_time": "2024-09-19T18:20:06.124Z"
   },
   {
    "duration": 5,
    "start_time": "2024-09-19T18:21:18.292Z"
   },
   {
    "duration": 239,
    "start_time": "2024-09-19T18:21:55.187Z"
   },
   {
    "duration": 425,
    "start_time": "2024-09-19T18:22:21.840Z"
   },
   {
    "duration": 93,
    "start_time": "2024-09-19T18:22:32.928Z"
   },
   {
    "duration": 17,
    "start_time": "2024-09-19T18:23:15.976Z"
   },
   {
    "duration": 13,
    "start_time": "2024-09-19T18:23:28.042Z"
   },
   {
    "duration": 17,
    "start_time": "2024-09-19T18:23:47.735Z"
   },
   {
    "duration": 10,
    "start_time": "2024-09-19T18:36:43.598Z"
   },
   {
    "duration": 16,
    "start_time": "2024-09-19T18:37:05.535Z"
   },
   {
    "duration": 5,
    "start_time": "2024-09-19T18:37:25.321Z"
   },
   {
    "duration": 6,
    "start_time": "2024-09-19T18:39:44.734Z"
   },
   {
    "duration": 624,
    "start_time": "2024-09-19T18:39:59.319Z"
   },
   {
    "duration": 168,
    "start_time": "2024-09-19T18:39:59.945Z"
   },
   {
    "duration": 30,
    "start_time": "2024-09-19T18:40:00.115Z"
   },
   {
    "duration": 24,
    "start_time": "2024-09-19T18:40:00.148Z"
   },
   {
    "duration": 20,
    "start_time": "2024-09-19T18:40:00.175Z"
   },
   {
    "duration": 13,
    "start_time": "2024-09-19T18:40:00.197Z"
   },
   {
    "duration": 15,
    "start_time": "2024-09-19T18:40:00.242Z"
   },
   {
    "duration": 10,
    "start_time": "2024-09-19T18:40:00.259Z"
   },
   {
    "duration": 5,
    "start_time": "2024-09-19T18:40:00.272Z"
   },
   {
    "duration": 5,
    "start_time": "2024-09-19T18:40:00.279Z"
   },
   {
    "duration": 3,
    "start_time": "2024-09-19T18:40:00.286Z"
   },
   {
    "duration": 8,
    "start_time": "2024-09-19T18:40:00.291Z"
   },
   {
    "duration": 41,
    "start_time": "2024-09-19T18:40:00.302Z"
   },
   {
    "duration": 6,
    "start_time": "2024-09-19T18:40:00.347Z"
   },
   {
    "duration": 2,
    "start_time": "2024-09-19T18:40:00.355Z"
   },
   {
    "duration": 9,
    "start_time": "2024-09-19T18:40:00.360Z"
   },
   {
    "duration": 6,
    "start_time": "2024-09-19T18:40:00.371Z"
   },
   {
    "duration": 7,
    "start_time": "2024-09-19T18:40:04.681Z"
   },
   {
    "duration": 590,
    "start_time": "2024-09-19T19:18:56.521Z"
   },
   {
    "duration": 188,
    "start_time": "2024-09-19T19:18:57.114Z"
   },
   {
    "duration": 32,
    "start_time": "2024-09-19T19:18:57.304Z"
   },
   {
    "duration": 27,
    "start_time": "2024-09-19T19:18:57.338Z"
   },
   {
    "duration": 21,
    "start_time": "2024-09-19T19:18:57.368Z"
   },
   {
    "duration": 14,
    "start_time": "2024-09-19T19:18:57.391Z"
   },
   {
    "duration": 41,
    "start_time": "2024-09-19T19:18:57.407Z"
   },
   {
    "duration": 10,
    "start_time": "2024-09-19T19:18:57.450Z"
   },
   {
    "duration": 15,
    "start_time": "2024-09-19T19:18:57.462Z"
   },
   {
    "duration": 6,
    "start_time": "2024-09-19T19:18:57.479Z"
   },
   {
    "duration": 3,
    "start_time": "2024-09-19T19:18:57.486Z"
   },
   {
    "duration": 9,
    "start_time": "2024-09-19T19:18:57.491Z"
   },
   {
    "duration": 5,
    "start_time": "2024-09-19T19:18:57.502Z"
   },
   {
    "duration": 7,
    "start_time": "2024-09-19T19:18:57.542Z"
   },
   {
    "duration": 2,
    "start_time": "2024-09-19T19:18:57.551Z"
   },
   {
    "duration": 9,
    "start_time": "2024-09-19T19:18:57.556Z"
   },
   {
    "duration": 6,
    "start_time": "2024-09-19T19:18:57.568Z"
   },
   {
    "duration": 8,
    "start_time": "2024-09-19T19:19:02.628Z"
   },
   {
    "duration": 6,
    "start_time": "2024-09-19T19:19:46.555Z"
   },
   {
    "duration": 6,
    "start_time": "2024-09-19T19:44:57.634Z"
   },
   {
    "duration": 14,
    "start_time": "2024-09-19T19:44:59.882Z"
   },
   {
    "duration": 15,
    "start_time": "2024-09-19T19:55:41.108Z"
   },
   {
    "duration": 6,
    "start_time": "2024-09-19T19:55:43.707Z"
   },
   {
    "duration": 705,
    "start_time": "2024-09-19T19:58:12.880Z"
   },
   {
    "duration": 7,
    "start_time": "2024-09-19T19:58:22.835Z"
   },
   {
    "duration": 6,
    "start_time": "2024-09-19T19:58:24.603Z"
   },
   {
    "duration": 6,
    "start_time": "2024-09-19T20:32:46.026Z"
   },
   {
    "duration": 4,
    "start_time": "2024-09-19T20:54:07.524Z"
   },
   {
    "duration": 572,
    "start_time": "2024-09-19T20:54:17.308Z"
   },
   {
    "duration": 160,
    "start_time": "2024-09-19T20:54:17.882Z"
   },
   {
    "duration": 29,
    "start_time": "2024-09-19T20:54:18.043Z"
   },
   {
    "duration": 22,
    "start_time": "2024-09-19T20:54:18.074Z"
   },
   {
    "duration": 18,
    "start_time": "2024-09-19T20:54:18.101Z"
   },
   {
    "duration": 28,
    "start_time": "2024-09-19T20:54:18.120Z"
   },
   {
    "duration": 11,
    "start_time": "2024-09-19T20:54:18.150Z"
   },
   {
    "duration": 7,
    "start_time": "2024-09-19T20:54:18.163Z"
   },
   {
    "duration": 5,
    "start_time": "2024-09-19T20:54:18.171Z"
   },
   {
    "duration": 5,
    "start_time": "2024-09-19T20:54:18.177Z"
   },
   {
    "duration": 2,
    "start_time": "2024-09-19T20:54:18.184Z"
   },
   {
    "duration": 7,
    "start_time": "2024-09-19T20:54:18.188Z"
   },
   {
    "duration": 47,
    "start_time": "2024-09-19T20:54:18.197Z"
   },
   {
    "duration": 5,
    "start_time": "2024-09-19T20:54:18.248Z"
   },
   {
    "duration": 2,
    "start_time": "2024-09-19T20:54:18.255Z"
   },
   {
    "duration": 15,
    "start_time": "2024-09-19T20:54:18.259Z"
   },
   {
    "duration": 6,
    "start_time": "2024-09-19T20:54:18.276Z"
   },
   {
    "duration": 8,
    "start_time": "2024-09-19T20:54:18.284Z"
   },
   {
    "duration": 6,
    "start_time": "2024-09-19T20:54:18.294Z"
   },
   {
    "duration": 49,
    "start_time": "2024-09-19T20:54:18.302Z"
   },
   {
    "duration": 4,
    "start_time": "2024-09-19T20:54:18.352Z"
   },
   {
    "duration": 2,
    "start_time": "2024-09-19T20:54:18.358Z"
   },
   {
    "duration": 2,
    "start_time": "2024-09-19T20:54:18.362Z"
   },
   {
    "duration": 13,
    "start_time": "2024-09-19T20:54:18.366Z"
   },
   {
    "duration": 4,
    "start_time": "2024-09-19T20:54:18.381Z"
   },
   {
    "duration": 5,
    "start_time": "2024-09-19T20:54:18.387Z"
   },
   {
    "duration": 49,
    "start_time": "2024-09-19T20:54:18.394Z"
   },
   {
    "duration": 4,
    "start_time": "2024-09-19T20:54:18.445Z"
   },
   {
    "duration": 3,
    "start_time": "2024-09-19T20:54:21.135Z"
   },
   {
    "duration": 3,
    "start_time": "2024-09-19T20:55:42.266Z"
   },
   {
    "duration": 3,
    "start_time": "2024-09-19T20:56:34.669Z"
   },
   {
    "duration": 3,
    "start_time": "2024-09-19T20:56:46.604Z"
   },
   {
    "duration": 3,
    "start_time": "2024-09-19T20:57:04.939Z"
   },
   {
    "duration": 245,
    "start_time": "2024-09-19T20:58:46.369Z"
   },
   {
    "duration": 16,
    "start_time": "2024-09-19T20:58:49.143Z"
   },
   {
    "duration": 66,
    "start_time": "2024-09-19T21:00:01.873Z"
   },
   {
    "duration": 19,
    "start_time": "2024-09-19T21:00:06.100Z"
   },
   {
    "duration": 3,
    "start_time": "2024-09-19T21:00:11.889Z"
   },
   {
    "duration": 4,
    "start_time": "2024-09-19T21:00:13.386Z"
   },
   {
    "duration": 4,
    "start_time": "2024-09-19T21:07:46.743Z"
   },
   {
    "duration": 3,
    "start_time": "2024-09-19T21:07:58.322Z"
   },
   {
    "duration": 3,
    "start_time": "2024-09-19T21:08:48.076Z"
   },
   {
    "duration": 3,
    "start_time": "2024-09-19T21:08:58.262Z"
   },
   {
    "duration": 3,
    "start_time": "2024-09-19T21:09:41.714Z"
   },
   {
    "duration": 3,
    "start_time": "2024-09-19T21:13:47.852Z"
   },
   {
    "duration": 563,
    "start_time": "2024-09-19T21:13:57.916Z"
   },
   {
    "duration": 160,
    "start_time": "2024-09-19T21:13:58.481Z"
   },
   {
    "duration": 28,
    "start_time": "2024-09-19T21:13:58.643Z"
   },
   {
    "duration": 22,
    "start_time": "2024-09-19T21:13:58.673Z"
   },
   {
    "duration": 18,
    "start_time": "2024-09-19T21:13:58.696Z"
   },
   {
    "duration": 33,
    "start_time": "2024-09-19T21:13:58.715Z"
   },
   {
    "duration": 12,
    "start_time": "2024-09-19T21:13:58.750Z"
   },
   {
    "duration": 7,
    "start_time": "2024-09-19T21:13:58.764Z"
   },
   {
    "duration": 5,
    "start_time": "2024-09-19T21:13:58.774Z"
   },
   {
    "duration": 5,
    "start_time": "2024-09-19T21:13:58.782Z"
   },
   {
    "duration": 3,
    "start_time": "2024-09-19T21:13:58.789Z"
   },
   {
    "duration": 9,
    "start_time": "2024-09-19T21:13:58.793Z"
   },
   {
    "duration": 44,
    "start_time": "2024-09-19T21:13:58.803Z"
   },
   {
    "duration": 6,
    "start_time": "2024-09-19T21:13:58.849Z"
   },
   {
    "duration": 2,
    "start_time": "2024-09-19T21:13:58.857Z"
   },
   {
    "duration": 15,
    "start_time": "2024-09-19T21:13:58.861Z"
   },
   {
    "duration": 5,
    "start_time": "2024-09-19T21:13:58.878Z"
   },
   {
    "duration": 99,
    "start_time": "2024-09-19T21:13:58.884Z"
   },
   {
    "duration": 6,
    "start_time": "2024-09-19T21:13:58.985Z"
   },
   {
    "duration": 12,
    "start_time": "2024-09-19T21:13:58.993Z"
   },
   {
    "duration": 4,
    "start_time": "2024-09-19T21:13:59.007Z"
   },
   {
    "duration": 2,
    "start_time": "2024-09-19T21:13:59.012Z"
   },
   {
    "duration": 2,
    "start_time": "2024-09-19T21:13:59.044Z"
   },
   {
    "duration": 15,
    "start_time": "2024-09-19T21:13:59.048Z"
   },
   {
    "duration": 4,
    "start_time": "2024-09-19T21:13:59.065Z"
   },
   {
    "duration": 7,
    "start_time": "2024-09-19T21:13:59.071Z"
   },
   {
    "duration": 5,
    "start_time": "2024-09-19T21:13:59.079Z"
   },
   {
    "duration": 5,
    "start_time": "2024-09-19T21:13:59.088Z"
   },
   {
    "duration": 3,
    "start_time": "2024-09-19T21:14:03.178Z"
   },
   {
    "duration": 3,
    "start_time": "2024-09-19T21:14:15.499Z"
   },
   {
    "duration": 3,
    "start_time": "2024-09-19T21:14:22.750Z"
   },
   {
    "duration": 3,
    "start_time": "2024-09-19T21:14:37.599Z"
   },
   {
    "duration": 653,
    "start_time": "2024-09-20T04:27:43.866Z"
   },
   {
    "duration": 247,
    "start_time": "2024-09-20T04:27:44.521Z"
   },
   {
    "duration": 30,
    "start_time": "2024-09-20T04:27:44.770Z"
   },
   {
    "duration": 22,
    "start_time": "2024-09-20T04:27:44.803Z"
   },
   {
    "duration": 18,
    "start_time": "2024-09-20T04:27:44.831Z"
   },
   {
    "duration": 12,
    "start_time": "2024-09-20T04:27:44.850Z"
   },
   {
    "duration": 13,
    "start_time": "2024-09-20T04:27:44.864Z"
   },
   {
    "duration": 8,
    "start_time": "2024-09-20T04:27:44.878Z"
   },
   {
    "duration": 4,
    "start_time": "2024-09-20T04:27:44.888Z"
   },
   {
    "duration": 5,
    "start_time": "2024-09-20T04:27:44.896Z"
   },
   {
    "duration": 3,
    "start_time": "2024-09-20T04:27:44.931Z"
   },
   {
    "duration": 9,
    "start_time": "2024-09-20T04:27:44.935Z"
   },
   {
    "duration": 5,
    "start_time": "2024-09-20T04:27:44.946Z"
   },
   {
    "duration": 6,
    "start_time": "2024-09-20T04:27:44.953Z"
   },
   {
    "duration": 3,
    "start_time": "2024-09-20T04:27:44.960Z"
   },
   {
    "duration": 17,
    "start_time": "2024-09-20T04:27:44.964Z"
   },
   {
    "duration": 4,
    "start_time": "2024-09-20T04:27:44.982Z"
   },
   {
    "duration": 121,
    "start_time": "2024-09-20T04:27:44.987Z"
   },
   {
    "duration": 9,
    "start_time": "2024-09-20T04:27:45.110Z"
   },
   {
    "duration": 17,
    "start_time": "2024-09-20T04:27:45.123Z"
   },
   {
    "duration": 8,
    "start_time": "2024-09-20T04:27:45.142Z"
   },
   {
    "duration": 3,
    "start_time": "2024-09-20T04:27:45.152Z"
   },
   {
    "duration": 3,
    "start_time": "2024-09-20T04:27:45.157Z"
   },
   {
    "duration": 14,
    "start_time": "2024-09-20T04:27:45.161Z"
   },
   {
    "duration": 5,
    "start_time": "2024-09-20T04:27:45.177Z"
   },
   {
    "duration": 6,
    "start_time": "2024-09-20T04:27:45.183Z"
   },
   {
    "duration": 41,
    "start_time": "2024-09-20T04:27:45.190Z"
   },
   {
    "duration": 4,
    "start_time": "2024-09-20T04:27:45.235Z"
   },
   {
    "duration": 48,
    "start_time": "2024-09-20T04:27:48.225Z"
   },
   {
    "duration": 586,
    "start_time": "2024-09-20T18:54:44.325Z"
   },
   {
    "duration": 267,
    "start_time": "2024-09-20T18:54:44.913Z"
   },
   {
    "duration": 27,
    "start_time": "2024-09-20T18:54:45.182Z"
   },
   {
    "duration": 22,
    "start_time": "2024-09-20T18:54:45.210Z"
   },
   {
    "duration": 18,
    "start_time": "2024-09-20T18:54:45.235Z"
   },
   {
    "duration": 11,
    "start_time": "2024-09-20T18:54:45.254Z"
   },
   {
    "duration": 11,
    "start_time": "2024-09-20T18:54:45.267Z"
   },
   {
    "duration": 7,
    "start_time": "2024-09-20T18:54:45.280Z"
   },
   {
    "duration": 4,
    "start_time": "2024-09-20T18:54:45.289Z"
   },
   {
    "duration": 38,
    "start_time": "2024-09-20T18:54:45.295Z"
   },
   {
    "duration": 3,
    "start_time": "2024-09-20T18:54:45.334Z"
   },
   {
    "duration": 7,
    "start_time": "2024-09-20T18:54:45.338Z"
   },
   {
    "duration": 6,
    "start_time": "2024-09-20T18:54:45.347Z"
   },
   {
    "duration": 5,
    "start_time": "2024-09-20T18:54:45.356Z"
   },
   {
    "duration": 2,
    "start_time": "2024-09-20T18:54:45.363Z"
   },
   {
    "duration": 16,
    "start_time": "2024-09-20T18:54:45.367Z"
   },
   {
    "duration": 4,
    "start_time": "2024-09-20T18:54:45.385Z"
   },
   {
    "duration": 106,
    "start_time": "2024-09-20T18:54:45.391Z"
   },
   {
    "duration": 5,
    "start_time": "2024-09-20T18:54:45.499Z"
   },
   {
    "duration": 29,
    "start_time": "2024-09-20T18:54:45.505Z"
   },
   {
    "duration": 6,
    "start_time": "2024-09-20T18:54:45.535Z"
   },
   {
    "duration": 2,
    "start_time": "2024-09-20T18:54:45.543Z"
   },
   {
    "duration": 2,
    "start_time": "2024-09-20T18:54:45.547Z"
   },
   {
    "duration": 12,
    "start_time": "2024-09-20T18:54:45.551Z"
   },
   {
    "duration": 4,
    "start_time": "2024-09-20T18:54:45.565Z"
   },
   {
    "duration": 6,
    "start_time": "2024-09-20T18:54:45.570Z"
   },
   {
    "duration": 7,
    "start_time": "2024-09-20T18:54:45.577Z"
   },
   {
    "duration": 48,
    "start_time": "2024-09-20T18:54:45.586Z"
   },
   {
    "duration": 40,
    "start_time": "2024-09-20T18:54:48.381Z"
   },
   {
    "duration": 233,
    "start_time": "2024-09-20T18:59:06.336Z"
   },
   {
    "duration": 21,
    "start_time": "2024-09-20T18:59:26.240Z"
   },
   {
    "duration": 27,
    "start_time": "2024-09-20T18:59:32.868Z"
   },
   {
    "duration": 28,
    "start_time": "2024-09-20T18:59:42.561Z"
   },
   {
    "duration": 21,
    "start_time": "2024-09-20T18:59:50.016Z"
   },
   {
    "duration": 33,
    "start_time": "2024-09-20T18:59:54.242Z"
   },
   {
    "duration": 19,
    "start_time": "2024-09-20T18:59:56.264Z"
   },
   {
    "duration": 558,
    "start_time": "2024-09-20T19:04:30.014Z"
   },
   {
    "duration": 169,
    "start_time": "2024-09-20T19:04:30.574Z"
   },
   {
    "duration": 27,
    "start_time": "2024-09-20T19:04:30.745Z"
   },
   {
    "duration": 21,
    "start_time": "2024-09-20T19:04:30.774Z"
   },
   {
    "duration": 34,
    "start_time": "2024-09-20T19:04:30.798Z"
   },
   {
    "duration": 11,
    "start_time": "2024-09-20T19:04:30.833Z"
   },
   {
    "duration": 11,
    "start_time": "2024-09-20T19:04:30.846Z"
   },
   {
    "duration": 7,
    "start_time": "2024-09-20T19:04:30.859Z"
   },
   {
    "duration": 5,
    "start_time": "2024-09-20T19:04:30.867Z"
   },
   {
    "duration": 6,
    "start_time": "2024-09-20T19:04:30.873Z"
   },
   {
    "duration": 3,
    "start_time": "2024-09-20T19:04:30.880Z"
   },
   {
    "duration": 8,
    "start_time": "2024-09-20T19:04:30.884Z"
   },
   {
    "duration": 5,
    "start_time": "2024-09-20T19:04:30.931Z"
   },
   {
    "duration": 5,
    "start_time": "2024-09-20T19:04:30.940Z"
   },
   {
    "duration": 2,
    "start_time": "2024-09-20T19:04:30.947Z"
   },
   {
    "duration": 15,
    "start_time": "2024-09-20T19:04:30.951Z"
   },
   {
    "duration": 5,
    "start_time": "2024-09-20T19:04:30.967Z"
   },
   {
    "duration": 99,
    "start_time": "2024-09-20T19:04:30.974Z"
   },
   {
    "duration": 5,
    "start_time": "2024-09-20T19:04:31.074Z"
   },
   {
    "duration": 11,
    "start_time": "2024-09-20T19:04:31.081Z"
   },
   {
    "duration": 4,
    "start_time": "2024-09-20T19:04:31.093Z"
   },
   {
    "duration": 3,
    "start_time": "2024-09-20T19:04:31.098Z"
   },
   {
    "duration": 3,
    "start_time": "2024-09-20T19:04:31.102Z"
   },
   {
    "duration": 14,
    "start_time": "2024-09-20T19:04:31.130Z"
   },
   {
    "duration": 4,
    "start_time": "2024-09-20T19:04:31.145Z"
   },
   {
    "duration": 6,
    "start_time": "2024-09-20T19:04:31.151Z"
   },
   {
    "duration": 5,
    "start_time": "2024-09-20T19:04:31.159Z"
   },
   {
    "duration": 5,
    "start_time": "2024-09-20T19:04:31.166Z"
   },
   {
    "duration": 73,
    "start_time": "2024-09-20T19:04:31.173Z"
   },
   {
    "duration": 511,
    "start_time": "2024-09-20T19:04:33.323Z"
   },
   {
    "duration": 616,
    "start_time": "2024-09-20T19:16:27.605Z"
   },
   {
    "duration": 167,
    "start_time": "2024-09-20T19:16:28.224Z"
   },
   {
    "duration": 28,
    "start_time": "2024-09-20T19:16:28.393Z"
   },
   {
    "duration": 24,
    "start_time": "2024-09-20T19:16:28.422Z"
   },
   {
    "duration": 19,
    "start_time": "2024-09-20T19:16:28.449Z"
   },
   {
    "duration": 11,
    "start_time": "2024-09-20T19:16:28.469Z"
   },
   {
    "duration": 12,
    "start_time": "2024-09-20T19:16:28.482Z"
   },
   {
    "duration": 39,
    "start_time": "2024-09-20T19:16:28.496Z"
   },
   {
    "duration": 5,
    "start_time": "2024-09-20T19:16:28.537Z"
   },
   {
    "duration": 5,
    "start_time": "2024-09-20T19:16:28.544Z"
   },
   {
    "duration": 3,
    "start_time": "2024-09-20T19:16:28.551Z"
   },
   {
    "duration": 8,
    "start_time": "2024-09-20T19:16:28.555Z"
   },
   {
    "duration": 6,
    "start_time": "2024-09-20T19:16:28.564Z"
   },
   {
    "duration": 5,
    "start_time": "2024-09-20T19:16:28.574Z"
   },
   {
    "duration": 3,
    "start_time": "2024-09-20T19:16:28.580Z"
   },
   {
    "duration": 52,
    "start_time": "2024-09-20T19:16:28.584Z"
   },
   {
    "duration": 5,
    "start_time": "2024-09-20T19:16:28.637Z"
   },
   {
    "duration": 95,
    "start_time": "2024-09-20T19:16:28.644Z"
   },
   {
    "duration": 5,
    "start_time": "2024-09-20T19:16:28.741Z"
   },
   {
    "duration": 12,
    "start_time": "2024-09-20T19:16:28.748Z"
   },
   {
    "duration": 3,
    "start_time": "2024-09-20T19:16:28.761Z"
   },
   {
    "duration": 2,
    "start_time": "2024-09-20T19:16:28.766Z"
   },
   {
    "duration": 2,
    "start_time": "2024-09-20T19:16:28.770Z"
   },
   {
    "duration": 13,
    "start_time": "2024-09-20T19:16:28.774Z"
   },
   {
    "duration": 4,
    "start_time": "2024-09-20T19:16:28.789Z"
   },
   {
    "duration": 41,
    "start_time": "2024-09-20T19:16:28.795Z"
   },
   {
    "duration": 6,
    "start_time": "2024-09-20T19:16:28.837Z"
   },
   {
    "duration": 6,
    "start_time": "2024-09-20T19:16:28.844Z"
   },
   {
    "duration": 41,
    "start_time": "2024-09-20T19:16:28.851Z"
   },
   {
    "duration": 501,
    "start_time": "2024-09-20T19:18:16.438Z"
   },
   {
    "duration": 570,
    "start_time": "2024-09-20T19:18:59.697Z"
   },
   {
    "duration": 157,
    "start_time": "2024-09-20T19:19:00.269Z"
   },
   {
    "duration": 33,
    "start_time": "2024-09-20T19:19:00.427Z"
   },
   {
    "duration": 25,
    "start_time": "2024-09-20T19:19:00.463Z"
   },
   {
    "duration": 18,
    "start_time": "2024-09-20T19:19:00.490Z"
   },
   {
    "duration": 27,
    "start_time": "2024-09-20T19:19:00.511Z"
   },
   {
    "duration": 12,
    "start_time": "2024-09-20T19:19:00.540Z"
   },
   {
    "duration": 8,
    "start_time": "2024-09-20T19:19:00.554Z"
   },
   {
    "duration": 5,
    "start_time": "2024-09-20T19:19:00.563Z"
   },
   {
    "duration": 6,
    "start_time": "2024-09-20T19:19:00.570Z"
   },
   {
    "duration": 4,
    "start_time": "2024-09-20T19:19:00.577Z"
   },
   {
    "duration": 7,
    "start_time": "2024-09-20T19:19:00.582Z"
   },
   {
    "duration": 42,
    "start_time": "2024-09-20T19:19:00.591Z"
   },
   {
    "duration": 6,
    "start_time": "2024-09-20T19:19:00.634Z"
   },
   {
    "duration": 2,
    "start_time": "2024-09-20T19:19:00.642Z"
   },
   {
    "duration": 15,
    "start_time": "2024-09-20T19:19:00.646Z"
   },
   {
    "duration": 4,
    "start_time": "2024-09-20T19:19:00.662Z"
   },
   {
    "duration": 94,
    "start_time": "2024-09-20T19:19:00.668Z"
   },
   {
    "duration": 6,
    "start_time": "2024-09-20T19:19:00.763Z"
   },
   {
    "duration": 12,
    "start_time": "2024-09-20T19:19:00.771Z"
   },
   {
    "duration": 5,
    "start_time": "2024-09-20T19:19:00.784Z"
   },
   {
    "duration": 2,
    "start_time": "2024-09-20T19:19:04.809Z"
   },
   {
    "duration": 2,
    "start_time": "2024-09-20T19:19:04.813Z"
   },
   {
    "duration": 13,
    "start_time": "2024-09-20T19:19:04.817Z"
   },
   {
    "duration": 4,
    "start_time": "2024-09-20T19:19:04.832Z"
   },
   {
    "duration": 5,
    "start_time": "2024-09-20T19:19:04.839Z"
   },
   {
    "duration": 5,
    "start_time": "2024-09-20T19:19:05.590Z"
   },
   {
    "duration": 4,
    "start_time": "2024-09-20T19:19:05.597Z"
   },
   {
    "duration": 41,
    "start_time": "2024-09-20T19:19:05.603Z"
   },
   {
    "duration": 486,
    "start_time": "2024-09-20T19:19:16.253Z"
   },
   {
    "duration": 108,
    "start_time": "2024-09-20T19:19:47.671Z"
   },
   {
    "duration": 82,
    "start_time": "2024-09-20T19:20:54.430Z"
   },
   {
    "duration": 530,
    "start_time": "2024-09-20T19:32:22.798Z"
   },
   {
    "duration": 6,
    "start_time": "2024-09-20T19:33:25.099Z"
   },
   {
    "duration": 577,
    "start_time": "2024-09-20T19:33:30.869Z"
   },
   {
    "duration": 84,
    "start_time": "2024-09-20T19:33:40.919Z"
   },
   {
    "duration": 82,
    "start_time": "2024-09-20T19:33:57.667Z"
   },
   {
    "duration": 14,
    "start_time": "2024-09-20T19:48:26.362Z"
   },
   {
    "duration": 58,
    "start_time": "2024-09-20T19:48:47.797Z"
   },
   {
    "duration": 40,
    "start_time": "2024-09-20T19:49:00.438Z"
   },
   {
    "duration": 57,
    "start_time": "2024-09-20T20:21:54.598Z"
   },
   {
    "duration": 16,
    "start_time": "2024-09-20T20:24:13.546Z"
   },
   {
    "duration": 14,
    "start_time": "2024-09-20T20:24:50.763Z"
   },
   {
    "duration": 646,
    "start_time": "2024-09-20T20:27:44.023Z"
   },
   {
    "duration": 228,
    "start_time": "2024-09-20T20:27:44.672Z"
   },
   {
    "duration": 34,
    "start_time": "2024-09-20T20:27:44.902Z"
   },
   {
    "duration": 31,
    "start_time": "2024-09-20T20:27:44.938Z"
   },
   {
    "duration": 24,
    "start_time": "2024-09-20T20:27:44.973Z"
   },
   {
    "duration": 33,
    "start_time": "2024-09-20T20:27:44.999Z"
   },
   {
    "duration": 13,
    "start_time": "2024-09-20T20:27:45.035Z"
   },
   {
    "duration": 9,
    "start_time": "2024-09-20T20:27:45.050Z"
   },
   {
    "duration": 6,
    "start_time": "2024-09-20T20:27:45.061Z"
   },
   {
    "duration": 6,
    "start_time": "2024-09-20T20:27:45.070Z"
   },
   {
    "duration": 3,
    "start_time": "2024-09-20T20:27:45.078Z"
   },
   {
    "duration": 11,
    "start_time": "2024-09-20T20:27:45.083Z"
   },
   {
    "duration": 6,
    "start_time": "2024-09-20T20:27:45.132Z"
   },
   {
    "duration": 5,
    "start_time": "2024-09-20T20:27:45.143Z"
   },
   {
    "duration": 2,
    "start_time": "2024-09-20T20:27:45.150Z"
   },
   {
    "duration": 20,
    "start_time": "2024-09-20T20:27:45.154Z"
   },
   {
    "duration": 9,
    "start_time": "2024-09-20T20:27:45.176Z"
   },
   {
    "duration": 127,
    "start_time": "2024-09-20T20:27:45.187Z"
   },
   {
    "duration": 6,
    "start_time": "2024-09-20T20:27:45.316Z"
   },
   {
    "duration": 18,
    "start_time": "2024-09-20T20:27:45.324Z"
   },
   {
    "duration": 4,
    "start_time": "2024-09-20T20:27:45.343Z"
   },
   {
    "duration": 3,
    "start_time": "2024-09-20T20:27:45.349Z"
   },
   {
    "duration": 2,
    "start_time": "2024-09-20T20:27:45.354Z"
   },
   {
    "duration": 16,
    "start_time": "2024-09-20T20:27:45.358Z"
   },
   {
    "duration": 5,
    "start_time": "2024-09-20T20:27:45.376Z"
   },
   {
    "duration": 7,
    "start_time": "2024-09-20T20:27:45.383Z"
   },
   {
    "duration": 45,
    "start_time": "2024-09-20T20:27:45.392Z"
   },
   {
    "duration": 6,
    "start_time": "2024-09-20T20:27:45.441Z"
   },
   {
    "duration": 49,
    "start_time": "2024-09-20T20:27:45.448Z"
   },
   {
    "duration": 110,
    "start_time": "2024-09-20T20:27:45.499Z"
   },
   {
    "duration": 43,
    "start_time": "2024-09-20T20:27:45.612Z"
   },
   {
    "duration": 55,
    "start_time": "2024-09-20T20:27:45.656Z"
   },
   {
    "duration": 399,
    "start_time": "2024-09-20T20:27:52.033Z"
   },
   {
    "duration": 25,
    "start_time": "2024-09-20T20:28:15.855Z"
   },
   {
    "duration": 44,
    "start_time": "2024-09-20T20:28:48.009Z"
   },
   {
    "duration": 19,
    "start_time": "2024-09-20T20:48:22.456Z"
   },
   {
    "duration": 19,
    "start_time": "2024-09-20T20:48:52.152Z"
   },
   {
    "duration": 87,
    "start_time": "2024-09-20T20:48:58.853Z"
   },
   {
    "duration": 141,
    "start_time": "2024-09-20T20:49:22.008Z"
   },
   {
    "duration": 614,
    "start_time": "2024-09-20T20:49:34.947Z"
   },
   {
    "duration": 158,
    "start_time": "2024-09-20T20:49:35.563Z"
   },
   {
    "duration": 28,
    "start_time": "2024-09-20T20:49:35.723Z"
   },
   {
    "duration": 20,
    "start_time": "2024-09-20T20:49:35.753Z"
   },
   {
    "duration": 17,
    "start_time": "2024-09-20T20:49:35.776Z"
   },
   {
    "duration": 10,
    "start_time": "2024-09-20T20:49:35.795Z"
   },
   {
    "duration": 32,
    "start_time": "2024-09-20T20:49:35.807Z"
   },
   {
    "duration": 8,
    "start_time": "2024-09-20T20:49:35.841Z"
   },
   {
    "duration": 5,
    "start_time": "2024-09-20T20:49:35.850Z"
   },
   {
    "duration": 5,
    "start_time": "2024-09-20T20:49:35.856Z"
   },
   {
    "duration": 3,
    "start_time": "2024-09-20T20:49:35.863Z"
   },
   {
    "duration": 8,
    "start_time": "2024-09-20T20:49:35.868Z"
   },
   {
    "duration": 5,
    "start_time": "2024-09-20T20:49:35.878Z"
   },
   {
    "duration": 5,
    "start_time": "2024-09-20T20:49:35.886Z"
   },
   {
    "duration": 3,
    "start_time": "2024-09-20T20:49:35.931Z"
   },
   {
    "duration": 14,
    "start_time": "2024-09-20T20:49:35.936Z"
   },
   {
    "duration": 4,
    "start_time": "2024-09-20T20:49:35.952Z"
   },
   {
    "duration": 87,
    "start_time": "2024-09-20T20:49:35.958Z"
   },
   {
    "duration": 5,
    "start_time": "2024-09-20T20:49:36.047Z"
   },
   {
    "duration": 11,
    "start_time": "2024-09-20T20:49:36.054Z"
   },
   {
    "duration": 4,
    "start_time": "2024-09-20T20:49:36.067Z"
   },
   {
    "duration": 4,
    "start_time": "2024-09-20T20:49:36.073Z"
   },
   {
    "duration": 3,
    "start_time": "2024-09-20T20:49:36.078Z"
   },
   {
    "duration": 13,
    "start_time": "2024-09-20T20:49:36.083Z"
   },
   {
    "duration": 37,
    "start_time": "2024-09-20T20:49:36.097Z"
   },
   {
    "duration": 7,
    "start_time": "2024-09-20T20:49:36.136Z"
   },
   {
    "duration": 5,
    "start_time": "2024-09-20T20:49:36.144Z"
   },
   {
    "duration": 5,
    "start_time": "2024-09-20T20:49:36.151Z"
   },
   {
    "duration": 48,
    "start_time": "2024-09-20T20:49:36.157Z"
   },
   {
    "duration": 87,
    "start_time": "2024-09-20T20:49:36.232Z"
   },
   {
    "duration": 41,
    "start_time": "2024-09-20T20:49:36.321Z"
   },
   {
    "duration": 51,
    "start_time": "2024-09-20T20:49:36.363Z"
   },
   {
    "duration": 235,
    "start_time": "2024-09-20T20:49:40.008Z"
   },
   {
    "duration": 84,
    "start_time": "2024-09-20T20:51:18.205Z"
   },
   {
    "duration": 83,
    "start_time": "2024-09-20T20:54:39.364Z"
   },
   {
    "duration": 86,
    "start_time": "2024-09-20T20:54:46.934Z"
   },
   {
    "duration": 84,
    "start_time": "2024-09-20T20:54:51.205Z"
   },
   {
    "duration": 104,
    "start_time": "2024-09-20T20:56:20.191Z"
   },
   {
    "duration": 14,
    "start_time": "2024-09-20T20:56:44.275Z"
   },
   {
    "duration": 117,
    "start_time": "2024-09-20T20:57:17.737Z"
   },
   {
    "duration": 29,
    "start_time": "2024-09-20T20:57:30.433Z"
   },
   {
    "duration": 2500,
    "start_time": "2024-09-21T20:45:47.717Z"
   },
   {
    "duration": 240,
    "start_time": "2024-09-21T20:45:50.219Z"
   },
   {
    "duration": 27,
    "start_time": "2024-09-21T20:45:50.460Z"
   },
   {
    "duration": 22,
    "start_time": "2024-09-21T20:45:50.490Z"
   },
   {
    "duration": 17,
    "start_time": "2024-09-21T20:45:50.513Z"
   },
   {
    "duration": 11,
    "start_time": "2024-09-21T20:45:50.532Z"
   },
   {
    "duration": 11,
    "start_time": "2024-09-21T20:45:50.544Z"
   },
   {
    "duration": 7,
    "start_time": "2024-09-21T20:45:50.557Z"
   },
   {
    "duration": 9,
    "start_time": "2024-09-21T20:46:42.229Z"
   },
   {
    "duration": 779,
    "start_time": "2024-09-21T20:46:52.424Z"
   },
   {
    "duration": 154,
    "start_time": "2024-09-21T20:46:53.206Z"
   },
   {
    "duration": 29,
    "start_time": "2024-09-21T20:46:53.362Z"
   },
   {
    "duration": 26,
    "start_time": "2024-09-21T20:46:53.392Z"
   },
   {
    "duration": 18,
    "start_time": "2024-09-21T20:46:53.421Z"
   },
   {
    "duration": 12,
    "start_time": "2024-09-21T20:46:53.441Z"
   },
   {
    "duration": 12,
    "start_time": "2024-09-21T20:46:53.454Z"
   },
   {
    "duration": 9,
    "start_time": "2024-09-21T20:46:56.119Z"
   },
   {
    "duration": 12,
    "start_time": "2024-09-21T20:47:00.041Z"
   },
   {
    "duration": 217,
    "start_time": "2024-09-21T20:48:25.163Z"
   },
   {
    "duration": 15,
    "start_time": "2024-09-21T20:48:45.175Z"
   },
   {
    "duration": 780,
    "start_time": "2024-09-21T20:49:55.805Z"
   },
   {
    "duration": 152,
    "start_time": "2024-09-21T20:49:56.587Z"
   },
   {
    "duration": 27,
    "start_time": "2024-09-21T20:49:56.741Z"
   },
   {
    "duration": 22,
    "start_time": "2024-09-21T20:49:56.770Z"
   },
   {
    "duration": 31,
    "start_time": "2024-09-21T20:49:56.794Z"
   },
   {
    "duration": 12,
    "start_time": "2024-09-21T20:49:56.826Z"
   },
   {
    "duration": 12,
    "start_time": "2024-09-21T20:49:56.839Z"
   },
   {
    "duration": 8,
    "start_time": "2024-09-21T20:49:56.853Z"
   },
   {
    "duration": 11,
    "start_time": "2024-09-21T20:49:56.862Z"
   },
   {
    "duration": 5,
    "start_time": "2024-09-21T20:49:56.909Z"
   },
   {
    "duration": 2,
    "start_time": "2024-09-21T20:50:12.054Z"
   },
   {
    "duration": 12,
    "start_time": "2024-09-21T20:50:44.862Z"
   },
   {
    "duration": 3,
    "start_time": "2024-09-21T20:51:33.154Z"
   },
   {
    "duration": 158,
    "start_time": "2024-09-21T20:51:33.160Z"
   },
   {
    "duration": 25,
    "start_time": "2024-09-21T20:51:33.320Z"
   },
   {
    "duration": 23,
    "start_time": "2024-09-21T20:51:33.347Z"
   },
   {
    "duration": 17,
    "start_time": "2024-09-21T20:51:33.372Z"
   },
   {
    "duration": 24,
    "start_time": "2024-09-21T20:51:33.390Z"
   },
   {
    "duration": 14,
    "start_time": "2024-09-21T20:51:33.416Z"
   },
   {
    "duration": 8,
    "start_time": "2024-09-21T20:51:33.432Z"
   },
   {
    "duration": 9,
    "start_time": "2024-09-21T20:51:33.442Z"
   },
   {
    "duration": 6,
    "start_time": "2024-09-21T20:51:33.452Z"
   },
   {
    "duration": 2,
    "start_time": "2024-09-21T20:51:33.459Z"
   },
   {
    "duration": 8,
    "start_time": "2024-09-21T20:51:33.463Z"
   },
   {
    "duration": 11,
    "start_time": "2024-09-21T20:51:33.510Z"
   },
   {
    "duration": 6,
    "start_time": "2024-09-21T20:51:33.523Z"
   },
   {
    "duration": 2,
    "start_time": "2024-09-21T20:51:33.530Z"
   },
   {
    "duration": 15,
    "start_time": "2024-09-21T20:51:33.534Z"
   },
   {
    "duration": 12,
    "start_time": "2024-09-21T20:51:35.190Z"
   },
   {
    "duration": 3,
    "start_time": "2024-09-21T21:03:29.017Z"
   },
   {
    "duration": 159,
    "start_time": "2024-09-21T21:03:29.023Z"
   },
   {
    "duration": 25,
    "start_time": "2024-09-21T21:03:29.184Z"
   },
   {
    "duration": 21,
    "start_time": "2024-09-21T21:03:29.211Z"
   },
   {
    "duration": 17,
    "start_time": "2024-09-21T21:03:29.234Z"
   },
   {
    "duration": 13,
    "start_time": "2024-09-21T21:03:29.253Z"
   },
   {
    "duration": 41,
    "start_time": "2024-09-21T21:03:29.267Z"
   },
   {
    "duration": 8,
    "start_time": "2024-09-21T21:03:29.310Z"
   },
   {
    "duration": 9,
    "start_time": "2024-09-21T21:03:29.319Z"
   },
   {
    "duration": 5,
    "start_time": "2024-09-21T21:03:29.331Z"
   },
   {
    "duration": 2,
    "start_time": "2024-09-21T21:03:29.337Z"
   },
   {
    "duration": 8,
    "start_time": "2024-09-21T21:03:29.341Z"
   },
   {
    "duration": 19,
    "start_time": "2024-09-21T21:03:29.351Z"
   },
   {
    "duration": 5,
    "start_time": "2024-09-21T21:03:29.372Z"
   },
   {
    "duration": 31,
    "start_time": "2024-09-21T21:03:29.379Z"
   },
   {
    "duration": 15,
    "start_time": "2024-09-21T21:03:29.411Z"
   },
   {
    "duration": 13,
    "start_time": "2024-09-21T21:03:29.427Z"
   },
   {
    "duration": 30,
    "start_time": "2024-09-21T21:03:31.094Z"
   },
   {
    "duration": 24,
    "start_time": "2024-09-21T21:04:03.273Z"
   },
   {
    "duration": 23,
    "start_time": "2024-09-21T21:04:16.395Z"
   },
   {
    "duration": 794,
    "start_time": "2024-09-21T21:04:30.610Z"
   },
   {
    "duration": 159,
    "start_time": "2024-09-21T21:04:31.409Z"
   },
   {
    "duration": 28,
    "start_time": "2024-09-21T21:04:31.570Z"
   },
   {
    "duration": 25,
    "start_time": "2024-09-21T21:04:31.600Z"
   },
   {
    "duration": 17,
    "start_time": "2024-09-21T21:04:31.627Z"
   },
   {
    "duration": 11,
    "start_time": "2024-09-21T21:04:31.646Z"
   },
   {
    "duration": 12,
    "start_time": "2024-09-21T21:04:31.659Z"
   },
   {
    "duration": 36,
    "start_time": "2024-09-21T21:04:31.673Z"
   },
   {
    "duration": 12,
    "start_time": "2024-09-21T21:04:31.711Z"
   },
   {
    "duration": 5,
    "start_time": "2024-09-21T21:04:31.725Z"
   },
   {
    "duration": 4,
    "start_time": "2024-09-21T21:04:31.731Z"
   },
   {
    "duration": 8,
    "start_time": "2024-09-21T21:04:31.736Z"
   },
   {
    "duration": 12,
    "start_time": "2024-09-21T21:04:31.745Z"
   },
   {
    "duration": 5,
    "start_time": "2024-09-21T21:04:31.761Z"
   },
   {
    "duration": 2,
    "start_time": "2024-09-21T21:04:31.768Z"
   },
   {
    "duration": 52,
    "start_time": "2024-09-21T21:04:31.772Z"
   },
   {
    "duration": 11,
    "start_time": "2024-09-21T21:04:31.825Z"
   },
   {
    "duration": 45,
    "start_time": "2024-09-21T21:04:34.243Z"
   },
   {
    "duration": 36,
    "start_time": "2024-09-21T21:05:23.979Z"
   },
   {
    "duration": 3,
    "start_time": "2024-09-21T21:06:01.221Z"
   },
   {
    "duration": 10,
    "start_time": "2024-09-21T21:06:24.966Z"
   },
   {
    "duration": 720,
    "start_time": "2024-09-21T21:08:28.884Z"
   },
   {
    "duration": 158,
    "start_time": "2024-09-21T21:08:29.606Z"
   },
   {
    "duration": 31,
    "start_time": "2024-09-21T21:08:29.767Z"
   },
   {
    "duration": 26,
    "start_time": "2024-09-21T21:08:29.800Z"
   },
   {
    "duration": 17,
    "start_time": "2024-09-21T21:08:29.828Z"
   },
   {
    "duration": 11,
    "start_time": "2024-09-21T21:08:29.846Z"
   },
   {
    "duration": 12,
    "start_time": "2024-09-21T21:08:29.859Z"
   },
   {
    "duration": 7,
    "start_time": "2024-09-21T21:08:29.873Z"
   },
   {
    "duration": 10,
    "start_time": "2024-09-21T21:08:29.908Z"
   },
   {
    "duration": 5,
    "start_time": "2024-09-21T21:08:29.920Z"
   },
   {
    "duration": 2,
    "start_time": "2024-09-21T21:08:29.928Z"
   },
   {
    "duration": 7,
    "start_time": "2024-09-21T21:08:29.932Z"
   },
   {
    "duration": 12,
    "start_time": "2024-09-21T21:08:29.940Z"
   },
   {
    "duration": 6,
    "start_time": "2024-09-21T21:08:29.953Z"
   },
   {
    "duration": 3,
    "start_time": "2024-09-21T21:08:29.960Z"
   },
   {
    "duration": 16,
    "start_time": "2024-09-21T21:08:30.008Z"
   },
   {
    "duration": 12,
    "start_time": "2024-09-21T21:08:30.026Z"
   },
   {
    "duration": 45,
    "start_time": "2024-09-21T21:08:30.040Z"
   },
   {
    "duration": 2,
    "start_time": "2024-09-21T21:08:30.109Z"
   },
   {
    "duration": 12,
    "start_time": "2024-09-21T21:08:30.113Z"
   },
   {
    "duration": 9,
    "start_time": "2024-09-21T21:08:30.126Z"
   },
   {
    "duration": 607,
    "start_time": "2024-09-21T21:08:33.499Z"
   },
   {
    "duration": 24,
    "start_time": "2024-09-21T21:09:05.227Z"
   },
   {
    "duration": 18,
    "start_time": "2024-09-21T21:10:02.293Z"
   },
   {
    "duration": 748,
    "start_time": "2024-09-21T21:10:31.457Z"
   },
   {
    "duration": 162,
    "start_time": "2024-09-21T21:10:32.208Z"
   },
   {
    "duration": 28,
    "start_time": "2024-09-21T21:10:32.372Z"
   },
   {
    "duration": 21,
    "start_time": "2024-09-21T21:10:32.402Z"
   },
   {
    "duration": 17,
    "start_time": "2024-09-21T21:10:32.425Z"
   },
   {
    "duration": 11,
    "start_time": "2024-09-21T21:10:32.443Z"
   },
   {
    "duration": 12,
    "start_time": "2024-09-21T21:10:32.456Z"
   },
   {
    "duration": 8,
    "start_time": "2024-09-21T21:10:32.469Z"
   },
   {
    "duration": 40,
    "start_time": "2024-09-21T21:10:32.478Z"
   },
   {
    "duration": 4,
    "start_time": "2024-09-21T21:10:32.522Z"
   },
   {
    "duration": 3,
    "start_time": "2024-09-21T21:10:32.528Z"
   },
   {
    "duration": 7,
    "start_time": "2024-09-21T21:10:32.533Z"
   },
   {
    "duration": 11,
    "start_time": "2024-09-21T21:10:32.542Z"
   },
   {
    "duration": 5,
    "start_time": "2024-09-21T21:10:32.555Z"
   },
   {
    "duration": 3,
    "start_time": "2024-09-21T21:10:32.562Z"
   },
   {
    "duration": 51,
    "start_time": "2024-09-21T21:10:32.566Z"
   },
   {
    "duration": 11,
    "start_time": "2024-09-21T21:10:32.619Z"
   },
   {
    "duration": 46,
    "start_time": "2024-09-21T21:10:32.632Z"
   },
   {
    "duration": 30,
    "start_time": "2024-09-21T21:10:32.680Z"
   },
   {
    "duration": 12,
    "start_time": "2024-09-21T21:10:32.712Z"
   },
   {
    "duration": 10,
    "start_time": "2024-09-21T21:10:32.725Z"
   },
   {
    "duration": 18,
    "start_time": "2024-09-21T21:10:32.737Z"
   },
   {
    "duration": 2,
    "start_time": "2024-09-21T21:10:32.757Z"
   },
   {
    "duration": 13,
    "start_time": "2024-09-21T21:10:32.761Z"
   },
   {
    "duration": 12,
    "start_time": "2024-09-21T21:10:35.219Z"
   },
   {
    "duration": 768,
    "start_time": "2024-09-21T21:45:46.056Z"
   },
   {
    "duration": 156,
    "start_time": "2024-09-21T21:45:46.826Z"
   },
   {
    "duration": 32,
    "start_time": "2024-09-21T21:45:46.983Z"
   },
   {
    "duration": 25,
    "start_time": "2024-09-21T21:45:47.018Z"
   },
   {
    "duration": 18,
    "start_time": "2024-09-21T21:45:47.045Z"
   },
   {
    "duration": 12,
    "start_time": "2024-09-21T21:45:47.065Z"
   },
   {
    "duration": 37,
    "start_time": "2024-09-21T21:45:47.079Z"
   },
   {
    "duration": 8,
    "start_time": "2024-09-21T21:45:47.118Z"
   },
   {
    "duration": 10,
    "start_time": "2024-09-21T21:45:47.128Z"
   },
   {
    "duration": 5,
    "start_time": "2024-09-21T21:45:47.142Z"
   },
   {
    "duration": 3,
    "start_time": "2024-09-21T21:45:47.149Z"
   },
   {
    "duration": 9,
    "start_time": "2024-09-21T21:45:47.153Z"
   },
   {
    "duration": 54,
    "start_time": "2024-09-21T21:45:47.164Z"
   },
   {
    "duration": 9,
    "start_time": "2024-09-21T21:45:47.220Z"
   },
   {
    "duration": 5,
    "start_time": "2024-09-21T21:45:47.231Z"
   },
   {
    "duration": 20,
    "start_time": "2024-09-21T21:45:47.238Z"
   },
   {
    "duration": 19,
    "start_time": "2024-09-21T21:45:47.260Z"
   },
   {
    "duration": 47,
    "start_time": "2024-09-21T21:45:47.309Z"
   },
   {
    "duration": 3,
    "start_time": "2024-09-21T21:45:47.358Z"
   },
   {
    "duration": 15,
    "start_time": "2024-09-21T21:45:47.362Z"
   },
   {
    "duration": 33,
    "start_time": "2024-09-21T21:45:47.378Z"
   },
   {
    "duration": 20,
    "start_time": "2024-09-21T21:45:47.413Z"
   },
   {
    "duration": 3,
    "start_time": "2024-09-21T21:45:47.434Z"
   },
   {
    "duration": 13,
    "start_time": "2024-09-21T21:45:47.439Z"
   },
   {
    "duration": 11,
    "start_time": "2024-09-21T21:45:47.453Z"
   },
   {
    "duration": 223,
    "start_time": "2024-09-21T21:45:53.106Z"
   },
   {
    "duration": 33,
    "start_time": "2024-09-21T21:45:58.266Z"
   },
   {
    "duration": 80,
    "start_time": "2024-09-21T21:46:20.377Z"
   },
   {
    "duration": 2,
    "start_time": "2024-09-21T21:46:49.633Z"
   },
   {
    "duration": 11,
    "start_time": "2024-09-21T21:47:21.885Z"
   },
   {
    "duration": 8,
    "start_time": "2024-09-21T21:48:55.804Z"
   },
   {
    "duration": 19,
    "start_time": "2024-09-21T21:53:36.306Z"
   },
   {
    "duration": 161,
    "start_time": "2024-09-21T21:54:25.949Z"
   },
   {
    "duration": 768,
    "start_time": "2024-09-21T21:54:39.206Z"
   },
   {
    "duration": 166,
    "start_time": "2024-09-21T21:54:39.977Z"
   },
   {
    "duration": 28,
    "start_time": "2024-09-21T21:54:40.144Z"
   },
   {
    "duration": 22,
    "start_time": "2024-09-21T21:54:40.173Z"
   },
   {
    "duration": 26,
    "start_time": "2024-09-21T21:54:40.197Z"
   },
   {
    "duration": 13,
    "start_time": "2024-09-21T21:54:40.224Z"
   },
   {
    "duration": 13,
    "start_time": "2024-09-21T21:54:40.239Z"
   },
   {
    "duration": 8,
    "start_time": "2024-09-21T21:54:40.253Z"
   },
   {
    "duration": 12,
    "start_time": "2024-09-21T21:54:40.264Z"
   },
   {
    "duration": 14,
    "start_time": "2024-09-21T21:54:43.607Z"
   },
   {
    "duration": 723,
    "start_time": "2024-09-21T21:55:00.779Z"
   },
   {
    "duration": 157,
    "start_time": "2024-09-21T21:55:01.504Z"
   },
   {
    "duration": 27,
    "start_time": "2024-09-21T21:55:01.663Z"
   },
   {
    "duration": 25,
    "start_time": "2024-09-21T21:55:01.692Z"
   },
   {
    "duration": 19,
    "start_time": "2024-09-21T21:55:01.719Z"
   },
   {
    "duration": 11,
    "start_time": "2024-09-21T21:55:01.740Z"
   },
   {
    "duration": 12,
    "start_time": "2024-09-21T21:55:01.753Z"
   },
   {
    "duration": 9,
    "start_time": "2024-09-21T21:55:01.767Z"
   },
   {
    "duration": 43,
    "start_time": "2024-09-21T21:55:01.777Z"
   },
   {
    "duration": 14,
    "start_time": "2024-09-21T21:55:01.821Z"
   },
   {
    "duration": 2,
    "start_time": "2024-09-21T21:55:01.837Z"
   },
   {
    "duration": 7,
    "start_time": "2024-09-21T21:55:01.841Z"
   },
   {
    "duration": 11,
    "start_time": "2024-09-21T21:55:01.850Z"
   },
   {
    "duration": 5,
    "start_time": "2024-09-21T21:55:01.865Z"
   },
   {
    "duration": 38,
    "start_time": "2024-09-21T21:55:01.872Z"
   },
   {
    "duration": 16,
    "start_time": "2024-09-21T21:55:01.912Z"
   },
   {
    "duration": 12,
    "start_time": "2024-09-21T21:55:01.929Z"
   },
   {
    "duration": 68,
    "start_time": "2024-09-21T21:55:01.942Z"
   },
   {
    "duration": 3,
    "start_time": "2024-09-21T21:55:02.012Z"
   },
   {
    "duration": 12,
    "start_time": "2024-09-21T21:55:02.017Z"
   },
   {
    "duration": 10,
    "start_time": "2024-09-21T21:55:02.031Z"
   },
   {
    "duration": 17,
    "start_time": "2024-09-21T21:55:02.043Z"
   },
   {
    "duration": 2,
    "start_time": "2024-09-21T21:55:02.062Z"
   },
   {
    "duration": 50,
    "start_time": "2024-09-21T21:55:02.066Z"
   },
   {
    "duration": 11,
    "start_time": "2024-09-21T21:55:02.117Z"
   },
   {
    "duration": 28,
    "start_time": "2024-09-21T21:55:02.129Z"
   },
   {
    "duration": 2,
    "start_time": "2024-09-21T21:55:02.159Z"
   },
   {
    "duration": 10,
    "start_time": "2024-09-21T21:55:07.989Z"
   },
   {
    "duration": 405,
    "start_time": "2024-09-21T21:58:25.351Z"
   },
   {
    "duration": 18,
    "start_time": "2024-09-21T21:59:14.226Z"
   },
   {
    "duration": 19,
    "start_time": "2024-09-21T21:59:21.189Z"
   },
   {
    "duration": 14,
    "start_time": "2024-09-21T21:59:45.757Z"
   },
   {
    "duration": 787,
    "start_time": "2024-09-21T22:00:15.527Z"
   },
   {
    "duration": 158,
    "start_time": "2024-09-21T22:00:16.316Z"
   },
   {
    "duration": 28,
    "start_time": "2024-09-21T22:00:16.476Z"
   },
   {
    "duration": 23,
    "start_time": "2024-09-21T22:00:16.506Z"
   },
   {
    "duration": 18,
    "start_time": "2024-09-21T22:00:16.531Z"
   },
   {
    "duration": 11,
    "start_time": "2024-09-21T22:00:16.551Z"
   },
   {
    "duration": 12,
    "start_time": "2024-09-21T22:00:16.564Z"
   },
   {
    "duration": 39,
    "start_time": "2024-09-21T22:00:16.578Z"
   },
   {
    "duration": 15,
    "start_time": "2024-09-21T22:00:16.620Z"
   },
   {
    "duration": 14,
    "start_time": "2024-09-21T22:00:16.639Z"
   },
   {
    "duration": 3,
    "start_time": "2024-09-21T22:00:16.655Z"
   },
   {
    "duration": 8,
    "start_time": "2024-09-21T22:00:16.660Z"
   },
   {
    "duration": 44,
    "start_time": "2024-09-21T22:00:16.670Z"
   },
   {
    "duration": 5,
    "start_time": "2024-09-21T22:00:16.717Z"
   },
   {
    "duration": 2,
    "start_time": "2024-09-21T22:00:16.724Z"
   },
   {
    "duration": 16,
    "start_time": "2024-09-21T22:00:16.728Z"
   },
   {
    "duration": 12,
    "start_time": "2024-09-21T22:00:16.745Z"
   },
   {
    "duration": 82,
    "start_time": "2024-09-21T22:00:16.759Z"
   },
   {
    "duration": 2,
    "start_time": "2024-09-21T22:00:16.843Z"
   },
   {
    "duration": 12,
    "start_time": "2024-09-21T22:00:16.847Z"
   },
   {
    "duration": 10,
    "start_time": "2024-09-21T22:00:16.860Z"
   },
   {
    "duration": 41,
    "start_time": "2024-09-21T22:00:16.871Z"
   },
   {
    "duration": 2,
    "start_time": "2024-09-21T22:00:16.913Z"
   },
   {
    "duration": 13,
    "start_time": "2024-09-21T22:00:16.917Z"
   },
   {
    "duration": 12,
    "start_time": "2024-09-21T22:00:16.932Z"
   },
   {
    "duration": 28,
    "start_time": "2024-09-21T22:00:16.946Z"
   },
   {
    "duration": 35,
    "start_time": "2024-09-21T22:00:16.975Z"
   },
   {
    "duration": 12,
    "start_time": "2024-09-21T22:00:20.761Z"
   },
   {
    "duration": 4,
    "start_time": "2024-09-21T22:02:12.438Z"
   },
   {
    "duration": 335,
    "start_time": "2024-09-21T22:02:19.114Z"
   },
   {
    "duration": 32,
    "start_time": "2024-09-21T22:02:32.565Z"
   },
   {
    "duration": 33,
    "start_time": "2024-09-21T22:03:13.842Z"
   },
   {
    "duration": 91,
    "start_time": "2024-09-21T22:04:17.343Z"
   },
   {
    "duration": 21,
    "start_time": "2024-09-21T22:06:22.521Z"
   },
   {
    "duration": 20,
    "start_time": "2024-09-21T22:07:54.386Z"
   },
   {
    "duration": 19,
    "start_time": "2024-09-21T22:08:05.283Z"
   },
   {
    "duration": 716,
    "start_time": "2024-09-21T23:17:43.193Z"
   },
   {
    "duration": 159,
    "start_time": "2024-09-21T23:17:43.911Z"
   },
   {
    "duration": 28,
    "start_time": "2024-09-21T23:17:44.073Z"
   },
   {
    "duration": 27,
    "start_time": "2024-09-21T23:17:44.102Z"
   },
   {
    "duration": 19,
    "start_time": "2024-09-21T23:17:44.131Z"
   },
   {
    "duration": 11,
    "start_time": "2024-09-21T23:17:44.151Z"
   },
   {
    "duration": 12,
    "start_time": "2024-09-21T23:17:44.164Z"
   },
   {
    "duration": 36,
    "start_time": "2024-09-21T23:17:44.177Z"
   },
   {
    "duration": 11,
    "start_time": "2024-09-21T23:17:44.214Z"
   },
   {
    "duration": 13,
    "start_time": "2024-09-21T23:17:44.226Z"
   },
   {
    "duration": 2,
    "start_time": "2024-09-21T23:17:44.241Z"
   },
   {
    "duration": 9,
    "start_time": "2024-09-21T23:17:44.245Z"
   },
   {
    "duration": 13,
    "start_time": "2024-09-21T23:17:44.256Z"
   },
   {
    "duration": 41,
    "start_time": "2024-09-21T23:17:44.272Z"
   },
   {
    "duration": 2,
    "start_time": "2024-09-21T23:17:44.315Z"
   },
   {
    "duration": 15,
    "start_time": "2024-09-21T23:17:44.320Z"
   },
   {
    "duration": 15,
    "start_time": "2024-09-21T23:17:44.337Z"
   },
   {
    "duration": 76,
    "start_time": "2024-09-21T23:17:44.356Z"
   },
   {
    "duration": 3,
    "start_time": "2024-09-21T23:17:44.434Z"
   },
   {
    "duration": 12,
    "start_time": "2024-09-21T23:17:44.438Z"
   },
   {
    "duration": 10,
    "start_time": "2024-09-21T23:17:44.452Z"
   },
   {
    "duration": 17,
    "start_time": "2024-09-21T23:17:44.463Z"
   },
   {
    "duration": 28,
    "start_time": "2024-09-21T23:17:44.482Z"
   },
   {
    "duration": 13,
    "start_time": "2024-09-21T23:17:44.512Z"
   },
   {
    "duration": 10,
    "start_time": "2024-09-21T23:17:44.527Z"
   },
   {
    "duration": 27,
    "start_time": "2024-09-21T23:17:44.539Z"
   },
   {
    "duration": 3,
    "start_time": "2024-09-21T23:17:44.568Z"
   },
   {
    "duration": 45,
    "start_time": "2024-09-21T23:17:44.572Z"
   },
   {
    "duration": 33,
    "start_time": "2024-09-21T23:17:44.619Z"
   },
   {
    "duration": 23,
    "start_time": "2024-09-21T23:17:44.654Z"
   },
   {
    "duration": 210,
    "start_time": "2024-09-21T23:24:59.210Z"
   },
   {
    "duration": 2864,
    "start_time": "2024-09-23T02:46:50.946Z"
   },
   {
    "duration": 255,
    "start_time": "2024-09-23T02:46:53.813Z"
   },
   {
    "duration": 38,
    "start_time": "2024-09-23T02:46:54.070Z"
   },
   {
    "duration": 30,
    "start_time": "2024-09-23T02:46:54.110Z"
   },
   {
    "duration": 24,
    "start_time": "2024-09-23T02:46:54.143Z"
   },
   {
    "duration": 12,
    "start_time": "2024-09-23T02:46:54.169Z"
   },
   {
    "duration": 11,
    "start_time": "2024-09-23T02:46:54.183Z"
   },
   {
    "duration": 29,
    "start_time": "2024-09-23T02:46:54.196Z"
   },
   {
    "duration": 14,
    "start_time": "2024-09-23T02:46:54.227Z"
   },
   {
    "duration": 13,
    "start_time": "2024-09-23T02:46:54.243Z"
   },
   {
    "duration": 3,
    "start_time": "2024-09-23T02:46:54.258Z"
   },
   {
    "duration": 8,
    "start_time": "2024-09-23T02:46:54.263Z"
   },
   {
    "duration": 11,
    "start_time": "2024-09-23T02:46:54.272Z"
   },
   {
    "duration": 43,
    "start_time": "2024-09-23T02:46:54.286Z"
   },
   {
    "duration": 3,
    "start_time": "2024-09-23T02:46:54.331Z"
   },
   {
    "duration": 15,
    "start_time": "2024-09-23T02:46:54.336Z"
   },
   {
    "duration": 12,
    "start_time": "2024-09-23T02:46:54.352Z"
   },
   {
    "duration": 71,
    "start_time": "2024-09-23T02:46:54.367Z"
   },
   {
    "duration": 3,
    "start_time": "2024-09-23T02:46:54.439Z"
   },
   {
    "duration": 12,
    "start_time": "2024-09-23T02:46:54.443Z"
   },
   {
    "duration": 10,
    "start_time": "2024-09-23T02:46:54.457Z"
   },
   {
    "duration": 23,
    "start_time": "2024-09-23T02:46:54.470Z"
   },
   {
    "duration": 3,
    "start_time": "2024-09-23T02:46:54.524Z"
   },
   {
    "duration": 13,
    "start_time": "2024-09-23T02:46:54.529Z"
   },
   {
    "duration": 13,
    "start_time": "2024-09-23T02:46:54.544Z"
   },
   {
    "duration": 25,
    "start_time": "2024-09-23T02:46:54.559Z"
   },
   {
    "duration": 2,
    "start_time": "2024-09-23T02:46:54.587Z"
   },
   {
    "duration": 43,
    "start_time": "2024-09-23T02:46:54.591Z"
   },
   {
    "duration": 243,
    "start_time": "2024-09-23T02:46:57.004Z"
   },
   {
    "duration": 40,
    "start_time": "2024-09-23T02:47:14.127Z"
   },
   {
    "duration": 34,
    "start_time": "2024-09-23T02:47:35.120Z"
   },
   {
    "duration": 36,
    "start_time": "2024-09-23T02:47:45.185Z"
   },
   {
    "duration": 30,
    "start_time": "2024-09-23T02:47:55.894Z"
   },
   {
    "duration": 18,
    "start_time": "2024-09-23T02:48:22.258Z"
   },
   {
    "duration": 16,
    "start_time": "2024-09-23T02:48:38.975Z"
   },
   {
    "duration": 16,
    "start_time": "2024-09-23T02:48:46.255Z"
   },
   {
    "duration": 7,
    "start_time": "2024-09-23T02:49:06.304Z"
   },
   {
    "duration": 4,
    "start_time": "2024-09-23T02:49:13.203Z"
   },
   {
    "duration": 16,
    "start_time": "2024-09-23T02:49:18.945Z"
   },
   {
    "duration": 16,
    "start_time": "2024-09-23T02:49:27.120Z"
   },
   {
    "duration": 16,
    "start_time": "2024-09-23T02:49:34.088Z"
   },
   {
    "duration": 767,
    "start_time": "2024-09-23T02:49:48.232Z"
   },
   {
    "duration": 160,
    "start_time": "2024-09-23T02:49:49.001Z"
   },
   {
    "duration": 28,
    "start_time": "2024-09-23T02:49:49.162Z"
   },
   {
    "duration": 22,
    "start_time": "2024-09-23T02:49:49.192Z"
   },
   {
    "duration": 18,
    "start_time": "2024-09-23T02:49:49.224Z"
   },
   {
    "duration": 11,
    "start_time": "2024-09-23T02:49:49.244Z"
   },
   {
    "duration": 12,
    "start_time": "2024-09-23T02:49:49.256Z"
   },
   {
    "duration": 7,
    "start_time": "2024-09-23T02:49:49.270Z"
   },
   {
    "duration": 10,
    "start_time": "2024-09-23T02:49:49.278Z"
   },
   {
    "duration": 14,
    "start_time": "2024-09-23T02:49:49.323Z"
   },
   {
    "duration": 2,
    "start_time": "2024-09-23T02:49:49.339Z"
   },
   {
    "duration": 7,
    "start_time": "2024-09-23T02:49:49.343Z"
   },
   {
    "duration": 11,
    "start_time": "2024-09-23T02:49:49.352Z"
   },
   {
    "duration": 5,
    "start_time": "2024-09-23T02:49:49.365Z"
   },
   {
    "duration": 3,
    "start_time": "2024-09-23T02:49:49.372Z"
   },
   {
    "duration": 46,
    "start_time": "2024-09-23T02:49:49.378Z"
   },
   {
    "duration": 11,
    "start_time": "2024-09-23T02:49:49.426Z"
   },
   {
    "duration": 44,
    "start_time": "2024-09-23T02:49:49.439Z"
   },
   {
    "duration": 2,
    "start_time": "2024-09-23T02:49:49.485Z"
   },
   {
    "duration": 40,
    "start_time": "2024-09-23T02:49:49.489Z"
   },
   {
    "duration": 10,
    "start_time": "2024-09-23T02:49:49.530Z"
   },
   {
    "duration": 17,
    "start_time": "2024-09-23T02:49:49.541Z"
   },
   {
    "duration": 2,
    "start_time": "2024-09-23T02:49:49.560Z"
   },
   {
    "duration": 13,
    "start_time": "2024-09-23T02:49:49.564Z"
   },
   {
    "duration": 11,
    "start_time": "2024-09-23T02:49:49.578Z"
   },
   {
    "duration": 26,
    "start_time": "2024-09-23T02:49:49.624Z"
   },
   {
    "duration": 2,
    "start_time": "2024-09-23T02:49:49.652Z"
   },
   {
    "duration": 17,
    "start_time": "2024-09-23T02:49:49.657Z"
   },
   {
    "duration": 148,
    "start_time": "2024-09-23T02:49:56.756Z"
   },
   {
    "duration": 30,
    "start_time": "2024-09-23T02:50:23.497Z"
   },
   {
    "duration": 732,
    "start_time": "2024-09-23T02:50:34.520Z"
   },
   {
    "duration": 145,
    "start_time": "2024-09-23T02:50:35.254Z"
   },
   {
    "duration": 31,
    "start_time": "2024-09-23T02:50:35.401Z"
   },
   {
    "duration": 22,
    "start_time": "2024-09-23T02:50:35.434Z"
   },
   {
    "duration": 18,
    "start_time": "2024-09-23T02:50:35.457Z"
   },
   {
    "duration": 11,
    "start_time": "2024-09-23T02:50:35.477Z"
   },
   {
    "duration": 36,
    "start_time": "2024-09-23T02:50:35.490Z"
   },
   {
    "duration": 8,
    "start_time": "2024-09-23T02:50:35.527Z"
   },
   {
    "duration": 10,
    "start_time": "2024-09-23T02:50:35.537Z"
   },
   {
    "duration": 13,
    "start_time": "2024-09-23T02:50:35.551Z"
   },
   {
    "duration": 2,
    "start_time": "2024-09-23T02:50:35.565Z"
   },
   {
    "duration": 7,
    "start_time": "2024-09-23T02:50:35.569Z"
   },
   {
    "duration": 52,
    "start_time": "2024-09-23T02:50:35.578Z"
   },
   {
    "duration": 6,
    "start_time": "2024-09-23T02:50:35.631Z"
   },
   {
    "duration": 2,
    "start_time": "2024-09-23T02:50:35.638Z"
   },
   {
    "duration": 15,
    "start_time": "2024-09-23T02:50:35.642Z"
   },
   {
    "duration": 12,
    "start_time": "2024-09-23T02:50:35.658Z"
   },
   {
    "duration": 72,
    "start_time": "2024-09-23T02:50:35.671Z"
   },
   {
    "duration": 3,
    "start_time": "2024-09-23T02:50:35.744Z"
   },
   {
    "duration": 12,
    "start_time": "2024-09-23T02:50:35.748Z"
   },
   {
    "duration": 9,
    "start_time": "2024-09-23T02:50:35.762Z"
   },
   {
    "duration": 16,
    "start_time": "2024-09-23T02:50:35.774Z"
   },
   {
    "duration": 2,
    "start_time": "2024-09-23T02:50:35.792Z"
   },
   {
    "duration": 42,
    "start_time": "2024-09-23T02:50:35.796Z"
   },
   {
    "duration": 10,
    "start_time": "2024-09-23T02:50:35.841Z"
   },
   {
    "duration": 26,
    "start_time": "2024-09-23T02:50:35.852Z"
   },
   {
    "duration": 2,
    "start_time": "2024-09-23T02:50:35.879Z"
   },
   {
    "duration": 41,
    "start_time": "2024-09-23T02:50:35.885Z"
   },
   {
    "duration": 29,
    "start_time": "2024-09-23T02:50:41.315Z"
   },
   {
    "duration": 21,
    "start_time": "2024-09-23T02:51:24.422Z"
   },
   {
    "duration": 17,
    "start_time": "2024-09-23T02:52:43.319Z"
   },
   {
    "duration": 31,
    "start_time": "2024-09-23T04:02:41.190Z"
   },
   {
    "duration": 208,
    "start_time": "2024-09-23T04:03:20.462Z"
   },
   {
    "duration": 16,
    "start_time": "2024-09-23T04:03:58.534Z"
   },
   {
    "duration": 19,
    "start_time": "2024-09-23T04:04:47.284Z"
   },
   {
    "duration": 64,
    "start_time": "2024-09-23T04:05:06.823Z"
   },
   {
    "duration": 24,
    "start_time": "2024-09-23T04:05:22.004Z"
   },
   {
    "duration": 2450,
    "start_time": "2024-09-23T19:56:31.093Z"
   },
   {
    "duration": 260,
    "start_time": "2024-09-23T19:56:33.545Z"
   },
   {
    "duration": 26,
    "start_time": "2024-09-23T19:56:33.807Z"
   },
   {
    "duration": 21,
    "start_time": "2024-09-23T19:56:33.835Z"
   },
   {
    "duration": 22,
    "start_time": "2024-09-23T19:56:33.859Z"
   },
   {
    "duration": 11,
    "start_time": "2024-09-23T19:56:33.882Z"
   },
   {
    "duration": 12,
    "start_time": "2024-09-23T19:56:33.895Z"
   },
   {
    "duration": 7,
    "start_time": "2024-09-23T19:56:33.908Z"
   },
   {
    "duration": 10,
    "start_time": "2024-09-23T19:56:33.917Z"
   },
   {
    "duration": 45,
    "start_time": "2024-09-23T19:56:33.929Z"
   },
   {
    "duration": 2,
    "start_time": "2024-09-23T19:56:33.976Z"
   },
   {
    "duration": 7,
    "start_time": "2024-09-23T19:56:33.981Z"
   },
   {
    "duration": 12,
    "start_time": "2024-09-23T19:56:33.990Z"
   },
   {
    "duration": 5,
    "start_time": "2024-09-23T19:56:34.005Z"
   },
   {
    "duration": 2,
    "start_time": "2024-09-23T19:56:34.012Z"
   },
   {
    "duration": 14,
    "start_time": "2024-09-23T19:56:34.016Z"
   },
   {
    "duration": 12,
    "start_time": "2024-09-23T19:56:34.071Z"
   },
   {
    "duration": 46,
    "start_time": "2024-09-23T19:56:34.084Z"
   },
   {
    "duration": 2,
    "start_time": "2024-09-23T19:56:34.132Z"
   },
   {
    "duration": 39,
    "start_time": "2024-09-23T19:56:34.136Z"
   },
   {
    "duration": 9,
    "start_time": "2024-09-23T19:56:34.177Z"
   },
   {
    "duration": 18,
    "start_time": "2024-09-23T19:56:34.188Z"
   },
   {
    "duration": 2,
    "start_time": "2024-09-23T19:56:34.208Z"
   },
   {
    "duration": 14,
    "start_time": "2024-09-23T19:56:34.211Z"
   },
   {
    "duration": 12,
    "start_time": "2024-09-23T19:56:34.226Z"
   },
   {
    "duration": 58,
    "start_time": "2024-09-23T19:56:34.239Z"
   },
   {
    "duration": 3,
    "start_time": "2024-09-23T19:56:34.299Z"
   },
   {
    "duration": 17,
    "start_time": "2024-09-23T19:56:34.304Z"
   },
   {
    "duration": 59,
    "start_time": "2024-09-23T19:56:34.322Z"
   },
   {
    "duration": 22,
    "start_time": "2024-09-23T19:56:34.383Z"
   },
   {
    "duration": 17,
    "start_time": "2024-09-23T19:56:34.407Z"
   },
   {
    "duration": 44,
    "start_time": "2024-09-23T19:56:34.426Z"
   },
   {
    "duration": 19,
    "start_time": "2024-09-23T19:56:37.803Z"
   },
   {
    "duration": 8,
    "start_time": "2024-09-23T20:07:37.238Z"
   },
   {
    "duration": 18,
    "start_time": "2024-09-23T20:08:13.151Z"
   },
   {
    "duration": 6,
    "start_time": "2024-09-23T20:08:23.339Z"
   },
   {
    "duration": 20,
    "start_time": "2024-09-23T20:08:27.631Z"
   },
   {
    "duration": 18,
    "start_time": "2024-09-23T20:14:14.333Z"
   },
   {
    "duration": 218,
    "start_time": "2024-09-23T20:14:47.952Z"
   },
   {
    "duration": 13,
    "start_time": "2024-09-23T20:15:30.720Z"
   },
   {
    "duration": 26,
    "start_time": "2024-09-23T20:15:39.563Z"
   },
   {
    "duration": 732,
    "start_time": "2024-09-23T20:16:10.923Z"
   },
   {
    "duration": 153,
    "start_time": "2024-09-23T20:16:11.657Z"
   },
   {
    "duration": 26,
    "start_time": "2024-09-23T20:16:11.812Z"
   },
   {
    "duration": 21,
    "start_time": "2024-09-23T20:16:11.841Z"
   },
   {
    "duration": 19,
    "start_time": "2024-09-23T20:16:11.869Z"
   },
   {
    "duration": 11,
    "start_time": "2024-09-23T20:16:11.889Z"
   },
   {
    "duration": 12,
    "start_time": "2024-09-23T20:16:11.901Z"
   },
   {
    "duration": 9,
    "start_time": "2024-09-23T20:16:11.914Z"
   },
   {
    "duration": 11,
    "start_time": "2024-09-23T20:16:11.924Z"
   },
   {
    "duration": 14,
    "start_time": "2024-09-23T20:16:11.972Z"
   },
   {
    "duration": 2,
    "start_time": "2024-09-23T20:16:11.987Z"
   },
   {
    "duration": 8,
    "start_time": "2024-09-23T20:16:11.991Z"
   },
   {
    "duration": 12,
    "start_time": "2024-09-23T20:16:12.000Z"
   },
   {
    "duration": 5,
    "start_time": "2024-09-23T20:16:12.014Z"
   },
   {
    "duration": 2,
    "start_time": "2024-09-23T20:16:12.021Z"
   },
   {
    "duration": 51,
    "start_time": "2024-09-23T20:16:12.025Z"
   },
   {
    "duration": 12,
    "start_time": "2024-09-23T20:16:12.078Z"
   },
   {
    "duration": 45,
    "start_time": "2024-09-23T20:16:12.091Z"
   },
   {
    "duration": 3,
    "start_time": "2024-09-23T20:16:12.137Z"
   },
   {
    "duration": 37,
    "start_time": "2024-09-23T20:16:12.142Z"
   },
   {
    "duration": 8,
    "start_time": "2024-09-23T20:16:12.181Z"
   },
   {
    "duration": 16,
    "start_time": "2024-09-23T20:16:12.191Z"
   },
   {
    "duration": 2,
    "start_time": "2024-09-23T20:16:12.209Z"
   },
   {
    "duration": 13,
    "start_time": "2024-09-23T20:16:12.213Z"
   },
   {
    "duration": 44,
    "start_time": "2024-09-23T20:16:12.227Z"
   },
   {
    "duration": 26,
    "start_time": "2024-09-23T20:16:12.273Z"
   },
   {
    "duration": 2,
    "start_time": "2024-09-23T20:16:12.302Z"
   },
   {
    "duration": 16,
    "start_time": "2024-09-23T20:16:12.308Z"
   },
   {
    "duration": 59,
    "start_time": "2024-09-23T20:16:12.326Z"
   },
   {
    "duration": 21,
    "start_time": "2024-09-23T20:16:12.387Z"
   },
   {
    "duration": 17,
    "start_time": "2024-09-23T20:16:12.409Z"
   },
   {
    "duration": 43,
    "start_time": "2024-09-23T20:16:12.428Z"
   },
   {
    "duration": 18,
    "start_time": "2024-09-23T20:16:12.472Z"
   },
   {
    "duration": 18,
    "start_time": "2024-09-23T20:16:12.492Z"
   },
   {
    "duration": 138,
    "start_time": "2024-09-23T20:16:15.636Z"
   },
   {
    "duration": 19,
    "start_time": "2024-09-23T20:16:23.846Z"
   },
   {
    "duration": 18,
    "start_time": "2024-09-23T20:17:38.904Z"
   },
   {
    "duration": 20,
    "start_time": "2024-09-23T20:17:42.926Z"
   },
   {
    "duration": 24,
    "start_time": "2024-09-23T20:18:52.284Z"
   },
   {
    "duration": 21,
    "start_time": "2024-09-23T20:19:52.811Z"
   },
   {
    "duration": 19,
    "start_time": "2024-09-23T20:20:01.725Z"
   },
   {
    "duration": 20,
    "start_time": "2024-09-23T20:20:42.309Z"
   },
   {
    "duration": 19,
    "start_time": "2024-09-23T20:21:12.186Z"
   },
   {
    "duration": 403,
    "start_time": "2024-09-23T20:22:58.581Z"
   },
   {
    "duration": 20,
    "start_time": "2024-09-23T20:23:23.177Z"
   },
   {
    "duration": 20,
    "start_time": "2024-09-23T20:23:40.390Z"
   },
   {
    "duration": 130,
    "start_time": "2024-09-23T20:24:14.419Z"
   },
   {
    "duration": 19,
    "start_time": "2024-09-23T20:24:23.501Z"
   },
   {
    "duration": 19,
    "start_time": "2024-09-23T20:24:35.077Z"
   },
   {
    "duration": 20,
    "start_time": "2024-09-23T20:24:48.871Z"
   },
   {
    "duration": 18,
    "start_time": "2024-09-23T20:24:54.180Z"
   },
   {
    "duration": 20,
    "start_time": "2024-09-23T20:24:59.678Z"
   },
   {
    "duration": 19,
    "start_time": "2024-09-23T20:25:12.162Z"
   },
   {
    "duration": 20,
    "start_time": "2024-09-23T20:25:22.186Z"
   },
   {
    "duration": 745,
    "start_time": "2024-09-23T20:25:47.218Z"
   },
   {
    "duration": 149,
    "start_time": "2024-09-23T20:25:47.965Z"
   },
   {
    "duration": 28,
    "start_time": "2024-09-23T20:25:48.115Z"
   },
   {
    "duration": 30,
    "start_time": "2024-09-23T20:25:48.145Z"
   },
   {
    "duration": 18,
    "start_time": "2024-09-23T20:25:48.176Z"
   },
   {
    "duration": 11,
    "start_time": "2024-09-23T20:25:48.196Z"
   },
   {
    "duration": 11,
    "start_time": "2024-09-23T20:25:48.209Z"
   },
   {
    "duration": 8,
    "start_time": "2024-09-23T20:25:48.222Z"
   },
   {
    "duration": 44,
    "start_time": "2024-09-23T20:25:48.231Z"
   },
   {
    "duration": 12,
    "start_time": "2024-09-23T20:25:48.278Z"
   },
   {
    "duration": 2,
    "start_time": "2024-09-23T20:25:48.292Z"
   },
   {
    "duration": 7,
    "start_time": "2024-09-23T20:25:48.296Z"
   },
   {
    "duration": 11,
    "start_time": "2024-09-23T20:25:48.304Z"
   },
   {
    "duration": 6,
    "start_time": "2024-09-23T20:25:48.316Z"
   },
   {
    "duration": 3,
    "start_time": "2024-09-23T20:25:48.323Z"
   },
   {
    "duration": 52,
    "start_time": "2024-09-23T20:25:48.327Z"
   },
   {
    "duration": 11,
    "start_time": "2024-09-23T20:25:48.381Z"
   },
   {
    "duration": 45,
    "start_time": "2024-09-23T20:25:48.394Z"
   },
   {
    "duration": 29,
    "start_time": "2024-09-23T20:25:48.441Z"
   },
   {
    "duration": 12,
    "start_time": "2024-09-23T20:25:48.472Z"
   },
   {
    "duration": 9,
    "start_time": "2024-09-23T20:25:48.485Z"
   },
   {
    "duration": 15,
    "start_time": "2024-09-23T20:25:48.496Z"
   },
   {
    "duration": 2,
    "start_time": "2024-09-23T20:25:48.513Z"
   },
   {
    "duration": 14,
    "start_time": "2024-09-23T20:25:48.516Z"
   },
   {
    "duration": 45,
    "start_time": "2024-09-23T20:25:48.533Z"
   },
   {
    "duration": 26,
    "start_time": "2024-09-23T20:25:48.580Z"
   },
   {
    "duration": 4,
    "start_time": "2024-09-23T20:25:48.608Z"
   },
   {
    "duration": 17,
    "start_time": "2024-09-23T20:25:48.616Z"
   },
   {
    "duration": 60,
    "start_time": "2024-09-23T20:25:48.635Z"
   },
   {
    "duration": 22,
    "start_time": "2024-09-23T20:25:48.697Z"
   },
   {
    "duration": 18,
    "start_time": "2024-09-23T20:25:48.720Z"
   },
   {
    "duration": 43,
    "start_time": "2024-09-23T20:25:48.741Z"
   },
   {
    "duration": 19,
    "start_time": "2024-09-23T20:25:48.786Z"
   },
   {
    "duration": 252,
    "start_time": "2024-09-23T20:28:23.173Z"
   },
   {
    "duration": 17,
    "start_time": "2024-09-23T20:28:39.293Z"
   },
   {
    "duration": 23,
    "start_time": "2024-09-23T20:28:48.957Z"
   },
   {
    "duration": 21,
    "start_time": "2024-09-23T20:29:57.820Z"
   },
   {
    "duration": 816,
    "start_time": "2024-09-23T21:28:42.881Z"
   },
   {
    "duration": 165,
    "start_time": "2024-09-23T21:28:43.699Z"
   },
   {
    "duration": 26,
    "start_time": "2024-09-23T21:28:43.865Z"
   },
   {
    "duration": 22,
    "start_time": "2024-09-23T21:28:43.893Z"
   },
   {
    "duration": 17,
    "start_time": "2024-09-23T21:28:43.918Z"
   },
   {
    "duration": 12,
    "start_time": "2024-09-23T21:28:43.937Z"
   },
   {
    "duration": 29,
    "start_time": "2024-09-23T21:28:43.950Z"
   },
   {
    "duration": 7,
    "start_time": "2024-09-23T21:28:43.981Z"
   },
   {
    "duration": 8,
    "start_time": "2024-09-23T21:28:43.990Z"
   },
   {
    "duration": 9,
    "start_time": "2024-09-23T21:28:43.999Z"
   },
   {
    "duration": 2,
    "start_time": "2024-09-23T21:28:44.010Z"
   },
   {
    "duration": 8,
    "start_time": "2024-09-23T21:28:44.014Z"
   },
   {
    "duration": 55,
    "start_time": "2024-09-23T21:28:44.024Z"
   },
   {
    "duration": 227,
    "start_time": "2024-09-23T21:28:44.082Z"
   },
   {
    "duration": 0,
    "start_time": "2024-09-23T21:28:44.311Z"
   },
   {
    "duration": 0,
    "start_time": "2024-09-23T21:28:44.312Z"
   },
   {
    "duration": 0,
    "start_time": "2024-09-23T21:28:44.313Z"
   },
   {
    "duration": 0,
    "start_time": "2024-09-23T21:28:44.314Z"
   },
   {
    "duration": 0,
    "start_time": "2024-09-23T21:28:44.315Z"
   },
   {
    "duration": 0,
    "start_time": "2024-09-23T21:28:44.317Z"
   },
   {
    "duration": 0,
    "start_time": "2024-09-23T21:28:44.318Z"
   },
   {
    "duration": 0,
    "start_time": "2024-09-23T21:28:44.319Z"
   },
   {
    "duration": 0,
    "start_time": "2024-09-23T21:28:44.321Z"
   },
   {
    "duration": 0,
    "start_time": "2024-09-23T21:28:44.322Z"
   },
   {
    "duration": 0,
    "start_time": "2024-09-23T21:28:44.324Z"
   },
   {
    "duration": 0,
    "start_time": "2024-09-23T21:28:44.325Z"
   },
   {
    "duration": 0,
    "start_time": "2024-09-23T21:28:44.326Z"
   },
   {
    "duration": 0,
    "start_time": "2024-09-23T21:28:44.328Z"
   },
   {
    "duration": 0,
    "start_time": "2024-09-23T21:28:44.329Z"
   },
   {
    "duration": 0,
    "start_time": "2024-09-23T21:28:44.331Z"
   },
   {
    "duration": 0,
    "start_time": "2024-09-23T21:28:44.332Z"
   },
   {
    "duration": 0,
    "start_time": "2024-09-23T21:28:44.333Z"
   },
   {
    "duration": 0,
    "start_time": "2024-09-23T21:28:44.371Z"
   },
   {
    "duration": 0,
    "start_time": "2024-09-23T21:28:44.372Z"
   },
   {
    "duration": 0,
    "start_time": "2024-09-23T21:28:44.374Z"
   },
   {
    "duration": 0,
    "start_time": "2024-09-23T21:28:44.375Z"
   },
   {
    "duration": 0,
    "start_time": "2024-09-23T21:28:44.376Z"
   },
   {
    "duration": 0,
    "start_time": "2024-09-23T21:28:44.378Z"
   },
   {
    "duration": 0,
    "start_time": "2024-09-23T21:28:44.379Z"
   },
   {
    "duration": 0,
    "start_time": "2024-09-23T21:28:44.380Z"
   },
   {
    "duration": 0,
    "start_time": "2024-09-23T21:28:44.381Z"
   },
   {
    "duration": 0,
    "start_time": "2024-09-23T21:28:44.383Z"
   },
   {
    "duration": 0,
    "start_time": "2024-09-23T21:28:44.384Z"
   },
   {
    "duration": 0,
    "start_time": "2024-09-23T21:28:44.386Z"
   },
   {
    "duration": 0,
    "start_time": "2024-09-23T21:28:44.387Z"
   },
   {
    "duration": 0,
    "start_time": "2024-09-23T21:28:44.388Z"
   },
   {
    "duration": 0,
    "start_time": "2024-09-23T21:28:44.389Z"
   },
   {
    "duration": 0,
    "start_time": "2024-09-23T21:28:44.390Z"
   },
   {
    "duration": 0,
    "start_time": "2024-09-23T21:28:44.391Z"
   },
   {
    "duration": 0,
    "start_time": "2024-09-23T21:28:44.392Z"
   },
   {
    "duration": 0,
    "start_time": "2024-09-23T21:28:44.393Z"
   },
   {
    "duration": 0,
    "start_time": "2024-09-23T21:28:44.394Z"
   },
   {
    "duration": 0,
    "start_time": "2024-09-23T21:28:44.395Z"
   },
   {
    "duration": 0,
    "start_time": "2024-09-23T21:28:44.396Z"
   },
   {
    "duration": 0,
    "start_time": "2024-09-23T21:28:44.397Z"
   },
   {
    "duration": 0,
    "start_time": "2024-09-23T21:28:44.398Z"
   },
   {
    "duration": 0,
    "start_time": "2024-09-23T21:28:44.399Z"
   },
   {
    "duration": 0,
    "start_time": "2024-09-23T21:28:44.400Z"
   },
   {
    "duration": 0,
    "start_time": "2024-09-23T21:28:44.402Z"
   },
   {
    "duration": 759,
    "start_time": "2024-09-23T21:29:19.799Z"
   },
   {
    "duration": 154,
    "start_time": "2024-09-23T21:29:20.561Z"
   },
   {
    "duration": 28,
    "start_time": "2024-09-23T21:29:20.717Z"
   },
   {
    "duration": 32,
    "start_time": "2024-09-23T21:29:20.746Z"
   },
   {
    "duration": 17,
    "start_time": "2024-09-23T21:29:20.781Z"
   },
   {
    "duration": 11,
    "start_time": "2024-09-23T21:29:20.799Z"
   },
   {
    "duration": 12,
    "start_time": "2024-09-23T21:29:20.812Z"
   },
   {
    "duration": 7,
    "start_time": "2024-09-23T21:29:20.826Z"
   },
   {
    "duration": 38,
    "start_time": "2024-09-23T21:29:20.835Z"
   },
   {
    "duration": 9,
    "start_time": "2024-09-23T21:29:20.875Z"
   },
   {
    "duration": 2,
    "start_time": "2024-09-23T21:29:20.886Z"
   },
   {
    "duration": 8,
    "start_time": "2024-09-23T21:29:20.889Z"
   },
   {
    "duration": 13,
    "start_time": "2024-09-23T21:29:20.898Z"
   },
   {
    "duration": 254,
    "start_time": "2024-09-23T21:29:20.916Z"
   },
   {
    "duration": 0,
    "start_time": "2024-09-23T21:29:21.172Z"
   },
   {
    "duration": 0,
    "start_time": "2024-09-23T21:29:21.173Z"
   },
   {
    "duration": 0,
    "start_time": "2024-09-23T21:29:21.175Z"
   },
   {
    "duration": 0,
    "start_time": "2024-09-23T21:29:21.176Z"
   },
   {
    "duration": 0,
    "start_time": "2024-09-23T21:29:21.177Z"
   },
   {
    "duration": 0,
    "start_time": "2024-09-23T21:29:21.178Z"
   },
   {
    "duration": 0,
    "start_time": "2024-09-23T21:29:21.179Z"
   },
   {
    "duration": 0,
    "start_time": "2024-09-23T21:29:21.181Z"
   },
   {
    "duration": 0,
    "start_time": "2024-09-23T21:29:21.182Z"
   },
   {
    "duration": 0,
    "start_time": "2024-09-23T21:29:21.184Z"
   },
   {
    "duration": 0,
    "start_time": "2024-09-23T21:29:21.185Z"
   },
   {
    "duration": 0,
    "start_time": "2024-09-23T21:29:21.187Z"
   },
   {
    "duration": 0,
    "start_time": "2024-09-23T21:29:21.188Z"
   },
   {
    "duration": 0,
    "start_time": "2024-09-23T21:29:21.190Z"
   },
   {
    "duration": 0,
    "start_time": "2024-09-23T21:29:21.191Z"
   },
   {
    "duration": 0,
    "start_time": "2024-09-23T21:29:21.192Z"
   },
   {
    "duration": 0,
    "start_time": "2024-09-23T21:29:21.194Z"
   },
   {
    "duration": 0,
    "start_time": "2024-09-23T21:29:21.195Z"
   },
   {
    "duration": 0,
    "start_time": "2024-09-23T21:29:21.197Z"
   },
   {
    "duration": 0,
    "start_time": "2024-09-23T21:29:21.198Z"
   },
   {
    "duration": 0,
    "start_time": "2024-09-23T21:29:21.199Z"
   },
   {
    "duration": 0,
    "start_time": "2024-09-23T21:29:21.200Z"
   },
   {
    "duration": 0,
    "start_time": "2024-09-23T21:29:21.201Z"
   },
   {
    "duration": 0,
    "start_time": "2024-09-23T21:29:21.202Z"
   },
   {
    "duration": 0,
    "start_time": "2024-09-23T21:29:21.203Z"
   },
   {
    "duration": 0,
    "start_time": "2024-09-23T21:29:21.204Z"
   },
   {
    "duration": 0,
    "start_time": "2024-09-23T21:29:21.205Z"
   },
   {
    "duration": 0,
    "start_time": "2024-09-23T21:29:21.206Z"
   },
   {
    "duration": 0,
    "start_time": "2024-09-23T21:29:21.207Z"
   },
   {
    "duration": 0,
    "start_time": "2024-09-23T21:29:21.208Z"
   },
   {
    "duration": 0,
    "start_time": "2024-09-23T21:29:21.209Z"
   },
   {
    "duration": 0,
    "start_time": "2024-09-23T21:29:21.270Z"
   },
   {
    "duration": 0,
    "start_time": "2024-09-23T21:29:21.271Z"
   },
   {
    "duration": 0,
    "start_time": "2024-09-23T21:29:21.272Z"
   },
   {
    "duration": 0,
    "start_time": "2024-09-23T21:29:21.273Z"
   },
   {
    "duration": 0,
    "start_time": "2024-09-23T21:29:21.274Z"
   },
   {
    "duration": 0,
    "start_time": "2024-09-23T21:29:21.275Z"
   },
   {
    "duration": 0,
    "start_time": "2024-09-23T21:29:21.276Z"
   },
   {
    "duration": 0,
    "start_time": "2024-09-23T21:29:21.277Z"
   },
   {
    "duration": 0,
    "start_time": "2024-09-23T21:29:21.278Z"
   },
   {
    "duration": 0,
    "start_time": "2024-09-23T21:29:21.279Z"
   },
   {
    "duration": 0,
    "start_time": "2024-09-23T21:29:21.280Z"
   },
   {
    "duration": 0,
    "start_time": "2024-09-23T21:29:21.281Z"
   },
   {
    "duration": 0,
    "start_time": "2024-09-23T21:29:21.282Z"
   },
   {
    "duration": 754,
    "start_time": "2024-09-23T21:29:40.960Z"
   },
   {
    "duration": 158,
    "start_time": "2024-09-23T21:29:41.719Z"
   },
   {
    "duration": 29,
    "start_time": "2024-09-23T21:29:41.879Z"
   },
   {
    "duration": 30,
    "start_time": "2024-09-23T21:29:41.910Z"
   },
   {
    "duration": 42,
    "start_time": "2024-09-23T21:29:41.943Z"
   },
   {
    "duration": 20,
    "start_time": "2024-09-23T21:29:41.990Z"
   },
   {
    "duration": 16,
    "start_time": "2024-09-23T21:29:42.011Z"
   },
   {
    "duration": 13,
    "start_time": "2024-09-23T21:29:42.029Z"
   },
   {
    "duration": 28,
    "start_time": "2024-09-23T21:29:42.044Z"
   },
   {
    "duration": 16,
    "start_time": "2024-09-23T21:29:42.073Z"
   },
   {
    "duration": 5,
    "start_time": "2024-09-23T21:29:42.092Z"
   },
   {
    "duration": 13,
    "start_time": "2024-09-23T21:29:42.101Z"
   },
   {
    "duration": 15,
    "start_time": "2024-09-23T21:29:42.115Z"
   },
   {
    "duration": 8,
    "start_time": "2024-09-23T21:29:42.135Z"
   },
   {
    "duration": 4,
    "start_time": "2024-09-23T21:29:42.146Z"
   },
   {
    "duration": 17,
    "start_time": "2024-09-23T21:29:42.170Z"
   },
   {
    "duration": 11,
    "start_time": "2024-09-23T21:29:42.189Z"
   },
   {
    "duration": 74,
    "start_time": "2024-09-23T21:29:42.202Z"
   },
   {
    "duration": 4,
    "start_time": "2024-09-23T21:29:42.278Z"
   },
   {
    "duration": 13,
    "start_time": "2024-09-23T21:29:42.284Z"
   },
   {
    "duration": 8,
    "start_time": "2024-09-23T21:29:42.299Z"
   },
   {
    "duration": 24,
    "start_time": "2024-09-23T21:29:42.308Z"
   },
   {
    "duration": 3,
    "start_time": "2024-09-23T21:29:42.336Z"
   },
   {
    "duration": 17,
    "start_time": "2024-09-23T21:29:42.370Z"
   },
   {
    "duration": 9,
    "start_time": "2024-09-23T21:29:42.389Z"
   },
   {
    "duration": 29,
    "start_time": "2024-09-23T21:29:42.401Z"
   },
   {
    "duration": 3,
    "start_time": "2024-09-23T21:29:42.431Z"
   },
   {
    "duration": 38,
    "start_time": "2024-09-23T21:29:42.436Z"
   },
   {
    "duration": 33,
    "start_time": "2024-09-23T21:29:42.476Z"
   },
   {
    "duration": 31,
    "start_time": "2024-09-23T21:29:42.511Z"
   },
   {
    "duration": 47,
    "start_time": "2024-09-23T21:29:42.544Z"
   },
   {
    "duration": 31,
    "start_time": "2024-09-23T21:29:42.593Z"
   },
   {
    "duration": 26,
    "start_time": "2024-09-23T21:29:42.626Z"
   },
   {
    "duration": 36,
    "start_time": "2024-09-23T21:29:42.654Z"
   },
   {
    "duration": 25,
    "start_time": "2024-09-23T21:29:42.692Z"
   },
   {
    "duration": 24,
    "start_time": "2024-09-23T21:29:42.719Z"
   },
   {
    "duration": 44,
    "start_time": "2024-09-23T21:29:42.745Z"
   },
   {
    "duration": 183,
    "start_time": "2024-09-23T21:29:42.790Z"
   },
   {
    "duration": 163,
    "start_time": "2024-09-23T21:29:42.975Z"
   },
   {
    "duration": 4,
    "start_time": "2024-09-23T21:29:43.140Z"
   },
   {
    "duration": 152,
    "start_time": "2024-09-23T21:29:43.150Z"
   },
   {
    "duration": 169,
    "start_time": "2024-09-23T21:29:43.303Z"
   },
   {
    "duration": 147,
    "start_time": "2024-09-23T21:29:43.473Z"
   },
   {
    "duration": 10,
    "start_time": "2024-09-23T21:29:43.622Z"
   },
   {
    "duration": 95,
    "start_time": "2024-09-23T21:29:43.634Z"
   },
   {
    "duration": 186,
    "start_time": "2024-09-23T21:29:43.731Z"
   },
   {
    "duration": 150,
    "start_time": "2024-09-23T21:29:43.918Z"
   },
   {
    "duration": 11,
    "start_time": "2024-09-23T21:29:44.070Z"
   },
   {
    "duration": 105,
    "start_time": "2024-09-23T21:29:44.083Z"
   },
   {
    "duration": 179,
    "start_time": "2024-09-23T21:29:44.191Z"
   },
   {
    "duration": 167,
    "start_time": "2024-09-23T21:29:44.372Z"
   },
   {
    "duration": 10,
    "start_time": "2024-09-23T21:29:44.541Z"
   },
   {
    "duration": 93,
    "start_time": "2024-09-23T21:29:44.552Z"
   },
   {
    "duration": 4,
    "start_time": "2024-09-23T21:29:44.646Z"
   },
   {
    "duration": 4,
    "start_time": "2024-09-23T21:29:44.652Z"
   },
   {
    "duration": 0,
    "start_time": "2024-09-23T21:29:44.670Z"
   },
   {
    "duration": 0,
    "start_time": "2024-09-23T21:29:44.672Z"
   },
   {
    "duration": 0,
    "start_time": "2024-09-23T21:29:44.673Z"
   },
   {
    "duration": 0,
    "start_time": "2024-09-23T21:29:44.674Z"
   },
   {
    "duration": 12,
    "start_time": "2024-09-23T21:30:10.620Z"
   },
   {
    "duration": 5,
    "start_time": "2024-09-23T21:30:36.791Z"
   },
   {
    "duration": 4,
    "start_time": "2024-09-23T21:30:39.652Z"
   },
   {
    "duration": 725,
    "start_time": "2024-09-24T01:55:48.045Z"
   },
   {
    "duration": 153,
    "start_time": "2024-09-24T01:55:48.773Z"
   },
   {
    "duration": 30,
    "start_time": "2024-09-24T01:55:48.927Z"
   },
   {
    "duration": 23,
    "start_time": "2024-09-24T01:55:48.960Z"
   },
   {
    "duration": 18,
    "start_time": "2024-09-24T01:55:48.984Z"
   },
   {
    "duration": 30,
    "start_time": "2024-09-24T01:55:49.005Z"
   },
   {
    "duration": 12,
    "start_time": "2024-09-24T01:55:49.037Z"
   },
   {
    "duration": 7,
    "start_time": "2024-09-24T01:55:49.050Z"
   },
   {
    "duration": 9,
    "start_time": "2024-09-24T01:55:49.059Z"
   },
   {
    "duration": 9,
    "start_time": "2024-09-24T01:55:49.071Z"
   },
   {
    "duration": 2,
    "start_time": "2024-09-24T01:55:49.082Z"
   },
   {
    "duration": 46,
    "start_time": "2024-09-24T01:55:49.085Z"
   },
   {
    "duration": 14,
    "start_time": "2024-09-24T01:55:49.133Z"
   },
   {
    "duration": 5,
    "start_time": "2024-09-24T01:55:49.148Z"
   },
   {
    "duration": 2,
    "start_time": "2024-09-24T01:55:49.155Z"
   },
   {
    "duration": 15,
    "start_time": "2024-09-24T01:55:49.158Z"
   },
   {
    "duration": 10,
    "start_time": "2024-09-24T01:55:49.174Z"
   },
   {
    "duration": 74,
    "start_time": "2024-09-24T01:55:49.185Z"
   },
   {
    "duration": 2,
    "start_time": "2024-09-24T01:55:49.261Z"
   },
   {
    "duration": 12,
    "start_time": "2024-09-24T01:55:49.265Z"
   },
   {
    "duration": 8,
    "start_time": "2024-09-24T01:55:49.278Z"
   },
   {
    "duration": 44,
    "start_time": "2024-09-24T01:55:49.287Z"
   },
   {
    "duration": 2,
    "start_time": "2024-09-24T01:55:49.334Z"
   },
   {
    "duration": 13,
    "start_time": "2024-09-24T01:55:49.338Z"
   },
   {
    "duration": 10,
    "start_time": "2024-09-24T01:55:49.352Z"
   },
   {
    "duration": 27,
    "start_time": "2024-09-24T01:55:49.364Z"
   },
   {
    "duration": 2,
    "start_time": "2024-09-24T01:55:49.394Z"
   },
   {
    "duration": 32,
    "start_time": "2024-09-24T01:55:49.400Z"
   },
   {
    "duration": 30,
    "start_time": "2024-09-24T01:55:49.434Z"
   },
   {
    "duration": 22,
    "start_time": "2024-09-24T01:55:49.466Z"
   },
   {
    "duration": 42,
    "start_time": "2024-09-24T01:55:49.489Z"
   },
   {
    "duration": 24,
    "start_time": "2024-09-24T01:55:49.533Z"
   },
   {
    "duration": 24,
    "start_time": "2024-09-24T01:55:49.559Z"
   },
   {
    "duration": 16,
    "start_time": "2024-09-24T01:55:49.585Z"
   },
   {
    "duration": 46,
    "start_time": "2024-09-24T01:55:49.603Z"
   },
   {
    "duration": 24,
    "start_time": "2024-09-24T01:55:49.651Z"
   },
   {
    "duration": 21,
    "start_time": "2024-09-24T01:55:49.677Z"
   },
   {
    "duration": 233,
    "start_time": "2024-09-24T01:55:49.699Z"
   },
   {
    "duration": 167,
    "start_time": "2024-09-24T01:55:49.934Z"
   },
   {
    "duration": 4,
    "start_time": "2024-09-24T01:55:50.103Z"
   },
   {
    "duration": 153,
    "start_time": "2024-09-24T01:55:50.108Z"
   },
   {
    "duration": 173,
    "start_time": "2024-09-24T01:55:50.263Z"
   },
   {
    "duration": 149,
    "start_time": "2024-09-24T01:55:50.438Z"
   },
   {
    "duration": 10,
    "start_time": "2024-09-24T01:55:50.589Z"
   },
   {
    "duration": 91,
    "start_time": "2024-09-24T01:55:50.600Z"
   },
   {
    "duration": 187,
    "start_time": "2024-09-24T01:55:50.692Z"
   },
   {
    "duration": 152,
    "start_time": "2024-09-24T01:55:50.881Z"
   },
   {
    "duration": 13,
    "start_time": "2024-09-24T01:55:51.035Z"
   },
   {
    "duration": 99,
    "start_time": "2024-09-24T01:55:51.050Z"
   },
   {
    "duration": 183,
    "start_time": "2024-09-24T01:55:51.150Z"
   },
   {
    "duration": 162,
    "start_time": "2024-09-24T01:55:51.335Z"
   },
   {
    "duration": 10,
    "start_time": "2024-09-24T01:55:51.499Z"
   },
   {
    "duration": 97,
    "start_time": "2024-09-24T01:55:51.511Z"
   },
   {
    "duration": 4,
    "start_time": "2024-09-24T01:55:51.610Z"
   },
   {
    "duration": 17,
    "start_time": "2024-09-24T01:55:51.615Z"
   },
   {
    "duration": 11,
    "start_time": "2024-09-24T01:55:51.633Z"
   },
   {
    "duration": 2,
    "start_time": "2024-09-24T01:55:51.646Z"
   },
   {
    "duration": 5,
    "start_time": "2024-09-24T01:55:51.650Z"
   },
   {
    "duration": 7,
    "start_time": "2024-09-24T02:36:50.581Z"
   },
   {
    "duration": 170,
    "start_time": "2024-09-24T02:37:16.549Z"
   },
   {
    "duration": 13,
    "start_time": "2024-09-24T02:45:27.463Z"
   },
   {
    "duration": 3,
    "start_time": "2024-10-13T23:47:21.558Z"
   },
   {
    "duration": 159,
    "start_time": "2024-10-13T23:48:37.477Z"
   },
   {
    "duration": 2467,
    "start_time": "2024-10-13T23:48:50.382Z"
   },
   {
    "duration": 266,
    "start_time": "2024-10-13T23:48:52.852Z"
   },
   {
    "duration": 3,
    "start_time": "2024-10-13T23:48:53.120Z"
   },
   {
    "duration": 31,
    "start_time": "2024-10-13T23:48:53.125Z"
   },
   {
    "duration": 22,
    "start_time": "2024-10-13T23:48:53.158Z"
   },
   {
    "duration": 27,
    "start_time": "2024-10-13T23:48:53.182Z"
   },
   {
    "duration": 11,
    "start_time": "2024-10-13T23:48:53.210Z"
   },
   {
    "duration": 12,
    "start_time": "2024-10-13T23:48:53.223Z"
   },
   {
    "duration": 9,
    "start_time": "2024-10-13T23:48:53.236Z"
   },
   {
    "duration": 8,
    "start_time": "2024-10-13T23:48:53.248Z"
   },
   {
    "duration": 9,
    "start_time": "2024-10-13T23:48:53.258Z"
   },
   {
    "duration": 40,
    "start_time": "2024-10-13T23:48:53.269Z"
   },
   {
    "duration": 9,
    "start_time": "2024-10-13T23:48:53.311Z"
   },
   {
    "duration": 14,
    "start_time": "2024-10-13T23:48:53.321Z"
   },
   {
    "duration": 5,
    "start_time": "2024-10-13T23:48:53.337Z"
   },
   {
    "duration": 2,
    "start_time": "2024-10-13T23:48:53.344Z"
   },
   {
    "duration": 16,
    "start_time": "2024-10-13T23:48:53.348Z"
   },
   {
    "duration": 8,
    "start_time": "2024-10-13T23:48:53.368Z"
   },
   {
    "duration": 42,
    "start_time": "2024-10-13T23:48:53.409Z"
   },
   {
    "duration": 2,
    "start_time": "2024-10-13T23:48:53.453Z"
   },
   {
    "duration": 11,
    "start_time": "2024-10-13T23:48:53.457Z"
   },
   {
    "duration": 6,
    "start_time": "2024-10-13T23:48:53.470Z"
   },
   {
    "duration": 50,
    "start_time": "2024-10-13T23:48:53.478Z"
   },
   {
    "duration": 2,
    "start_time": "2024-10-13T23:48:53.530Z"
   },
   {
    "duration": 13,
    "start_time": "2024-10-13T23:48:53.533Z"
   },
   {
    "duration": 8,
    "start_time": "2024-10-13T23:48:53.548Z"
   },
   {
    "duration": 50,
    "start_time": "2024-10-13T23:48:53.558Z"
   },
   {
    "duration": 2,
    "start_time": "2024-10-13T23:48:53.613Z"
   },
   {
    "duration": 8,
    "start_time": "2024-10-13T23:48:53.617Z"
   },
   {
    "duration": 30,
    "start_time": "2024-10-13T23:48:53.627Z"
   },
   {
    "duration": 21,
    "start_time": "2024-10-13T23:48:53.659Z"
   },
   {
    "duration": 44,
    "start_time": "2024-10-13T23:48:53.682Z"
   },
   {
    "duration": 23,
    "start_time": "2024-10-13T23:48:53.728Z"
   },
   {
    "duration": 25,
    "start_time": "2024-10-13T23:48:53.753Z"
   },
   {
    "duration": 39,
    "start_time": "2024-10-13T23:48:53.780Z"
   },
   {
    "duration": 18,
    "start_time": "2024-10-13T23:48:53.823Z"
   },
   {
    "duration": 23,
    "start_time": "2024-10-13T23:48:53.843Z"
   },
   {
    "duration": 43,
    "start_time": "2024-10-13T23:48:53.868Z"
   },
   {
    "duration": 207,
    "start_time": "2024-10-13T23:48:53.912Z"
   },
   {
    "duration": 158,
    "start_time": "2024-10-13T23:48:54.122Z"
   },
   {
    "duration": 4,
    "start_time": "2024-10-13T23:48:54.282Z"
   },
   {
    "duration": 98,
    "start_time": "2024-10-13T23:48:54.288Z"
   },
   {
    "duration": 174,
    "start_time": "2024-10-13T23:48:54.388Z"
   },
   {
    "duration": 148,
    "start_time": "2024-10-13T23:48:54.564Z"
   },
   {
    "duration": 13,
    "start_time": "2024-10-13T23:48:54.714Z"
   },
   {
    "duration": 105,
    "start_time": "2024-10-13T23:48:54.729Z"
   },
   {
    "duration": 266,
    "start_time": "2024-10-13T23:48:54.838Z"
   },
   {
    "duration": 149,
    "start_time": "2024-10-13T23:48:55.109Z"
   },
   {
    "duration": 13,
    "start_time": "2024-10-13T23:48:55.260Z"
   },
   {
    "duration": 107,
    "start_time": "2024-10-13T23:48:55.275Z"
   },
   {
    "duration": 191,
    "start_time": "2024-10-13T23:48:55.384Z"
   },
   {
    "duration": 171,
    "start_time": "2024-10-13T23:48:55.577Z"
   },
   {
    "duration": 10,
    "start_time": "2024-10-13T23:48:55.750Z"
   },
   {
    "duration": 103,
    "start_time": "2024-10-13T23:48:55.761Z"
   },
   {
    "duration": 4,
    "start_time": "2024-10-13T23:48:55.867Z"
   },
   {
    "duration": 4,
    "start_time": "2024-10-13T23:48:55.872Z"
   },
   {
    "duration": 13,
    "start_time": "2024-10-13T23:48:55.877Z"
   },
   {
    "duration": 2,
    "start_time": "2024-10-13T23:48:55.910Z"
   },
   {
    "duration": 7,
    "start_time": "2024-10-13T23:48:55.914Z"
   },
   {
    "duration": 4,
    "start_time": "2024-10-13T23:48:55.923Z"
   },
   {
    "duration": 10,
    "start_time": "2024-10-13T23:51:29.957Z"
   },
   {
    "duration": 2,
    "start_time": "2024-10-14T00:00:21.899Z"
   },
   {
    "duration": 7,
    "start_time": "2024-10-14T00:01:15.628Z"
   },
   {
    "duration": 3,
    "start_time": "2024-10-14T00:01:29.394Z"
   }
  ],
  "colab": {
   "provenance": []
  },
  "kernelspec": {
   "display_name": "Python 3 (ipykernel)",
   "language": "python",
   "name": "python3"
  },
  "language_info": {
   "codemirror_mode": {
    "name": "ipython",
    "version": 3
   },
   "file_extension": ".py",
   "mimetype": "text/x-python",
   "name": "python",
   "nbconvert_exporter": "python",
   "pygments_lexer": "ipython3",
   "version": "3.12.4"
  },
  "toc": {
   "base_numbering": 1,
   "nav_menu": {},
   "number_sections": true,
   "sideBar": true,
   "skip_h1_title": false,
   "title_cell": "Table of Contents",
   "title_sidebar": "Contents",
   "toc_cell": false,
   "toc_position": {
    "height": "calc(100% - 180px)",
    "left": "10px",
    "top": "150px",
    "width": "298.301px"
   },
   "toc_section_display": true,
   "toc_window_display": true
  }
 },
 "nbformat": 4,
 "nbformat_minor": 4
}
